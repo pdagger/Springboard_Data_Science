{
 "cells": [
  {
   "cell_type": "code",
   "execution_count": 1,
   "metadata": {},
   "outputs": [
    {
     "name": "stderr",
     "output_type": "stream",
     "text": [
      "Using TensorFlow backend.\n"
     ]
    }
   ],
   "source": [
    "from keras.utils import np_utils\n",
    "import numpy as np\n",
    "from glob import glob\n",
    "import cv2\n",
    "import matplotlib.pyplot as plt\n",
    "import os\n",
    "%matplotlib inline"
   ]
  },
  {
   "cell_type": "code",
   "execution_count": 2,
   "metadata": {},
   "outputs": [
    {
     "name": "stdout",
     "output_type": "stream",
     "text": [
      "Default GPU Device: /device:GPU:0\n"
     ]
    }
   ],
   "source": [
    "import tensorflow as tf\n",
    "# Checking GPU\n",
    "if tf.test.gpu_device_name():\n",
    "    print('Default GPU Device: {}'.format(tf.test.gpu_device_name()))\n",
    "else:\n",
    "    print(\"Please install GPU version of TF\")"
   ]
  },
  {
   "cell_type": "markdown",
   "metadata": {},
   "source": [
    "The data is divided into folders were each folder corresponds to a patient."
   ]
  },
  {
   "cell_type": "code",
   "execution_count": 3,
   "metadata": {},
   "outputs": [
    {
     "name": "stdout",
     "output_type": "stream",
     "text": [
      "Number of patients: 279\n"
     ]
    }
   ],
   "source": [
    "# Path to data\n",
    "path = \"./Data/IDC_regular_ps50_idx5\"\n",
    "# Identify data folders\n",
    "folders = [folder for folder in os.listdir(path)]\n",
    "\n",
    "print(\"Number of patients: %d\" %len(folders))"
   ]
  },
  {
   "cell_type": "markdown",
   "metadata": {},
   "source": [
    "Let's look to an image and its shape:"
   ]
  },
  {
   "cell_type": "code",
   "execution_count": 4,
   "metadata": {},
   "outputs": [
    {
     "name": "stdout",
     "output_type": "stream",
     "text": [
      "Image shape: (50, 50, 3)\n"
     ]
    },
    {
     "data": {
      "image/png": "[encoded data removed]",
      "text/plain": [
       "<matplotlib.figure.Figure at 0x7f2a0ea77da0>"
      ]
     },
     "metadata": {},
     "output_type": "display_data"
    }
   ],
   "source": [
    "img = cv2.imread(path + '/' + '10264' + '/' + '0' + '/' + '10264_idx5_x51_y1651_class0.png')\n",
    "# Convert to RGB\n",
    "img = cv2.cvtColor(img, cv2.COLOR_BGR2RGB)\n",
    "plt.imshow(img)\n",
    "print(\"Image shape: {}\".format(img.shape))"
   ]
  },
  {
   "cell_type": "markdown",
   "metadata": {},
   "source": [
    "Function to load the images:"
   ]
  },
  {
   "cell_type": "code",
   "execution_count": 5,
   "metadata": {},
   "outputs": [],
   "source": [
    "def path_to_tensor(img_path):\n",
    "    # load images\n",
    "    img = cv2.imread(img_path)\n",
    "    # Convert to RGB\n",
    "    img = cv2.cvtColor(img, cv2.COLOR_BGR2RGB)\n",
    "    if img.shape == (50, 50, 3):\n",
    "        # convert 3D tensor to 4D tensor with shape (1, 50, 50, 3) and return 4D tensor\n",
    "        #return np.expand_dims(img, axis=0)\n",
    "        return img.astype(np.float32) / 255\n",
    "        #return img.reshape([50,50,3])\n",
    "\n",
    "def paths_to_tensor(img_paths):\n",
    "    list_of_tensors = [path_to_tensor(img_path) for img_path in tqdm(img_paths)]\n",
    "    return np.vstack(list_of_tensors)\n"
   ]
  },
  {
   "cell_type": "markdown",
   "metadata": {},
   "source": [
    "Each patient's folder contains two folders: a folder with non cancer images and a folder with cancerous tissue images."
   ]
  },
  {
   "cell_type": "code",
   "execution_count": 6,
   "metadata": {},
   "outputs": [],
   "source": [
    "# Healthy tissue is on folder 0 and cancerous tissue in folder 1\n",
    "folder_label = ['0', '1']\n",
    "images = []\n",
    "labels = []\n",
    "\n",
    "for folder in folders:\n",
    "    # Read from folder 0 and create corresponding label array\n",
    "    path_0 = path + '/' + folder + '/' + folder_label[0]\n",
    "    images_0 = [path_to_tensor(path_0 + '/' + img_path) for img_path in os.listdir(path_0) \\\n",
    "               if path_to_tensor(path_0 + '/' + img_path) is not None]\n",
    "    labels_0 = np.zeros(len(images_0), dtype=np.int8)\n",
    "    images.extend(images_0)\n",
    "    labels.extend(labels_0)\n",
    "    # Read from folder 1 and create corresponding label array\n",
    "    path_1 = path + '/' + folder + '/' + folder_label[1]\n",
    "    images_1 = [path_to_tensor(path_1 + '/' + img_path) for img_path in os.listdir(path_1) \\\n",
    "               if path_to_tensor(path_1 + '/' + img_path) is not None]\n",
    "    labels_1 = np.ones(len(images_1), dtype=np.int8)\n",
    "    images.extend(images_1)\n",
    "    labels.extend(labels_1)    "
   ]
  },
  {
   "cell_type": "code",
   "execution_count": 8,
   "metadata": {
    "scrolled": true
   },
   "outputs": [
    {
     "name": "stdout",
     "output_type": "stream",
     "text": [
      "Number of images: 275222\n",
      "Number of labels: 275222\n"
     ]
    },
    {
     "data": {
      "image/png": "[encoded data removed]",
      "text/plain": [
       "<matplotlib.figure.Figure at 0x7f2a0c1d4f60>"
      ]
     },
     "metadata": {},
     "output_type": "display_data"
    }
   ],
   "source": [
    "images = np.array(images)\n",
    "labels = np.array(labels)\n",
    "print(\"Number of images: {}\".format(len(images)))\n",
    "print(\"Number of labels: {}\".format(len(labels)))\n",
    "\n",
    "_ = plt.imshow(images[0])"
   ]
  },
  {
   "cell_type": "code",
   "execution_count": 9,
   "metadata": {},
   "outputs": [
    {
     "name": "stdout",
     "output_type": "stream",
     "text": [
      "Number of 1 labels: 78768\n",
      "Number of 0 labels: 196454\n"
     ]
    }
   ],
   "source": [
    "print(\"Number of 1 labels: {}\".format(np.sum(labels)))\n",
    "print(\"Number of 0 labels: {}\".format(len(labels) - np.sum(labels)))"
   ]
  },
  {
   "cell_type": "markdown",
   "metadata": {},
   "source": [
    "Let's divide the patients bewteen a training set, validation set. 90% of the patients are held for training, 10% are assigned for testing and the remaining are kept for validation. The training set is further divided to get also a test set to develop the model"
   ]
  },
  {
   "cell_type": "code",
   "execution_count": 10,
   "metadata": {},
   "outputs": [],
   "source": [
    "from sklearn.model_selection import train_test_split\n",
    "\n",
    "seed = 42\n",
    "np.random.seed(seed)\n",
    "idx_train, idx_val = train_test_split(np.arange(labels.shape[0]), test_size=0.1, \\\n",
    "                                      random_state=seed, shuffle=True, stratify=labels)"
   ]
  },
  {
   "cell_type": "markdown",
   "metadata": {},
   "source": [
    "Define model architecture:"
   ]
  },
  {
   "cell_type": "code",
   "execution_count": 17,
   "metadata": {},
   "outputs": [
    {
     "name": "stdout",
     "output_type": "stream",
     "text": [
      "_________________________________________________________________\n",
      "Layer (type)                 Output Shape              Param #   \n",
      "=================================================================\n",
      "conv2d_4 (Conv2D)            (None, 50, 50, 32)        896       \n",
      "_________________________________________________________________\n",
      "max_pooling2d_4 (MaxPooling2 (None, 16, 16, 32)        0         \n",
      "_________________________________________________________________\n",
      "dropout_3 (Dropout)          (None, 16, 16, 32)        0         \n",
      "_________________________________________________________________\n",
      "conv2d_5 (Conv2D)            (None, 16, 16, 64)        18496     \n",
      "_________________________________________________________________\n",
      "max_pooling2d_5 (MaxPooling2 (None, 5, 5, 64)          0         \n",
      "_________________________________________________________________\n",
      "dropout_4 (Dropout)          (None, 5, 5, 64)          0         \n",
      "_________________________________________________________________\n",
      "conv2d_6 (Conv2D)            (None, 5, 5, 128)         73856     \n",
      "_________________________________________________________________\n",
      "max_pooling2d_6 (MaxPooling2 (None, 1, 1, 128)         0         \n",
      "_________________________________________________________________\n",
      "flatten_2 (Flatten)          (None, 128)               0         \n",
      "_________________________________________________________________\n",
      "dense_3 (Dense)              (None, 64)                8256      \n",
      "_________________________________________________________________\n",
      "dense_4 (Dense)              (None, 1)                 65        \n",
      "=================================================================\n",
      "Total params: 101,569\n",
      "Trainable params: 101,569\n",
      "Non-trainable params: 0\n",
      "_________________________________________________________________\n"
     ]
    }
   ],
   "source": [
    "from keras.layers import Conv2D, MaxPooling2D, GlobalAveragePooling2D\n",
    "from keras.layers import Dropout, Flatten, Dense\n",
    "from keras.models import Sequential\n",
    "\n",
    "model = Sequential()\n",
    "\n",
    "### Architecture\n",
    "# Layer 1 : input layer\n",
    "model.add(Conv2D(filters=32, kernel_size=3, padding='same', \\\n",
    "                activation='relu', input_shape=(50,50,3)))\n",
    "model.add(MaxPooling2D(pool_size=3))\n",
    "model.add(Dropout(0.2))\n",
    "# Layer 2\n",
    "model.add(Conv2D(filters=64, kernel_size=3, padding='same', \\\n",
    "                activation='relu'))\n",
    "model.add(MaxPooling2D(pool_size=3))\n",
    "model.add(Dropout(0.2))\n",
    "# Layer 3\n",
    "model.add(Conv2D(filters=128, kernel_size=3, padding='same', \\\n",
    "                activation='relu'))\n",
    "model.add(MaxPooling2D(pool_size=3))\n",
    "#model.add(GlobalAveragePooling2D('channels_last'))\n",
    "model.add(Flatten())\n",
    "# Layer 4\n",
    "model.add(Dense(64, activation='relu'))\n",
    "# Output layer\n",
    "model.add(Dense(1, activation='sigmoid'))\n",
    "\n",
    "model.summary()"
   ]
  },
  {
   "cell_type": "markdown",
   "metadata": {},
   "source": [
    "Compile model:"
   ]
  },
  {
   "cell_type": "code",
   "execution_count": 18,
   "metadata": {},
   "outputs": [],
   "source": [
    "model.compile(optimizer='adam', loss='binary_crossentropy', metrics=['accuracy'])"
   ]
  },
  {
   "cell_type": "code",
   "execution_count": 19,
   "metadata": {},
   "outputs": [
    {
     "name": "stdout",
     "output_type": "stream",
     "text": [
      "Train on 222929 samples, validate on 24770 samples\n",
      "Epoch 1/100\n",
      "222929/222929 [==============================] - 15s 68us/step - loss: 0.7019 - acc: 0.7809 - val_loss: 0.6834 - val_acc: 0.7430\n",
      "\n",
      "Epoch 00001: val_loss improved from inf to 0.68341, saving model to ./saved_models/weights.best.CNN_arch.hdf5\n",
      "Epoch 2/100\n",
      "222929/222929 [==============================] - 15s 66us/step - loss: 0.6267 - acc: 0.8064 - val_loss: 0.7020 - val_acc: 0.7073\n",
      "\n",
      "Epoch 00002: val_loss did not improve from 0.68341\n",
      "Epoch 3/100\n",
      "222929/222929 [==============================] - 15s 69us/step - loss: 0.5933 - acc: 0.8184 - val_loss: 0.5818 - val_acc: 0.8254\n",
      "\n",
      "Epoch 00003: val_loss improved from 0.68341 to 0.58180, saving model to ./saved_models/weights.best.CNN_arch.hdf5\n",
      "Epoch 4/100\n",
      "222929/222929 [==============================] - 15s 68us/step - loss: 0.5798 - acc: 0.8240 - val_loss: 0.5647 - val_acc: 0.8405\n",
      "\n",
      "Epoch 00004: val_loss improved from 0.58180 to 0.56473, saving model to ./saved_models/weights.best.CNN_arch.hdf5\n",
      "Epoch 5/100\n",
      "222929/222929 [==============================] - 15s 68us/step - loss: 0.5663 - acc: 0.8283 - val_loss: 0.5673 - val_acc: 0.8059\n",
      "\n",
      "Epoch 00005: val_loss did not improve from 0.56473\n",
      "Epoch 6/100\n",
      "222929/222929 [==============================] - 15s 67us/step - loss: 0.5600 - acc: 0.8307 - val_loss: 0.5765 - val_acc: 0.7932\n",
      "\n",
      "Epoch 00006: val_loss did not improve from 0.56473\n",
      "Epoch 7/100\n",
      "222929/222929 [==============================] - 15s 68us/step - loss: 0.5526 - acc: 0.8340 - val_loss: 0.5602 - val_acc: 0.8101\n",
      "\n",
      "Epoch 00007: val_loss improved from 0.56473 to 0.56020, saving model to ./saved_models/weights.best.CNN_arch.hdf5\n",
      "Epoch 8/100\n",
      "222929/222929 [==============================] - 15s 69us/step - loss: 0.5461 - acc: 0.8354 - val_loss: 0.5681 - val_acc: 0.7999\n",
      "\n",
      "Epoch 00008: val_loss did not improve from 0.56020\n",
      "Epoch 9/100\n",
      "222929/222929 [==============================] - 15s 68us/step - loss: 0.5426 - acc: 0.8371 - val_loss: 0.5764 - val_acc: 0.7873\n",
      "\n",
      "Epoch 00009: val_loss did not improve from 0.56020\n",
      "Epoch 10/100\n",
      "222929/222929 [==============================] - 15s 68us/step - loss: 0.5344 - acc: 0.8390 - val_loss: 0.5695 - val_acc: 0.7862\n",
      "\n",
      "Epoch 00010: val_loss did not improve from 0.56020\n",
      "Epoch 11/100\n",
      "222929/222929 [==============================] - 15s 68us/step - loss: 0.5331 - acc: 0.8401 - val_loss: 0.5495 - val_acc: 0.8122\n",
      "\n",
      "Epoch 00011: val_loss improved from 0.56020 to 0.54950, saving model to ./saved_models/weights.best.CNN_arch.hdf5\n",
      "Epoch 12/100\n",
      "222929/222929 [==============================] - 15s 67us/step - loss: 0.5317 - acc: 0.8404 - val_loss: 0.6419 - val_acc: 0.7411\n",
      "\n",
      "Epoch 00012: val_loss did not improve from 0.54950\n",
      "Epoch 13/100\n",
      "222929/222929 [==============================] - 15s 66us/step - loss: 0.5275 - acc: 0.8406 - val_loss: 0.5195 - val_acc: 0.8365\n",
      "\n",
      "Epoch 00013: val_loss improved from 0.54950 to 0.51949, saving model to ./saved_models/weights.best.CNN_arch.hdf5\n",
      "Epoch 14/100\n",
      "222929/222929 [==============================] - 15s 66us/step - loss: 0.5198 - acc: 0.8436 - val_loss: 0.5774 - val_acc: 0.7798\n",
      "\n",
      "Epoch 00014: val_loss did not improve from 0.51949\n",
      "Epoch 15/100\n",
      "222929/222929 [==============================] - 15s 67us/step - loss: 0.5178 - acc: 0.8447 - val_loss: 0.5174 - val_acc: 0.8346\n",
      "\n",
      "Epoch 00015: val_loss improved from 0.51949 to 0.51737, saving model to ./saved_models/weights.best.CNN_arch.hdf5\n",
      "Epoch 16/100\n",
      "222929/222929 [==============================] - 15s 67us/step - loss: 0.5147 - acc: 0.8454 - val_loss: 0.5427 - val_acc: 0.8105\n",
      "\n",
      "Epoch 00016: val_loss did not improve from 0.51737\n",
      "Epoch 17/100\n",
      "222929/222929 [==============================] - 15s 67us/step - loss: 0.5110 - acc: 0.8461 - val_loss: 0.5163 - val_acc: 0.8339\n",
      "\n",
      "Epoch 00017: val_loss improved from 0.51737 to 0.51631, saving model to ./saved_models/weights.best.CNN_arch.hdf5\n",
      "Epoch 18/100\n",
      "222929/222929 [==============================] - 15s 67us/step - loss: 0.5073 - acc: 0.8484 - val_loss: 0.5103 - val_acc: 0.8342\n",
      "\n",
      "Epoch 00018: val_loss improved from 0.51631 to 0.51032, saving model to ./saved_models/weights.best.CNN_arch.hdf5\n",
      "Epoch 19/100\n",
      "222929/222929 [==============================] - 15s 69us/step - loss: 0.5065 - acc: 0.8480 - val_loss: 0.5205 - val_acc: 0.8294\n",
      "\n",
      "Epoch 00019: val_loss did not improve from 0.51032\n",
      "Epoch 20/100\n",
      "222929/222929 [==============================] - 15s 69us/step - loss: 0.5039 - acc: 0.8482 - val_loss: 0.5259 - val_acc: 0.8208\n",
      "\n",
      "Epoch 00020: val_loss did not improve from 0.51032\n",
      "Epoch 21/100\n",
      "222929/222929 [==============================] - 16s 70us/step - loss: 0.4995 - acc: 0.8499 - val_loss: 0.5083 - val_acc: 0.8312\n",
      "\n",
      "Epoch 00021: val_loss improved from 0.51032 to 0.50833, saving model to ./saved_models/weights.best.CNN_arch.hdf5\n",
      "Epoch 22/100\n",
      "222929/222929 [==============================] - 15s 68us/step - loss: 0.4964 - acc: 0.8515 - val_loss: 0.5486 - val_acc: 0.7999\n",
      "\n",
      "Epoch 00022: val_loss did not improve from 0.50833\n",
      "Epoch 23/100\n",
      "222929/222929 [==============================] - 15s 68us/step - loss: 0.4947 - acc: 0.8516 - val_loss: 0.5070 - val_acc: 0.8308\n",
      "\n",
      "Epoch 00023: val_loss improved from 0.50833 to 0.50701, saving model to ./saved_models/weights.best.CNN_arch.hdf5\n",
      "Epoch 24/100\n",
      "222929/222929 [==============================] - 15s 69us/step - loss: 0.4933 - acc: 0.8514 - val_loss: 0.5166 - val_acc: 0.8210\n",
      "\n",
      "Epoch 00024: val_loss did not improve from 0.50701\n",
      "Epoch 25/100\n",
      "222929/222929 [==============================] - 15s 68us/step - loss: 0.4933 - acc: 0.8523 - val_loss: 0.4982 - val_acc: 0.8484\n",
      "\n",
      "Epoch 00025: val_loss improved from 0.50701 to 0.49817, saving model to ./saved_models/weights.best.CNN_arch.hdf5\n",
      "Epoch 26/100\n",
      "222929/222929 [==============================] - 15s 67us/step - loss: 0.4883 - acc: 0.8541 - val_loss: 0.5214 - val_acc: 0.8213\n",
      "\n",
      "Epoch 00026: val_loss did not improve from 0.49817\n",
      "Epoch 27/100\n",
      "222929/222929 [==============================] - 15s 68us/step - loss: 0.4852 - acc: 0.8543 - val_loss: 0.5767 - val_acc: 0.7761\n",
      "\n",
      "Epoch 00027: val_loss did not improve from 0.49817\n",
      "Epoch 28/100\n",
      "222929/222929 [==============================] - 16s 70us/step - loss: 0.4815 - acc: 0.8556 - val_loss: 0.5089 - val_acc: 0.8306\n",
      "\n",
      "Epoch 00028: val_loss did not improve from 0.49817\n",
      "Epoch 29/100\n",
      "222929/222929 [==============================] - 15s 68us/step - loss: 0.4853 - acc: 0.8542 - val_loss: 0.5310 - val_acc: 0.8126\n",
      "\n",
      "Epoch 00029: val_loss did not improve from 0.49817\n",
      "Epoch 30/100\n",
      "222929/222929 [==============================] - 15s 67us/step - loss: 0.4802 - acc: 0.8568 - val_loss: 0.4989 - val_acc: 0.8326\n",
      "\n",
      "Epoch 00030: val_loss did not improve from 0.49817\n",
      "Epoch 31/100\n",
      "222929/222929 [==============================] - 15s 67us/step - loss: 0.4771 - acc: 0.8563 - val_loss: 0.5085 - val_acc: 0.8260\n",
      "\n",
      "Epoch 00031: val_loss did not improve from 0.49817\n"
     ]
    },
    {
     "data": {
      "text/plain": [
       "<keras.callbacks.History at 0x7f29d00ba9e8>"
      ]
     },
     "execution_count": 19,
     "metadata": {},
     "output_type": "execute_result"
    }
   ],
   "source": [
    "from keras.callbacks import ModelCheckpoint, EarlyStopping  \n",
    "\n",
    "epochs = 100\n",
    "batch_size = 512\n",
    "\n",
    "stopping_condition = EarlyStopping(patience=6)\n",
    "checkpointer = ModelCheckpoint(filepath='./saved_models/weights.best.CNN_arch.hdf5', \n",
    "                               verbose=1, save_best_only=True)\n",
    "\n",
    "model.fit(images[idx_train], labels[idx_train], \\\n",
    "          validation_split=0.1, \\\n",
    "          epochs=epochs, batch_size=batch_size, class_weight={0:1, 1:2.5},\\\n",
    "          callbacks=[checkpointer, stopping_condition], verbose=1)"
   ]
  },
  {
   "cell_type": "markdown",
   "metadata": {},
   "source": [
    "Load model with best validation loss:"
   ]
  },
  {
   "cell_type": "code",
   "execution_count": 90,
   "metadata": {},
   "outputs": [],
   "source": [
    "model.load_weights('./saved_models/weights.best.CNN_arch.hdf5')"
   ]
  },
  {
   "cell_type": "markdown",
   "metadata": {},
   "source": [
    "Test model in validation set:"
   ]
  },
  {
   "cell_type": "code",
   "execution_count": 91,
   "metadata": {},
   "outputs": [],
   "source": [
    "# get predictions for each image in test set\n",
    "predictions = [np.int(np.round(model.predict(np.expand_dims(image, axis=0)))) \\\n",
    "               for image in images[idx_val]]"
   ]
  },
  {
   "cell_type": "code",
   "execution_count": 92,
   "metadata": {},
   "outputs": [
    {
     "name": "stdout",
     "output_type": "stream",
     "text": [
      "Test accuracy: 84.8418%\n"
     ]
    }
   ],
   "source": [
    "# report test accuracy\n",
    "test_accuracy = np.sum(np.array(predictions)==labels[idx_val])/len(predictions)\n",
    "print('Test accuracy: %.4f%%' %(100*test_accuracy))"
   ]
  },
  {
   "cell_type": "markdown",
   "metadata": {},
   "source": [
    "Calculate F1 score, confusion matrix and ROC curve."
   ]
  },
  {
   "cell_type": "code",
   "execution_count": 93,
   "metadata": {},
   "outputs": [
    {
     "data": {
      "image/png": "[encoded data removed]",
      "text/plain": [
       "<matplotlib.figure.Figure at 0x7f2a0c1bc198>"
      ]
     },
     "metadata": {},
     "output_type": "display_data"
    },
    {
     "name": "stdout",
     "output_type": "stream",
     "text": [
      "Precision for 0 and 1: 94.00% and 68.64%\n",
      "Recall for 0 and 1: 84.14% and 86.59%\n",
      "F1 score for 0 and 1: 88.79% and 76.58%\n",
      "Confusion matrix:\n",
      " [[16530  3116]\n",
      " [ 1056  6821]]\n"
     ]
    }
   ],
   "source": [
    "from sklearn.metrics import precision_recall_fscore_support, confusion_matrix, roc_curve\n",
    "\n",
    "y_test = labels[idx_val]\n",
    "y_pred = np.array(predictions)\n",
    "\n",
    "confusion = confusion_matrix(y_test, y_pred)\n",
    "\n",
    "precision, recall, f1_score, support = precision_recall_fscore_support(y_test, y_pred, beta=1)\n",
    "\n",
    "y_pred_prob = [np.float32(model.predict(np.expand_dims(image, axis=0))) \\\n",
    "               for image in images[idx_val]]\n",
    "y_pred_prob = np.array(y_pred_prob).reshape(-1)\n",
    "\n",
    "fpr, tpr, thresholds = roc_curve(y_test, y_pred_prob)\n",
    "\n",
    "plt.plot([0, 1], [0, 1], 'k--')\n",
    "plt.plot(fpr, tpr, label='CNN')\n",
    "plt.xlabel('False Positive Rate')\n",
    "plt.ylabel('True Positive Rate')\n",
    "plt.title('CNN ROC Curve')\n",
    "plt.show()\n",
    "\n",
    "print(\"Precision for 0 and 1: {:.2f}% and {:.2f}%\".format(precision[0]*100, precision[1]*100))\n",
    "print(\"Recall for 0 and 1: {:.2f}% and {:.2f}%\".format(recall[0]*100, recall[1]*100))\n",
    "print(\"F1 score for 0 and 1: {:.2f}% and {:.2f}%\".format(f1_score[0]*100, f1_score[1]*100))\n",
    "print(\"Confusion matrix:\\n {}\".format(confusion))"
   ]
  },
  {
   "cell_type": "markdown",
   "metadata": {},
   "source": [
    "The classes are unbalanced, images with label 0 more than double images with label 1. So now let's train the model doing image augmentation."
   ]
  },
  {
   "cell_type": "code",
   "execution_count": 23,
   "metadata": {},
   "outputs": [],
   "source": [
    "from keras.preprocessing.image import ImageDataGenerator\n",
    "\n",
    "# Create and configure image generator\n",
    "data_gen_train = ImageDataGenerator(rotation_range=90.0, \\\n",
    "                                    width_shift_range=0.2, \\\n",
    "                                    height_shift_range=0.2, \\\n",
    "                                    horizontal_flip=True)\n",
    "\n",
    "# Fit image generator to data\n",
    "data_gen_train.fit(images[idx_train])"
   ]
  },
  {
   "cell_type": "markdown",
   "metadata": {},
   "source": [
    "Given that augmented data is used, this time the method fit_generator is used. For fit_generator the validation data needs to be specified directly. It cannot represent a percentage of the training input. Then we divide the training data into a train and test sets."
   ]
  },
  {
   "cell_type": "code",
   "execution_count": 24,
   "metadata": {},
   "outputs": [],
   "source": [
    "idx_train_2, idx_test = train_test_split(np.arange(idx_train.shape[0]), test_size=0.1, \\\n",
    "                                      random_state=seed, shuffle=True, stratify=labels[idx_train])"
   ]
  },
  {
   "cell_type": "markdown",
   "metadata": {},
   "source": [
    "Same architecture as before:"
   ]
  },
  {
   "cell_type": "code",
   "execution_count": 25,
   "metadata": {},
   "outputs": [
    {
     "name": "stdout",
     "output_type": "stream",
     "text": [
      "_________________________________________________________________\n",
      "Layer (type)                 Output Shape              Param #   \n",
      "=================================================================\n",
      "conv2d_7 (Conv2D)            (None, 50, 50, 32)        896       \n",
      "_________________________________________________________________\n",
      "max_pooling2d_7 (MaxPooling2 (None, 16, 16, 32)        0         \n",
      "_________________________________________________________________\n",
      "dropout_5 (Dropout)          (None, 16, 16, 32)        0         \n",
      "_________________________________________________________________\n",
      "conv2d_8 (Conv2D)            (None, 16, 16, 64)        18496     \n",
      "_________________________________________________________________\n",
      "max_pooling2d_8 (MaxPooling2 (None, 5, 5, 64)          0         \n",
      "_________________________________________________________________\n",
      "dropout_6 (Dropout)          (None, 5, 5, 64)          0         \n",
      "_________________________________________________________________\n",
      "conv2d_9 (Conv2D)            (None, 5, 5, 128)         73856     \n",
      "_________________________________________________________________\n",
      "max_pooling2d_9 (MaxPooling2 (None, 1, 1, 128)         0         \n",
      "_________________________________________________________________\n",
      "flatten_3 (Flatten)          (None, 128)               0         \n",
      "_________________________________________________________________\n",
      "dense_5 (Dense)              (None, 64)                8256      \n",
      "_________________________________________________________________\n",
      "dense_6 (Dense)              (None, 1)                 65        \n",
      "=================================================================\n",
      "Total params: 101,569\n",
      "Trainable params: 101,569\n",
      "Non-trainable params: 0\n",
      "_________________________________________________________________\n"
     ]
    }
   ],
   "source": [
    "model = Sequential()\n",
    "\n",
    "### Architecture\n",
    "# Layer 1 : input layer\n",
    "model.add(Conv2D(filters=32, kernel_size=3, padding='same', \\\n",
    "                activation='relu', input_shape=(50,50,3)))\n",
    "model.add(MaxPooling2D(pool_size=3))\n",
    "model.add(Dropout(0.2))\n",
    "# Layer 2\n",
    "model.add(Conv2D(filters=64, kernel_size=3, padding='same', \\\n",
    "                activation='relu'))\n",
    "model.add(MaxPooling2D(pool_size=3))\n",
    "model.add(Dropout(0.2))\n",
    "# Layer 3\n",
    "model.add(Conv2D(filters=128, kernel_size=3, padding='same', \\\n",
    "                activation='relu'))\n",
    "model.add(MaxPooling2D(pool_size=3))\n",
    "#model.add(GlobalAveragePooling2D('channels_last'))\n",
    "model.add(Flatten())\n",
    "# Layer 4\n",
    "model.add(Dense(64, activation='relu'))\n",
    "# Output layer\n",
    "model.add(Dense(1, activation='sigmoid'))\n",
    "\n",
    "model.summary()\n",
    "\n",
    "model.compile(optimizer='adam', loss='binary_crossentropy', metrics=['accuracy'])"
   ]
  },
  {
   "cell_type": "code",
   "execution_count": 26,
   "metadata": {},
   "outputs": [
    {
     "name": "stdout",
     "output_type": "stream",
     "text": [
      "Epoch 1/100\n",
      "870/870 [==============================] - 91s 104ms/step - loss: 0.6778 - acc: 0.7902 - val_loss: 0.6583 - val_acc: 0.6684\n",
      "\n",
      "Epoch 00001: val_loss improved from inf to 0.65831, saving model to ./saved_models/weights.best.CNN_arch_augmented.hdf5\n",
      "Epoch 2/100\n",
      "870/870 [==============================] - 92s 105ms/step - loss: 0.6166 - acc: 0.8126 - val_loss: 0.6522 - val_acc: 0.6650\n",
      "\n",
      "Epoch 00002: val_loss improved from 0.65831 to 0.65224, saving model to ./saved_models/weights.best.CNN_arch_augmented.hdf5\n",
      "Epoch 3/100\n",
      "870/870 [==============================] - 92s 105ms/step - loss: 0.5931 - acc: 0.8206 - val_loss: 0.5513 - val_acc: 0.7425\n",
      "\n",
      "Epoch 00003: val_loss improved from 0.65224 to 0.55125, saving model to ./saved_models/weights.best.CNN_arch_augmented.hdf5\n",
      "Epoch 4/100\n",
      "870/870 [==============================] - 87s 101ms/step - loss: 0.5850 - acc: 0.8229 - val_loss: 0.4995 - val_acc: 0.7850\n",
      "\n",
      "Epoch 00004: val_loss improved from 0.55125 to 0.49953, saving model to ./saved_models/weights.best.CNN_arch_augmented.hdf5\n",
      "Epoch 5/100\n",
      "870/870 [==============================] - 91s 105ms/step - loss: 0.5709 - acc: 0.8279 - val_loss: 0.4082 - val_acc: 0.8280\n",
      "\n",
      "Epoch 00005: val_loss improved from 0.49953 to 0.40819, saving model to ./saved_models/weights.best.CNN_arch_augmented.hdf5\n",
      "Epoch 6/100\n",
      "870/870 [==============================] - 94s 108ms/step - loss: 0.5630 - acc: 0.8300 - val_loss: 0.4840 - val_acc: 0.7848\n",
      "\n",
      "Epoch 00006: val_loss did not improve from 0.40819\n",
      "Epoch 7/100\n",
      "870/870 [==============================] - 88s 101ms/step - loss: 0.5593 - acc: 0.8319 - val_loss: 0.3946 - val_acc: 0.8352\n",
      "\n",
      "Epoch 00007: val_loss improved from 0.40819 to 0.39459, saving model to ./saved_models/weights.best.CNN_arch_augmented.hdf5\n",
      "Epoch 8/100\n",
      "870/870 [==============================] - 105s 120ms/step - loss: 0.5542 - acc: 0.8324 - val_loss: 0.4822 - val_acc: 0.7854\n",
      "\n",
      "Epoch 00008: val_loss did not improve from 0.39459\n",
      "Epoch 9/100\n",
      "870/870 [==============================] - 97s 112ms/step - loss: 0.5515 - acc: 0.8338 - val_loss: 0.4206 - val_acc: 0.8178\n",
      "\n",
      "Epoch 00009: val_loss did not improve from 0.39459\n",
      "Epoch 10/100\n",
      "870/870 [==============================] - 94s 108ms/step - loss: 0.5451 - acc: 0.8356 - val_loss: 0.4508 - val_acc: 0.8056\n",
      "\n",
      "Epoch 00010: val_loss did not improve from 0.39459\n",
      "Epoch 11/100\n",
      "870/870 [==============================] - 88s 101ms/step - loss: 0.5405 - acc: 0.8374 - val_loss: 0.3939 - val_acc: 0.8339\n",
      "\n",
      "Epoch 00011: val_loss improved from 0.39459 to 0.39394, saving model to ./saved_models/weights.best.CNN_arch_augmented.hdf5\n",
      "Epoch 12/100\n",
      "870/870 [==============================] - 91s 105ms/step - loss: 0.5377 - acc: 0.8373 - val_loss: 0.3806 - val_acc: 0.8441\n",
      "\n",
      "Epoch 00012: val_loss improved from 0.39394 to 0.38058, saving model to ./saved_models/weights.best.CNN_arch_augmented.hdf5\n",
      "Epoch 13/100\n",
      "870/870 [==============================] - 94s 109ms/step - loss: 0.5358 - acc: 0.8390 - val_loss: 0.3860 - val_acc: 0.8391\n",
      "\n",
      "Epoch 00013: val_loss did not improve from 0.38058\n",
      "Epoch 14/100\n",
      "870/870 [==============================] - 102s 117ms/step - loss: 0.5341 - acc: 0.8384 - val_loss: 0.4222 - val_acc: 0.8181\n",
      "\n",
      "Epoch 00014: val_loss did not improve from 0.38058\n",
      "Epoch 15/100\n",
      "870/870 [==============================] - 92s 105ms/step - loss: 0.5297 - acc: 0.8402 - val_loss: 0.3686 - val_acc: 0.8499\n",
      "\n",
      "Epoch 00015: val_loss improved from 0.38058 to 0.36857, saving model to ./saved_models/weights.best.CNN_arch_augmented.hdf5\n",
      "Epoch 16/100\n",
      "870/870 [==============================] - 98s 113ms/step - loss: 0.5306 - acc: 0.8401 - val_loss: 0.4310 - val_acc: 0.8142\n",
      "\n",
      "Epoch 00016: val_loss did not improve from 0.36857\n",
      "Epoch 17/100\n",
      "870/870 [==============================] - 100s 115ms/step - loss: 0.5283 - acc: 0.8413 - val_loss: 0.4325 - val_acc: 0.8189\n",
      "\n",
      "Epoch 00017: val_loss did not improve from 0.36857\n",
      "Epoch 18/100\n",
      "870/870 [==============================] - 100s 115ms/step - loss: 0.5261 - acc: 0.8417 - val_loss: 0.3839 - val_acc: 0.8398\n",
      "\n",
      "Epoch 00018: val_loss did not improve from 0.36857\n",
      "Epoch 19/100\n",
      "870/870 [==============================] - 90s 104ms/step - loss: 0.5240 - acc: 0.8416 - val_loss: 0.4145 - val_acc: 0.8221\n",
      "\n",
      "Epoch 00019: val_loss did not improve from 0.36857\n",
      "Epoch 20/100\n",
      "870/870 [==============================] - 87s 101ms/step - loss: 0.5232 - acc: 0.8423 - val_loss: 0.4556 - val_acc: 0.8044\n",
      "\n",
      "Epoch 00020: val_loss did not improve from 0.36857\n",
      "Epoch 21/100\n",
      "870/870 [==============================] - 90s 104ms/step - loss: 0.5193 - acc: 0.8430 - val_loss: 0.3856 - val_acc: 0.8403\n",
      "\n",
      "Epoch 00021: val_loss did not improve from 0.36857\n"
     ]
    },
    {
     "data": {
      "text/plain": [
       "<keras.callbacks.History at 0x7f29d004a8d0>"
      ]
     },
     "execution_count": 26,
     "metadata": {},
     "output_type": "execute_result"
    }
   ],
   "source": [
    "epochs = 100\n",
    "batch_size = 256\n",
    "\n",
    "stopping_condition = EarlyStopping(patience=6)\n",
    "checkpointer = ModelCheckpoint(filepath='./saved_models/weights.best.CNN_arch_augmented.hdf5', \n",
    "                               verbose=1, save_best_only=True)\n",
    "\n",
    "model.fit_generator(data_gen_train.flow(images[idx_train_2], labels[idx_train_2], \\\n",
    "                                   batch_size=batch_size), \\\n",
    "                    validation_data=(images[idx_test], labels[idx_test]), \\\n",
    "                    steps_per_epoch=len(idx_train_2)//batch_size, \\\n",
    "                    epochs=epochs, class_weight={0:1, 1:2.5},\\\n",
    "                    callbacks=[checkpointer, stopping_condition], verbose=1)"
   ]
  },
  {
   "cell_type": "code",
   "execution_count": 94,
   "metadata": {},
   "outputs": [],
   "source": [
    "model.load_weights('./saved_models/weights.best.CNN_arch_augmented.hdf5')"
   ]
  },
  {
   "cell_type": "code",
   "execution_count": 95,
   "metadata": {},
   "outputs": [],
   "source": [
    "# get predictions for each image in test set\n",
    "predictions = [np.int(np.round(model.predict(np.expand_dims(image, axis=0)))) \\\n",
    "               for image in images[idx_val]]"
   ]
  },
  {
   "cell_type": "code",
   "execution_count": 96,
   "metadata": {},
   "outputs": [
    {
     "name": "stdout",
     "output_type": "stream",
     "text": [
      "Test accuracy: 84.9362%\n"
     ]
    }
   ],
   "source": [
    "# report test accuracy\n",
    "test_accuracy = np.sum(np.array(predictions)==labels[idx_val])/len(predictions)\n",
    "print('Test accuracy: %.4f%%' %(100*test_accuracy))"
   ]
  },
  {
   "cell_type": "code",
   "execution_count": 97,
   "metadata": {},
   "outputs": [
    {
     "data": {
      "image/png": "[encoded data removed]",
      "text/plain": [
       "<matplotlib.figure.Figure at 0x7f2a0c1cafd0>"
      ]
     },
     "metadata": {},
     "output_type": "display_data"
    },
    {
     "name": "stdout",
     "output_type": "stream",
     "text": [
      "Precision for 0 and 1: 91.30% and 71.30%\n",
      "Recall for 0 and 1: 87.21% and 79.27%\n",
      "F1 score for 0 and 1: 89.21% and 75.08%\n",
      "Confusion matrix:\n",
      " [[17133  2513]\n",
      " [ 1633  6244]]\n"
     ]
    }
   ],
   "source": [
    "y_test = labels[idx_val]\n",
    "y_pred = np.array(predictions)\n",
    "\n",
    "confusion = confusion_matrix(y_test, y_pred)\n",
    "\n",
    "precision, recall, f1_score, support = precision_recall_fscore_support(y_test, y_pred, beta=1)\n",
    "\n",
    "y_pred_prob = [np.float32(model.predict(np.expand_dims(image, axis=0))) \\\n",
    "               for image in images[idx_val]]\n",
    "y_pred_prob = np.array(y_pred_prob).reshape(-1)\n",
    "\n",
    "fpr, tpr, thresholds = roc_curve(y_test, y_pred_prob)\n",
    "\n",
    "plt.plot([0, 1], [0, 1], 'k--')\n",
    "plt.plot(fpr, tpr, label='CNN')\n",
    "plt.xlabel('False Positive Rate')\n",
    "plt.ylabel('True Positive Rate')\n",
    "plt.title('CNN with Image Augmentation ROC Curve')\n",
    "plt.show()\n",
    "\n",
    "print(\"Precision for 0 and 1: {:.2f}% and {:.2f}%\".format(precision[0]*100, precision[1]*100))\n",
    "print(\"Recall for 0 and 1: {:.2f}% and {:.2f}%\".format(recall[0]*100, recall[1]*100))\n",
    "print(\"F1 score for 0 and 1: {:.2f}% and {:.2f}%\".format(f1_score[0]*100, f1_score[1]*100))\n",
    "print(\"Confusion matrix:\\n {}\".format(confusion))"
   ]
  },
  {
   "cell_type": "code",
   "execution_count": null,
   "metadata": {},
   "outputs": [],
   "source": []
  }
 ],
 "metadata": {
  "kernelspec": {
   "display_name": "Python 3",
   "language": "python",
   "name": "python3"
  },
  "language_info": {
   "codemirror_mode": {
    "name": "ipython",
    "version": 3
   },
   "file_extension": ".py",
   "mimetype": "text/x-python",
   "name": "python",
   "nbconvert_exporter": "python",
   "pygments_lexer": "ipython3",
   "version": "3.5.5"
  }
 },
 "nbformat": 4,
 "nbformat_minor": 2
}
