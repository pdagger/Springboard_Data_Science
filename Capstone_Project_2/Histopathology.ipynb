{
 "cells": [
  {
   "cell_type": "code",
   "execution_count": 15,
   "metadata": {},
   "outputs": [],
   "source": [
    "from keras.utils import np_utils\n",
    "import numpy as np\n",
    "from glob import glob\n",
    "import cv2\n",
    "import matplotlib.pyplot as plt\n",
    "import os\n",
    "%matplotlib inline"
   ]
  },
  {
   "cell_type": "code",
   "execution_count": 3,
   "metadata": {},
   "outputs": [
    {
     "name": "stdout",
     "output_type": "stream",
     "text": [
      "Default GPU Device: /device:GPU:0\n"
     ]
    }
   ],
   "source": [
    "import tensorflow as tf\n",
    "# Checking GPU\n",
    "if tf.test.gpu_device_name():\n",
    "    print('Default GPU Device: {}'.format(tf.test.gpu_device_name()))\n",
    "else:\n",
    "    print(\"Please install GPU version of TF\")"
   ]
  },
  {
   "cell_type": "markdown",
   "metadata": {},
   "source": [
    "The data is divided into folders were each folder corresponds to a patient."
   ]
  },
  {
   "cell_type": "code",
   "execution_count": 14,
   "metadata": {},
   "outputs": [
    {
     "name": "stdout",
     "output_type": "stream",
     "text": [
      "Number of patients: 279\n"
     ]
    }
   ],
   "source": [
    "# Path to data\n",
    "path = \"./Data/IDC_regular_ps50_idx5\"\n",
    "# Identify data folders\n",
    "folders = [folder for folder in os.listdir(path)]\n",
    "\n",
    "print(\"Number of patients: %d\" %len(folders))"
   ]
  },
  {
   "cell_type": "markdown",
   "metadata": {},
   "source": [
    "Let's look to an image and its shape:"
   ]
  },
  {
   "cell_type": "code",
   "execution_count": 136,
   "metadata": {},
   "outputs": [
    {
     "name": "stdout",
     "output_type": "stream",
     "text": [
      "Image shape: (50, 50, 3)\n"
     ]
    },
    {
     "data": {
      "image/png": "[encoded data removed]",
      "text/plain": [
       "<Figure size 432x288 with 1 Axes>"
      ]
     },
     "metadata": {},
     "output_type": "display_data"
    }
   ],
   "source": [
    "img = cv2.imread(path + '/' + '10264' + '/' + '0' + '/' + '10264_idx5_x51_y1651_class0.png')\n",
    "# Convert to RGB\n",
    "img = cv2.cvtColor(img, cv2.COLOR_BGR2RGB)\n",
    "plt.imshow(img)\n",
    "print(\"Image shape: {}\".format(img.shape))"
   ]
  },
  {
   "cell_type": "markdown",
   "metadata": {},
   "source": [
    "Function to load the images:"
   ]
  },
  {
   "cell_type": "code",
   "execution_count": 157,
   "metadata": {},
   "outputs": [],
   "source": [
    "def path_to_tensor(img_path):\n",
    "    # load images\n",
    "    img = cv2.imread(img_path)\n",
    "    # Convert to RGB\n",
    "    img = cv2.cvtColor(img, cv2.COLOR_BGR2RGB)\n",
    "    if img.shape == (50, 50, 3):\n",
    "        # convert 3D tensor to 4D tensor with shape (1, 50, 50, 3) and return 4D tensor\n",
    "        #return np.expand_dims(img, axis=0)\n",
    "        return img\n",
    "\n",
    "def paths_to_tensor(img_paths):\n",
    "    list_of_tensors = [path_to_tensor(img_path) for img_path in tqdm(img_paths)]\n",
    "    return np.vstack(list_of_tensors)\n"
   ]
  },
  {
   "cell_type": "markdown",
   "metadata": {},
   "source": [
    "Each patient's folder contains two folders: a folder with non cancer images and a folder with cancerous tissue images."
   ]
  },
  {
   "cell_type": "code",
   "execution_count": 158,
   "metadata": {},
   "outputs": [],
   "source": [
    "# Healthy tissue is on folder 0 and cancerous tissue in folder 1\n",
    "folder_label = ['0', '1']\n",
    "images = []\n",
    "labels = []\n",
    "\n",
    "for folder in folders:\n",
    "    # Read from folder 0 and create corresponding label array\n",
    "    path_0 = path + '/' + folder + '/' + folder_label[0]\n",
    "    images_0 = [path_to_tensor(path_0 + '/' + img_path) for img_path in os.listdir(path_0)]\n",
    "    labels_0 = np.zeros(len(images_0), dtype=np.int8)\n",
    "    images.extend(images_0)\n",
    "    labels.extend(labels_0)\n",
    "    # Read from folder 1 and create corresponding label array\n",
    "    path_1 = path + '/' + folder + '/' + folder_label[1]\n",
    "    images_1 = [path_to_tensor(path_1 + '/' + img_path) for img_path in os.listdir(path_1)]\n",
    "    labels_1 = np.ones(len(images_1), dtype=np.int8)\n",
    "    images.extend(images_1)\n",
    "    labels.extend(labels_1)    "
   ]
  },
  {
   "cell_type": "code",
   "execution_count": 159,
   "metadata": {},
   "outputs": [
    {
     "name": "stdout",
     "output_type": "stream",
     "text": [
      "Number of images: 277524\n",
      "Number of labels: 277524\n"
     ]
    },
    {
     "data": {
      "image/png": "[encoded data removed]",
      "text/plain": [
       "<Figure size 432x288 with 1 Axes>"
      ]
     },
     "metadata": {},
     "output_type": "display_data"
    }
   ],
   "source": [
    "images = np.array(images)\n",
    "labels = np.array(labels)\n",
    "print(\"Number of images: {}\".format(len(images)))\n",
    "print(\"Number of labels: {}\".format(len(labels)))\n",
    "\n",
    "_ = plt.imshow(images[0])"
   ]
  },
  {
   "cell_type": "markdown",
   "metadata": {},
   "source": [
    "Let's divide the patients bewteen a training set, validation set. 90% of the patients are held for training, 10% are assigned for testing and the remaining are kept for validation.   "
   ]
  },
  {
   "cell_type": "code",
   "execution_count": 160,
   "metadata": {},
   "outputs": [],
   "source": [
    "# Seed for random functions\n",
    "np.random.seed(42)"
   ]
  },
  {
   "cell_type": "code",
   "execution_count": null,
   "metadata": {},
   "outputs": [],
   "source": []
  },
  {
   "cell_type": "code",
   "execution_count": null,
   "metadata": {},
   "outputs": [],
   "source": []
  },
  {
   "cell_type": "code",
   "execution_count": null,
   "metadata": {},
   "outputs": [],
   "source": []
  }
 ],
 "metadata": {
  "kernelspec": {
   "display_name": "Python 3",
   "language": "python",
   "name": "python3"
  },
  "language_info": {
   "codemirror_mode": {
    "name": "ipython",
    "version": 3
   },
   "file_extension": ".py",
   "mimetype": "text/x-python",
   "name": "python",
   "nbconvert_exporter": "python",
   "pygments_lexer": "ipython3",
   "version": "3.6.5"
  }
 },
 "nbformat": 4,
 "nbformat_minor": 2
}
