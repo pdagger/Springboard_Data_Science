{
 "cells": [
  {
   "cell_type": "code",
   "execution_count": 1,
   "metadata": {},
   "outputs": [],
   "source": [
    "import pandas as pd\n",
    "import numpy as np\n",
    "import matplotlib.pyplot as plt\n",
    "import seaborn as sns\n",
    "import re"
   ]
  },
  {
   "cell_type": "code",
   "execution_count": 2,
   "metadata": {},
   "outputs": [],
   "source": [
    "data = pd.read_csv('./Data/H1B_2017_.csv', low_memory=False)"
   ]
  },
  {
   "cell_type": "code",
   "execution_count": 3,
   "metadata": {},
   "outputs": [
    {
     "name": "stdout",
     "output_type": "stream",
     "text": [
      "<class 'pandas.core.frame.DataFrame'>\n",
      "RangeIndex: 622773 entries, 0 to 622772\n",
      "Data columns (total 13 columns):\n",
      "Unnamed: 0              622773 non-null int64\n",
      "employer                622773 non-null object\n",
      "job_title               622773 non-null object\n",
      "occupational_name       622773 non-null object\n",
      "prevailing_wage         622773 non-null float64\n",
      "pw_wage_period          622773 non-null object\n",
      "employer_wage           622773 non-null float64\n",
      "employer_max_wage       622773 non-null float64\n",
      "employer_wage_period    622773 non-null object\n",
      "city                    622773 non-null object\n",
      "county                  622773 non-null object\n",
      "state                   622773 non-null object\n",
      "postal_code             622773 non-null object\n",
      "dtypes: float64(3), int64(1), object(9)\n",
      "memory usage: 61.8+ MB\n"
     ]
    }
   ],
   "source": [
    "data.info()"
   ]
  },
  {
   "cell_type": "code",
   "execution_count": 4,
   "metadata": {},
   "outputs": [
    {
     "data": {
      "text/html": [
       "<div>\n",
       "<style scoped>\n",
       "    .dataframe tbody tr th:only-of-type {\n",
       "        vertical-align: middle;\n",
       "    }\n",
       "\n",
       "    .dataframe tbody tr th {\n",
       "        vertical-align: top;\n",
       "    }\n",
       "\n",
       "    .dataframe thead th {\n",
       "        text-align: right;\n",
       "    }\n",
       "</style>\n",
       "<table border=\"1\" class=\"dataframe\">\n",
       "  <thead>\n",
       "    <tr style=\"text-align: right;\">\n",
       "      <th></th>\n",
       "      <th>employer</th>\n",
       "      <th>job_title</th>\n",
       "      <th>occupational_name</th>\n",
       "      <th>prevailing_wage</th>\n",
       "      <th>pw_wage_period</th>\n",
       "      <th>employer_wage</th>\n",
       "      <th>employer_max_wage</th>\n",
       "      <th>employer_wage_period</th>\n",
       "      <th>city</th>\n",
       "      <th>county</th>\n",
       "      <th>state</th>\n",
       "      <th>postal_code</th>\n",
       "    </tr>\n",
       "  </thead>\n",
       "  <tbody>\n",
       "    <tr>\n",
       "      <th>0</th>\n",
       "      <td>DISCOVER PRODUCTS INC.</td>\n",
       "      <td>ASSOCIATE DATA INTEGRATION</td>\n",
       "      <td>COMPUTER SYSTEMS ANALYSTS</td>\n",
       "      <td>59197.0</td>\n",
       "      <td>Year</td>\n",
       "      <td>65811.0</td>\n",
       "      <td>67320.0</td>\n",
       "      <td>Year</td>\n",
       "      <td>RIVERWOODS</td>\n",
       "      <td>LAKE</td>\n",
       "      <td>IL</td>\n",
       "      <td>60015</td>\n",
       "    </tr>\n",
       "    <tr>\n",
       "      <th>1</th>\n",
       "      <td>DFS SERVICES LLC</td>\n",
       "      <td>SENIOR ASSOCIATE</td>\n",
       "      <td>OPERATIONS RESEARCH ANALYSTS</td>\n",
       "      <td>49800.0</td>\n",
       "      <td>Year</td>\n",
       "      <td>53000.0</td>\n",
       "      <td>57200.0</td>\n",
       "      <td>Year</td>\n",
       "      <td>RIVERWOODS</td>\n",
       "      <td>LAKE</td>\n",
       "      <td>IL</td>\n",
       "      <td>60015</td>\n",
       "    </tr>\n",
       "    <tr>\n",
       "      <th>2</th>\n",
       "      <td>INFO SERVICES LLC</td>\n",
       "      <td>PROJECT MANAGER</td>\n",
       "      <td>COMPUTER OCCUPATIONS, ALL OTHER</td>\n",
       "      <td>90376.0</td>\n",
       "      <td>Year</td>\n",
       "      <td>102000.0</td>\n",
       "      <td>0.0</td>\n",
       "      <td>Year</td>\n",
       "      <td>JERSEY CITY</td>\n",
       "      <td>HUDSON</td>\n",
       "      <td>NJ</td>\n",
       "      <td>07302</td>\n",
       "    </tr>\n",
       "    <tr>\n",
       "      <th>3</th>\n",
       "      <td>BB&amp;T CORPORATION</td>\n",
       "      <td>ASSOCIATE - ESOTERIC ASSET BACKED SECURITIES</td>\n",
       "      <td>CREDIT ANALYSTS</td>\n",
       "      <td>116605.0</td>\n",
       "      <td>Year</td>\n",
       "      <td>132500.0</td>\n",
       "      <td>0.0</td>\n",
       "      <td>Year</td>\n",
       "      <td>NEW YORK</td>\n",
       "      <td>NEW YORK</td>\n",
       "      <td>NY</td>\n",
       "      <td>10036</td>\n",
       "    </tr>\n",
       "    <tr>\n",
       "      <th>4</th>\n",
       "      <td>SUNTRUST BANKS, INC.</td>\n",
       "      <td>CREDIT RISK METRICS SPECIALIST</td>\n",
       "      <td>FINANCIAL SPECIALISTS, ALL OTHER</td>\n",
       "      <td>59405.0</td>\n",
       "      <td>Year</td>\n",
       "      <td>71750.0</td>\n",
       "      <td>0.0</td>\n",
       "      <td>Year</td>\n",
       "      <td>ATLANTA</td>\n",
       "      <td>FULTON</td>\n",
       "      <td>GA</td>\n",
       "      <td>30303</td>\n",
       "    </tr>\n",
       "  </tbody>\n",
       "</table>\n",
       "</div>"
      ],
      "text/plain": [
       "                 employer                                     job_title  \\\n",
       "0  DISCOVER PRODUCTS INC.                    ASSOCIATE DATA INTEGRATION   \n",
       "1        DFS SERVICES LLC                              SENIOR ASSOCIATE   \n",
       "2       INFO SERVICES LLC                               PROJECT MANAGER   \n",
       "3        BB&T CORPORATION  ASSOCIATE - ESOTERIC ASSET BACKED SECURITIES   \n",
       "4    SUNTRUST BANKS, INC.                CREDIT RISK METRICS SPECIALIST   \n",
       "\n",
       "                  occupational_name  prevailing_wage pw_wage_period  \\\n",
       "0         COMPUTER SYSTEMS ANALYSTS          59197.0           Year   \n",
       "1      OPERATIONS RESEARCH ANALYSTS          49800.0           Year   \n",
       "2   COMPUTER OCCUPATIONS, ALL OTHER          90376.0           Year   \n",
       "3                   CREDIT ANALYSTS         116605.0           Year   \n",
       "4  FINANCIAL SPECIALISTS, ALL OTHER          59405.0           Year   \n",
       "\n",
       "   employer_wage  employer_max_wage employer_wage_period         city  \\\n",
       "0        65811.0            67320.0                 Year   RIVERWOODS   \n",
       "1        53000.0            57200.0                 Year   RIVERWOODS   \n",
       "2       102000.0                0.0                 Year  JERSEY CITY   \n",
       "3       132500.0                0.0                 Year     NEW YORK   \n",
       "4        71750.0                0.0                 Year      ATLANTA   \n",
       "\n",
       "     county state postal_code  \n",
       "0      LAKE    IL       60015  \n",
       "1      LAKE    IL       60015  \n",
       "2    HUDSON    NJ       07302  \n",
       "3  NEW YORK    NY       10036  \n",
       "4    FULTON    GA       30303  "
      ]
     },
     "execution_count": 4,
     "metadata": {},
     "output_type": "execute_result"
    }
   ],
   "source": [
    "data = data.drop('Unnamed: 0', axis=1)\n",
    "data.head()"
   ]
  },
  {
   "cell_type": "code",
   "execution_count": 5,
   "metadata": {},
   "outputs": [
    {
     "data": {
      "image/png": "[encoded data removed]",
      "text/plain": [
       "<matplotlib.figure.Figure at 0x7f10b64973c8>"
      ]
     },
     "metadata": {},
     "output_type": "display_data"
    }
   ],
   "source": [
    "plt.figure(figsize=(10,10))\n",
    "plt.scatter(np.log(data.prevailing_wage), np.log(data.employer_wage), alpha=0.7, s=1)\n",
    "plt.xlabel('Prevailing wage')\n",
    "plt.ylabel('Employer wage')\n",
    "plt.show()"
   ]
  },
  {
   "cell_type": "code",
   "execution_count": 65,
   "metadata": {},
   "outputs": [],
   "source": [
    "# Selecting possible features to train model\n",
    "columns = ['job_title', 'occupational_name', 'prevailing_wage', 'city', 'county', 'state', 'postal_code']\n",
    "features = data[columns]\n",
    "# Selecting possible targets\n",
    "y_emp = data.employer_wage"
   ]
  },
  {
   "cell_type": "code",
   "execution_count": 8,
   "metadata": {},
   "outputs": [
    {
     "name": "stdout",
     "output_type": "stream",
     "text": [
      "Number of unique values for column -job_title- : 92756\n",
      "Number of unique values for column -occupational_name- : 865\n",
      "Number of unique values for column -prevailing_wage- : 24052\n",
      "Number of unique values for column -city- : 9348\n",
      "Number of unique values for column -county- : 3676\n",
      "Number of unique values for column -state- : 57\n",
      "Number of unique values for column -postal_code- : 14923\n",
      "Number of unique values for column -prevailing_wage- : 24052\n",
      "Number of unique values for column -employer_wage- : 50655\n"
     ]
    }
   ],
   "source": [
    "for col in columns:\n",
    "    print(\"Number of unique values for column -{}- : {}\".format(col, len(features[col].unique())))\n",
    "print(\"Number of unique values for column -prevailing_wage- : {}\".format(len(y_pr.unique())))\n",
    "print(\"Number of unique values for column -employer_wage- : {}\".format(len(y_emp.unique())))"
   ]
  },
  {
   "cell_type": "markdown",
   "metadata": {},
   "source": [
    "When a user wants to predict the employer's wage most likely he will not know the prevailing wage for his future position. To remediate this issue and make more robust the model, I propose to train part of the data to predict the prevailing wage and then use the rest of the data to predict the final salary. The data points are going to be selected randomly by index number in the data set."
   ]
  },
  {
   "cell_type": "code",
   "execution_count": 66,
   "metadata": {},
   "outputs": [],
   "source": [
    "indeces = np.arange(0, len(data))\n",
    "# set seed for the rest of the project\n",
    "seed = 14\n",
    "np.random.seed(seed)\n",
    "# shuffle indexes\n",
    "random_index = np.random.permutation(indeces)"
   ]
  },
  {
   "cell_type": "code",
   "execution_count": 74,
   "metadata": {},
   "outputs": [],
   "source": [
    "# Data for prevailing wage prediction\n",
    "X_pr = features.iloc[random_index[:int(len(data)/2)]].reset_index(drop=True)\n",
    "y_pr = np.log(X_pr.prevailing_wage)\n",
    "X_pr.drop(['prevailing_wage'], axis=1, inplace=True)"
   ]
  },
  {
   "cell_type": "markdown",
   "metadata": {},
   "source": [
    "We intend to predict the prevailing wage using words, so per row the columns are going to be merged into one and a vectorizer is going to be created. The data being to big we need to train the model by batches. Given the amount of data, the proper model to use is an SDG Regressor."
   ]
  },
  {
   "cell_type": "code",
   "execution_count": 160,
   "metadata": {},
   "outputs": [],
   "source": [
    "from sklearn.feature_extraction.text import CountVectorizer\n",
    "from sklearn.model_selection import train_test_split\n",
    "from sklearn.linear_model import LinearRegression, SGDRegressor\n",
    "from sklearn.metrics import mean_absolute_error\n",
    "from time import time\n",
    "\n",
    "# Merging columns per row\n",
    "X_pr['merged'] = X_pr.job_title + \" \" + X_pr.occupational_name + \" \" + X_pr.city \\\n",
    "                    + \" \" + X_pr.county + \" \" + X_pr.state + \" \" + X_pr.postal_code\n",
    "# Create vectorizer\n",
    "vectorizer = CountVectorizer()\n",
    "vectorizer.fit(X_pr.merged)\n",
    "# Creating testing and training sets\n",
    "X_train_pr, X_test_pr, y_train_pr, y_test_pr = train_test_split(X_pr.merged, y_pr, test_size=0.25, random_state=seed)\n",
    "# Change Xs to vectorized form\n",
    "X_train_pr_vec = vectorizer.transform(X_train_pr).tocsc()\n",
    "X_test_pr_vec = vectorizer.transform(X_test_pr).tocsc()"
   ]
  },
  {
   "cell_type": "code",
   "execution_count": 163,
   "metadata": {},
   "outputs": [
    {
     "name": "stderr",
     "output_type": "stream",
     "text": [
      "/home/pfgr/anaconda3/envs/h1b/lib/python3.6/site-packages/sklearn/linear_model/stochastic_gradient.py:128: FutureWarning: max_iter and tol parameters have been added in <class 'sklearn.linear_model.stochastic_gradient.SGDRegressor'> in 0.19. If both are left unset, they default to max_iter=5 and tol=None. If tol is not None, max_iter defaults to max_iter=1000. From 0.21, default max_iter will be 1000, and default tol will be 1e-3.\n",
      "  \"and default tol will be 1e-3.\" % type(self), FutureWarning)\n"
     ]
    },
    {
     "name": "stdout",
     "output_type": "stream",
     "text": [
      "SGDRegressor training time: 0.295s\n",
      "SGDRegressor mean absolute error: 0.5691489144815631\n",
      "LinearRegression training time: 81.950s\n",
      "LinearRegression mean absolute error: 0.15349871852210237\n"
     ]
    }
   ],
   "source": [
    "regressor1 = SGDRegressor(penalty='l2', random_state=seed)\n",
    "regressor2 = LinearRegression()\n",
    "\n",
    "for regressor in [regressor1, regressor2]:\n",
    "    # Train model\n",
    "    start = time()\n",
    "    regressor.fit(X_train_pr_vec, y_train_pr)\n",
    "    end = time()\n",
    "    regressor_name = regressor.__class__.__name__\n",
    "    print(\"%s training time: %.3fs\" %(regressor_name, end-start))\n",
    "    y_pred_pr = regressor.predict(X_test_pr_vec)\n",
    "    mean_error = mean_absolute_error(y_pred_pr, y_test_pr)\n",
    "    print(\"{} mean absolute error: {}\".format(regressor_name, mean_error))"
   ]
  },
  {
   "cell_type": "code",
   "execution_count": 175,
   "metadata": {},
   "outputs": [
    {
     "data": {
      "image/png": "[encoded data removed]",
      "text/plain": [
       "<matplotlib.figure.Figure at 0x7f10adf288d0>"
      ]
     },
     "metadata": {},
     "output_type": "display_data"
    }
   ],
   "source": [
    "plt.figure(figsize=(5,5))\n",
    "plt.scatter(y_test_pr, y_pred_pr, alpha=0.7, s=1)\n",
    "plt.xlabel('Prevailing wage')\n",
    "plt.ylabel('Predicted prevailing wage')\n",
    "plt.show()"
   ]
  },
  {
   "cell_type": "markdown",
   "metadata": {},
   "source": [
    "For comparison let's make the training on the employer's wage."
   ]
  },
  {
   "cell_type": "code",
   "execution_count": 170,
   "metadata": {},
   "outputs": [],
   "source": [
    "# Get employer wage\n",
    "y_pr_em = np.log(y_emp.iloc[random_index[:int(len(data)/2)]].reset_index(drop=True))\n",
    "# Creating testing and training sets\n",
    "X_train_pr_em, X_test_pr_em, y_train_pr_em, y_test_pr_em = train_test_split(X_pr.merged, y_pr_em, \\\n",
    "                                                                            test_size=0.25, random_state=seed)\n",
    "# Change Xs to vectorized form\n",
    "X_train_pr_em_vec = vectorizer.transform(X_train_pr_em).tocsc()\n",
    "X_test_pr_em_vec = vectorizer.transform(X_test_pr_em).tocsc()"
   ]
  },
  {
   "cell_type": "code",
   "execution_count": 171,
   "metadata": {},
   "outputs": [
    {
     "name": "stderr",
     "output_type": "stream",
     "text": [
      "/home/pfgr/anaconda3/envs/h1b/lib/python3.6/site-packages/sklearn/linear_model/stochastic_gradient.py:128: FutureWarning: max_iter and tol parameters have been added in <class 'sklearn.linear_model.stochastic_gradient.SGDRegressor'> in 0.19. If both are left unset, they default to max_iter=5 and tol=None. If tol is not None, max_iter defaults to max_iter=1000. From 0.21, default max_iter will be 1000, and default tol will be 1e-3.\n",
      "  \"and default tol will be 1e-3.\" % type(self), FutureWarning)\n"
     ]
    },
    {
     "name": "stdout",
     "output_type": "stream",
     "text": [
      "SGDRegressor training time: 0.294s\n",
      "SGDRegressor mean absolute error: 0.5807219466076828\n",
      "LinearRegression training time: 79.603s\n",
      "LinearRegression mean absolute error: 0.16241678753405822\n"
     ]
    }
   ],
   "source": [
    "regressor1_ = SGDRegressor(penalty='l2', random_state=seed)\n",
    "regressor2_ = LinearRegression()\n",
    "\n",
    "for regressor in [regressor1, regressor2]:\n",
    "    # Train model\n",
    "    start = time()\n",
    "    regressor.fit(X_train_pr_em_vec, y_train_pr_em)\n",
    "    end = time()\n",
    "    regressor_name = regressor.__class__.__name__\n",
    "    print(\"%s training time: %.3fs\" %(regressor_name, end-start))\n",
    "    y_pred_pr_em = regressor.predict(X_test_pr_em_vec)\n",
    "    mean_error = mean_absolute_error(y_pred_pr_em, y_test_pr_em)\n",
    "    print(\"{} mean absolute error: {}\".format(regressor_name, mean_error))"
   ]
  },
  {
   "cell_type": "code",
   "execution_count": 174,
   "metadata": {},
   "outputs": [
    {
     "data": {
      "image/png": "[encoded data removed]",
      "text/plain": [
       "<matplotlib.figure.Figure at 0x7f10ab8114e0>"
      ]
     },
     "metadata": {},
     "output_type": "display_data"
    }
   ],
   "source": [
    "plt.figure(figsize=(5,5))\n",
    "plt.scatter(y_test_pr_em, y_pred_pr_em, alpha=0.7, s=1)\n",
    "plt.xlabel('Employer wage')\n",
    "plt.ylabel('Predicted employer wage')\n",
    "plt.show()"
   ]
  },
  {
   "cell_type": "markdown",
   "metadata": {},
   "source": [
    "Now we are going to use the other half of the data to make predictions on wage salary by two methods and compare them. We are going to predict the employer's wage using the state, postal_code and prevailing_wage fields but for the prevealing wage we are going to consider first the one from the data and then the one predicted by the first model from trained on the words.\n",
    "\n",
    "Let's get first the second half of the data from the original dataset."
   ]
  },
  {
   "cell_type": "code",
   "execution_count": 240,
   "metadata": {},
   "outputs": [],
   "source": [
    "# Data for employer wage prediction\n",
    "X_em = features.iloc[random_index[int(len(data)/2)]:].reset_index(drop=True)\n",
    "X_em.prevailing_wage = np.log(X_em.prevailing_wage)\n",
    "X_em_full = X_em.copy()\n",
    "X_em.drop(['job_title', 'occupational_name', 'city', 'county'], axis=1, inplace=True)\n",
    "# Employer wage\n",
    "y_em = np.log(y_emp.iloc[random_index[int(len(data)/2)]:].reset_index(drop=True))"
   ]
  },
  {
   "cell_type": "code",
   "execution_count": 228,
   "metadata": {},
   "outputs": [
    {
     "data": {
      "text/html": [
       "<div>\n",
       "<style scoped>\n",
       "    .dataframe tbody tr th:only-of-type {\n",
       "        vertical-align: middle;\n",
       "    }\n",
       "\n",
       "    .dataframe tbody tr th {\n",
       "        vertical-align: top;\n",
       "    }\n",
       "\n",
       "    .dataframe thead th {\n",
       "        text-align: right;\n",
       "    }\n",
       "</style>\n",
       "<table border=\"1\" class=\"dataframe\">\n",
       "  <thead>\n",
       "    <tr style=\"text-align: right;\">\n",
       "      <th></th>\n",
       "      <th>prevailing_wage</th>\n",
       "      <th>state</th>\n",
       "      <th>postal_code</th>\n",
       "    </tr>\n",
       "  </thead>\n",
       "  <tbody>\n",
       "    <tr>\n",
       "      <th>0</th>\n",
       "      <td>10.931499</td>\n",
       "      <td>NJ</td>\n",
       "      <td>07306</td>\n",
       "    </tr>\n",
       "    <tr>\n",
       "      <th>1</th>\n",
       "      <td>11.069914</td>\n",
       "      <td>UT</td>\n",
       "      <td>84111</td>\n",
       "    </tr>\n",
       "    <tr>\n",
       "      <th>2</th>\n",
       "      <td>11.260997</td>\n",
       "      <td>NJ</td>\n",
       "      <td>08534</td>\n",
       "    </tr>\n",
       "    <tr>\n",
       "      <th>3</th>\n",
       "      <td>11.359774</td>\n",
       "      <td>OH</td>\n",
       "      <td>44321</td>\n",
       "    </tr>\n",
       "    <tr>\n",
       "      <th>4</th>\n",
       "      <td>10.994572</td>\n",
       "      <td>VA</td>\n",
       "      <td>23230</td>\n",
       "    </tr>\n",
       "  </tbody>\n",
       "</table>\n",
       "</div>"
      ],
      "text/plain": [
       "   prevailing_wage state postal_code\n",
       "0        10.931499    NJ       07306\n",
       "1        11.069914    UT       84111\n",
       "2        11.260997    NJ       08534\n",
       "3        11.359774    OH       44321\n",
       "4        10.994572    VA       23230"
      ]
     },
     "execution_count": 228,
     "metadata": {},
     "output_type": "execute_result"
    }
   ],
   "source": [
    "X_em.head()"
   ]
  },
  {
   "cell_type": "markdown",
   "metadata": {},
   "source": [
    "The amount of data being significant, first we define a function creating batches for training."
   ]
  },
  {
   "cell_type": "code",
   "execution_count": 200,
   "metadata": {},
   "outputs": [],
   "source": [
    "def batches(size, X, y):\n",
    "    # This function transform data to be trained into batches\n",
    "    batch_start = 0\n",
    "    n_points = X.shape[0]\n",
    "    while batch_start < n_points:\n",
    "        batch_end = batch_start + size\n",
    "#         X_batch = pd.get_dummies(X.iloc[range(batch_start, batch_end)], \\\n",
    "#                                  columns=['postal_code','state'], drop_first=True)\n",
    "        if batch_end < n_points:\n",
    "            X_batch = X.iloc[range(batch_start, batch_end)]\n",
    "            y_batch = y.iloc[range(batch_start, batch_end)]\n",
    "        else:\n",
    "            X_batch = X.iloc[range(batch_start,n_points)]\n",
    "            y_batch = y.iloc[range(batch_start, n_points)]\n",
    "        yield X_batch, y_batch\n",
    "        batch_start += size\n",
    "        \n",
    "        #permutation with np.random.permutation in indexes"
   ]
  },
  {
   "cell_type": "markdown",
   "metadata": {},
   "source": [
    "First let's predict employer wages with prevailing wage from data set. For this part, the state and postal_code columns being of categorical type, it is necessary to use one-hot encoding."
   ]
  },
  {
   "cell_type": "code",
   "execution_count": 207,
   "metadata": {},
   "outputs": [
    {
     "name": "stderr",
     "output_type": "stream",
     "text": [
      "/home/pfgr/anaconda3/envs/h1b/lib/python3.6/site-packages/sklearn/linear_model/stochastic_gradient.py:128: FutureWarning: max_iter and tol parameters have been added in <class 'sklearn.linear_model.stochastic_gradient.SGDRegressor'> in 0.19. If both are left unset, they default to max_iter=5 and tol=None. If tol is not None, max_iter defaults to max_iter=1000. From 0.21, default max_iter will be 1000, and default tol will be 1e-3.\n",
      "  \"and default tol will be 1e-3.\" % type(self), FutureWarning)\n"
     ]
    },
    {
     "name": "stdout",
     "output_type": "stream",
     "text": [
      "SGDRegressor training time: 652.153s\n"
     ]
    }
   ],
   "source": [
    "from dummyPy import OneHotEncoder\n",
    "\n",
    "# Create one-hot encoder and fit it to the data\n",
    "encoder = OneHotEncoder(['postal_code', 'state'])\n",
    "encoder.fit(X_em)\n",
    "# Set parameters for batch training\n",
    "batch_size = 20000\n",
    "regressor_wage = SGDRegressor(random_state=seed)\n",
    "\n",
    "X_train, X_test, y_train, y_test = train_test_split(X_em, y_em, test_size=0.25, random_state=seed)\n",
    "\n",
    "# Get batches\n",
    "train_batches = batches(batch_size, X_train, y_train)\n",
    "\n",
    "# Start training\n",
    "start = time() #start time\n",
    "for X_batch, y_batch in train_batches:\n",
    "    X_batch_trans = encoder.transform(X_batch)\n",
    "    regressor_wage.partial_fit(X_batch_trans, y_batch)\n",
    "end = time() #end time\n",
    "\n",
    "regressor_name = regressor_wage.__class__.__name__\n",
    "print(\"%s training time: %.3fs\" %(regressor_name, end-start))"
   ]
  },
  {
   "cell_type": "code",
   "execution_count": 208,
   "metadata": {},
   "outputs": [
    {
     "name": "stdout",
     "output_type": "stream",
     "text": [
      "SGDRegressor mean absolute error: 0.11503581653320731\n"
     ]
    }
   ],
   "source": [
    "# Predict on test set\n",
    "test_batches = batches(batch_size, X_test, y_test)\n",
    "y_pred_wage = []\n",
    "for X_tbatch, y_tbatch in test_batches:\n",
    "    X_test_trans = encoder.transform(X_tbatch)\n",
    "    y_pred_wage.extend(regressor_wage.predict(X_test_trans))\n",
    "    \n",
    "# Calculate mean absolute error\n",
    "mean_error = mean_absolute_error(y_pred_wage, y_test)\n",
    "print(\"{} mean absolute error: {}\".format(regressor_name, mean_error))"
   ]
  },
  {
   "cell_type": "code",
   "execution_count": 209,
   "metadata": {},
   "outputs": [
    {
     "data": {
      "image/png": "[encoded data removed]",
      "text/plain": [
       "<matplotlib.figure.Figure at 0x7f10aa345a20>"
      ]
     },
     "metadata": {},
     "output_type": "display_data"
    }
   ],
   "source": [
    "plt.figure(figsize=(5,5))\n",
    "plt.scatter(y_test, y_pred_wage, alpha=0.7, s=1)\n",
    "plt.xlabel('Employer wage')\n",
    "plt.ylabel('Predicted employer wage')\n",
    "plt.show()"
   ]
  },
  {
   "cell_type": "markdown",
   "metadata": {},
   "source": [
    "Now let's predict prevailing wage from word model."
   ]
  },
  {
   "cell_type": "code",
   "execution_count": 242,
   "metadata": {},
   "outputs": [],
   "source": [
    "# Merged categotical columns per row\n",
    "X_em_full['merged'] = X_em_full.job_title + \" \" + X_em_full.occupational_name + \" \" \\\n",
    "                        + X_em_full.city + \" \" + X_pr.county + \" \" + X_pr.state \\\n",
    "                        + \" \" + X_pr.postal_code\n",
    "# Predict prevailing wage and add to X_em\n",
    "#X_em['pred_prevailing_wage'] = regressor1.predict(vectorizer.transform(X_em_full.merged))"
   ]
  },
  {
   "cell_type": "code",
   "execution_count": 253,
   "metadata": {},
   "outputs": [
    {
     "data": {
      "text/html": [
       "<div>\n",
       "<style scoped>\n",
       "    .dataframe tbody tr th:only-of-type {\n",
       "        vertical-align: middle;\n",
       "    }\n",
       "\n",
       "    .dataframe tbody tr th {\n",
       "        vertical-align: top;\n",
       "    }\n",
       "\n",
       "    .dataframe thead th {\n",
       "        text-align: right;\n",
       "    }\n",
       "</style>\n",
       "<table border=\"1\" class=\"dataframe\">\n",
       "  <thead>\n",
       "    <tr style=\"text-align: right;\">\n",
       "      <th></th>\n",
       "      <th>job_title</th>\n",
       "      <th>occupational_name</th>\n",
       "      <th>prevailing_wage</th>\n",
       "      <th>city</th>\n",
       "      <th>county</th>\n",
       "      <th>state</th>\n",
       "      <th>postal_code</th>\n",
       "      <th>merged</th>\n",
       "    </tr>\n",
       "  </thead>\n",
       "  <tbody>\n",
       "    <tr>\n",
       "      <th>357812</th>\n",
       "      <td>SENIOR JAVA DEVELOPER</td>\n",
       "      <td>SOFTWARE DEVELOPERS, APPLICATIONS</td>\n",
       "      <td>11.254279</td>\n",
       "      <td>DUBLIN</td>\n",
       "      <td>FRANKLIN</td>\n",
       "      <td>OH</td>\n",
       "      <td>43017</td>\n",
       "      <td>NaN</td>\n",
       "    </tr>\n",
       "    <tr>\n",
       "      <th>357813</th>\n",
       "      <td>POSTDOCTORAL ASSOCIATE</td>\n",
       "      <td>PHYSICISTS</td>\n",
       "      <td>10.827707</td>\n",
       "      <td>CAMBRIDGE</td>\n",
       "      <td>MIDDLESEX</td>\n",
       "      <td>MA</td>\n",
       "      <td>02139</td>\n",
       "      <td>NaN</td>\n",
       "    </tr>\n",
       "    <tr>\n",
       "      <th>357814</th>\n",
       "      <td>RESEARCH SCIENTIST</td>\n",
       "      <td>GEOSCIENTISTS, EXCEPT HYDROLOGISTS AND GEOGRAP...</td>\n",
       "      <td>11.019760</td>\n",
       "      <td>CAMBRIDGE</td>\n",
       "      <td>MIDDLESEX</td>\n",
       "      <td>MA</td>\n",
       "      <td>02139</td>\n",
       "      <td>NaN</td>\n",
       "    </tr>\n",
       "    <tr>\n",
       "      <th>357815</th>\n",
       "      <td>POSTDOCTORAL ASSOCIATE</td>\n",
       "      <td>MATERIALS ENGINEERS</td>\n",
       "      <td>10.630843</td>\n",
       "      <td>CAMBRIDGE</td>\n",
       "      <td>MIDDLESEX</td>\n",
       "      <td>MA</td>\n",
       "      <td>02139</td>\n",
       "      <td>NaN</td>\n",
       "    </tr>\n",
       "    <tr>\n",
       "      <th>357816</th>\n",
       "      <td>EVENTS AND INCENTIVES COORDINATOR</td>\n",
       "      <td>MEETING, CONVENTION, AND EVENT PLANNERS</td>\n",
       "      <td>10.718808</td>\n",
       "      <td>BEVERLY HILLS</td>\n",
       "      <td>LOS ANGELES</td>\n",
       "      <td>CA</td>\n",
       "      <td>90210</td>\n",
       "      <td>NaN</td>\n",
       "    </tr>\n",
       "  </tbody>\n",
       "</table>\n",
       "</div>"
      ],
      "text/plain": [
       "                                job_title  \\\n",
       "357812              SENIOR JAVA DEVELOPER   \n",
       "357813             POSTDOCTORAL ASSOCIATE   \n",
       "357814                 RESEARCH SCIENTIST   \n",
       "357815             POSTDOCTORAL ASSOCIATE   \n",
       "357816  EVENTS AND INCENTIVES COORDINATOR   \n",
       "\n",
       "                                        occupational_name  prevailing_wage  \\\n",
       "357812                  SOFTWARE DEVELOPERS, APPLICATIONS        11.254279   \n",
       "357813                                         PHYSICISTS        10.827707   \n",
       "357814  GEOSCIENTISTS, EXCEPT HYDROLOGISTS AND GEOGRAP...        11.019760   \n",
       "357815                                MATERIALS ENGINEERS        10.630843   \n",
       "357816            MEETING, CONVENTION, AND EVENT PLANNERS        10.718808   \n",
       "\n",
       "                 city       county state postal_code merged  \n",
       "357812         DUBLIN     FRANKLIN    OH       43017    NaN  \n",
       "357813      CAMBRIDGE    MIDDLESEX    MA       02139    NaN  \n",
       "357814      CAMBRIDGE    MIDDLESEX    MA       02139    NaN  \n",
       "357815      CAMBRIDGE    MIDDLESEX    MA       02139    NaN  \n",
       "357816  BEVERLY HILLS  LOS ANGELES    CA       90210    NaN  "
      ]
     },
     "execution_count": 253,
     "metadata": {},
     "output_type": "execute_result"
    }
   ],
   "source": [
    "X_em_full.tail()"
   ]
  },
  {
   "cell_type": "code",
   "execution_count": 213,
   "metadata": {},
   "outputs": [
    {
     "data": {
      "text/html": [
       "<div>\n",
       "<style scoped>\n",
       "    .dataframe tbody tr th:only-of-type {\n",
       "        vertical-align: middle;\n",
       "    }\n",
       "\n",
       "    .dataframe tbody tr th {\n",
       "        vertical-align: top;\n",
       "    }\n",
       "\n",
       "    .dataframe thead th {\n",
       "        text-align: right;\n",
       "    }\n",
       "</style>\n",
       "<table border=\"1\" class=\"dataframe\">\n",
       "  <thead>\n",
       "    <tr style=\"text-align: right;\">\n",
       "      <th></th>\n",
       "      <th>prevailing_wage</th>\n",
       "      <th>state</th>\n",
       "      <th>postal_code</th>\n",
       "    </tr>\n",
       "  </thead>\n",
       "  <tbody>\n",
       "    <tr>\n",
       "      <th>0</th>\n",
       "      <td>10.931499</td>\n",
       "      <td>NJ</td>\n",
       "      <td>07306</td>\n",
       "    </tr>\n",
       "    <tr>\n",
       "      <th>1</th>\n",
       "      <td>11.069914</td>\n",
       "      <td>UT</td>\n",
       "      <td>84111</td>\n",
       "    </tr>\n",
       "    <tr>\n",
       "      <th>2</th>\n",
       "      <td>11.260997</td>\n",
       "      <td>NJ</td>\n",
       "      <td>08534</td>\n",
       "    </tr>\n",
       "    <tr>\n",
       "      <th>3</th>\n",
       "      <td>11.359774</td>\n",
       "      <td>OH</td>\n",
       "      <td>44321</td>\n",
       "    </tr>\n",
       "    <tr>\n",
       "      <th>4</th>\n",
       "      <td>10.994572</td>\n",
       "      <td>VA</td>\n",
       "      <td>23230</td>\n",
       "    </tr>\n",
       "  </tbody>\n",
       "</table>\n",
       "</div>"
      ],
      "text/plain": [
       "   prevailing_wage state postal_code\n",
       "0        10.931499    NJ       07306\n",
       "1        11.069914    UT       84111\n",
       "2        11.260997    NJ       08534\n",
       "3        11.359774    OH       44321\n",
       "4        10.994572    VA       23230"
      ]
     },
     "execution_count": 213,
     "metadata": {},
     "output_type": "execute_result"
    }
   ],
   "source": [
    "X_em_full.head()"
   ]
  },
  {
   "cell_type": "code",
   "execution_count": null,
   "metadata": {},
   "outputs": [],
   "source": [
    "use_columns = ['pred_prevailig_wage', 'state', 'postal_code']\n",
    "X_train, X_test, y_train, y_test = train_test_split(X_em[use_columns], y_em, test_size=0.25, random_state=seed)\n",
    "\n",
    "# Get batches\n",
    "train_batches = batches(batch_size, X_train, y_train)\n",
    "# Initialize regressor\n",
    "regressor_wage_pred_pr = SGDRegressor(random_state=seed)\n",
    "# Start training\n",
    "start = time() #start time\n",
    "for X_batch, y_batch in train_batches:\n",
    "    X_batch_trans = encoder.transform(X_batch)\n",
    "    regressor_wage_pred_pr.partial_fit(X_batch_trans, y_batch)\n",
    "end = time() #end time\n",
    "\n",
    "regressor_name = regressor_wage.__class__.__name__\n",
    "print(\"%s training time: %.3fs\" %(regressor_name, end-start))"
   ]
  },
  {
   "cell_type": "code",
   "execution_count": null,
   "metadata": {},
   "outputs": [],
   "source": [
    "# Predict on test set\n",
    "test_batches = batches(batch_size, X_test, y_test)\n",
    "y_pred_wage = []\n",
    "for X_tbatch, y_tbatch in test_batches:\n",
    "    X_test_trans = encoder.transform(X_tbatch)\n",
    "    y_pred_wage.extend(regressor_wage.predict(X_test_trans))\n",
    "    \n",
    "# Calculate mean absolute error\n",
    "mean_error = mean_absolute_error(y_pred_wage, y_test)\n",
    "print(\"{} mean absolute error: {}\".format(regressor_name, mean_error))"
   ]
  },
  {
   "cell_type": "code",
   "execution_count": null,
   "metadata": {},
   "outputs": [],
   "source": [
    "plt.figure(figsize=(5,5))\n",
    "plt.scatter(y_test, y_pred_wage, alpha=0.7, s=1)\n",
    "plt.xlabel('Employer wage')\n",
    "plt.ylabel('Predicted employer wage')\n",
    "plt.show()"
   ]
  },
  {
   "cell_type": "code",
   "execution_count": null,
   "metadata": {},
   "outputs": [],
   "source": []
  },
  {
   "cell_type": "code",
   "execution_count": null,
   "metadata": {},
   "outputs": [],
   "source": []
  },
  {
   "cell_type": "code",
   "execution_count": null,
   "metadata": {},
   "outputs": [],
   "source": []
  },
  {
   "cell_type": "code",
   "execution_count": null,
   "metadata": {},
   "outputs": [],
   "source": []
  },
  {
   "cell_type": "code",
   "execution_count": null,
   "metadata": {},
   "outputs": [],
   "source": [
    "# Predict on test set\n",
    "for X_tbatch, y_tbatch in test_batches:\n",
    "    X_test_trans = encoder.transform(X_tbatch)\n",
    "    y_pred_wage.append(regressor.predict(X_test_trans))\n",
    "# Calculate mean absolute error\n",
    "mean_error = mean_absolute_error(y_pred_wage, y_test)\n",
    "print(\"{} mean absolute error: {}\".format(regressor_name, mean_error))"
   ]
  },
  {
   "cell_type": "code",
   "execution_count": 23,
   "metadata": {},
   "outputs": [
    {
     "name": "stderr",
     "output_type": "stream",
     "text": [
      "/home/pfgr/anaconda3/envs/h1b/lib/python3.6/site-packages/sklearn/linear_model/stochastic_gradient.py:128: FutureWarning: max_iter and tol parameters have been added in <class 'sklearn.linear_model.stochastic_gradient.SGDRegressor'> in 0.19. If both are left unset, they default to max_iter=5 and tol=None. If tol is not None, max_iter defaults to max_iter=1000. From 0.21, default max_iter will be 1000, and default tol will be 1e-3.\n",
      "  \"and default tol will be 1e-3.\" % type(self), FutureWarning)\n"
     ]
    },
    {
     "name": "stdout",
     "output_type": "stream",
     "text": [
      "SGDRegressor training time: 1375.546s\n",
      "SGDRegressor R^2 test score: 0.6263\n",
      "SGDRegressor mean absolute error: 0.1363211370272472\n"
     ]
    },
    {
     "name": "stderr",
     "output_type": "stream",
     "text": [
      "/home/pfgr/anaconda3/envs/h1b/lib/python3.6/site-packages/sklearn/linear_model/stochastic_gradient.py:128: FutureWarning: max_iter and tol parameters have been added in <class 'sklearn.linear_model.passive_aggressive.PassiveAggressiveRegressor'> in 0.19. If both are left unset, they default to max_iter=5 and tol=None. If tol is not None, max_iter defaults to max_iter=1000. From 0.21, default max_iter will be 1000, and default tol will be 1e-3.\n",
      "  \"and default tol will be 1e-3.\" % type(self), FutureWarning)\n"
     ]
    },
    {
     "name": "stdout",
     "output_type": "stream",
     "text": [
      "PassiveAggressiveRegressor training time: 1381.769s\n",
      "PassiveAggressiveRegressor R^2 test score: -3.6214\n",
      "PassiveAggressiveRegressor mean absolute error: 0.7543280838693444\n"
     ]
    }
   ],
   "source": [
    "\n",
    "#training_score = regressor.score(X_train, y_train)\n",
    "test_batches = batches(batch_size, X_test, y_test)\n",
    "test_score = 0\n",
    "mean_error = 0\n",
    "i = 0\n",
    "y_pred = []\n",
    "for X_tbatch, y_tbatch in test_batches:\n",
    "    X_test_trans = encoder.transform(X_tbatch)\n",
    "    test_score += regressor.score(X_test_trans, y_tbatch)\n",
    "    y_pred.append(regressor.predict(X_test_trans))\n",
    "    mean_error += mean_absolute_error(y_tbatch, y_pred)\n",
    "    i += 1\n",
    "print(\"%s R^2 test score: %.4f\" %(regressor_name, test_score/i))\n",
    "print(\"{} mean absolute error: {}\".format(regressor_name, mean_error/i))"
   ]
  },
  {
   "cell_type": "code",
   "execution_count": 28,
   "metadata": {},
   "outputs": [
    {
     "name": "stderr",
     "output_type": "stream",
     "text": [
      "/home/pfgr/anaconda3/envs/h1b/lib/python3.6/site-packages/sklearn/linear_model/stochastic_gradient.py:128: FutureWarning: max_iter and tol parameters have been added in <class 'sklearn.linear_model.stochastic_gradient.SGDRegressor'> in 0.19. If both are left unset, they default to max_iter=5 and tol=None. If tol is not None, max_iter defaults to max_iter=1000. From 0.21, default max_iter will be 1000, and default tol will be 1e-3.\n",
      "  \"and default tol will be 1e-3.\" % type(self), FutureWarning)\n"
     ]
    },
    {
     "ename": "MemoryError",
     "evalue": "",
     "output_type": "error",
     "traceback": [
      "\u001b[0;31m---------------------------------------------------------------------------\u001b[0m",
      "\u001b[0;31mMemoryError\u001b[0m                               Traceback (most recent call last)",
      "\u001b[0;32m<ipython-input-28-dcd92e1ca494>\u001b[0m in \u001b[0;36m<module>\u001b[0;34m()\u001b[0m\n\u001b[1;32m     10\u001b[0m     \u001b[0mregressor_name\u001b[0m \u001b[0;34m=\u001b[0m \u001b[0mregressor\u001b[0m\u001b[0;34m.\u001b[0m\u001b[0m__class__\u001b[0m\u001b[0;34m.\u001b[0m\u001b[0m__name__\u001b[0m\u001b[0;34m\u001b[0m\u001b[0m\n\u001b[1;32m     11\u001b[0m     \u001b[0;31m#training_score = regressor.score(X_train, y_train)\u001b[0m\u001b[0;34m\u001b[0m\u001b[0;34m\u001b[0m\u001b[0m\n\u001b[0;32m---> 12\u001b[0;31m     \u001b[0mtest_score\u001b[0m \u001b[0;34m=\u001b[0m \u001b[0mregressor\u001b[0m\u001b[0;34m.\u001b[0m\u001b[0mscore\u001b[0m\u001b[0;34m(\u001b[0m\u001b[0mX_test\u001b[0m\u001b[0;34m,\u001b[0m \u001b[0my_test\u001b[0m\u001b[0;34m)\u001b[0m\u001b[0;34m\u001b[0m\u001b[0m\n\u001b[0m\u001b[1;32m     13\u001b[0m     \u001b[0mprint\u001b[0m\u001b[0;34m(\u001b[0m\u001b[0;34m\"%s training time: %.3fs\"\u001b[0m \u001b[0;34m%\u001b[0m\u001b[0;34m(\u001b[0m\u001b[0mregressor_name\u001b[0m\u001b[0;34m,\u001b[0m \u001b[0mend\u001b[0m\u001b[0;34m-\u001b[0m\u001b[0mstart\u001b[0m\u001b[0;34m)\u001b[0m\u001b[0;34m)\u001b[0m\u001b[0;34m\u001b[0m\u001b[0m\n\u001b[1;32m     14\u001b[0m     \u001b[0;31m#print(\"%s R^2 training score: %.4f\" %(regressor_name, training_score))\u001b[0m\u001b[0;34m\u001b[0m\u001b[0;34m\u001b[0m\u001b[0m\n",
      "\u001b[0;32m~/anaconda3/envs/h1b/lib/python3.6/site-packages/sklearn/base.py\u001b[0m in \u001b[0;36mscore\u001b[0;34m(self, X, y, sample_weight)\u001b[0m\n\u001b[1;32m    384\u001b[0m \u001b[0;34m\u001b[0m\u001b[0m\n\u001b[1;32m    385\u001b[0m         \u001b[0;32mfrom\u001b[0m \u001b[0;34m.\u001b[0m\u001b[0mmetrics\u001b[0m \u001b[0;32mimport\u001b[0m \u001b[0mr2_score\u001b[0m\u001b[0;34m\u001b[0m\u001b[0m\n\u001b[0;32m--> 386\u001b[0;31m         return r2_score(y, self.predict(X), sample_weight=sample_weight,\n\u001b[0m\u001b[1;32m    387\u001b[0m                         multioutput='variance_weighted')\n\u001b[1;32m    388\u001b[0m \u001b[0;34m\u001b[0m\u001b[0m\n",
      "\u001b[0;32m~/anaconda3/envs/h1b/lib/python3.6/site-packages/sklearn/linear_model/stochastic_gradient.py\u001b[0m in \u001b[0;36mpredict\u001b[0;34m(self, X)\u001b[0m\n\u001b[1;32m   1087\u001b[0m            \u001b[0mPredicted\u001b[0m \u001b[0mtarget\u001b[0m \u001b[0mvalues\u001b[0m \u001b[0mper\u001b[0m \u001b[0melement\u001b[0m \u001b[0;32min\u001b[0m \u001b[0mX\u001b[0m\u001b[0;34m.\u001b[0m\u001b[0;34m\u001b[0m\u001b[0m\n\u001b[1;32m   1088\u001b[0m         \"\"\"\n\u001b[0;32m-> 1089\u001b[0;31m         \u001b[0;32mreturn\u001b[0m \u001b[0mself\u001b[0m\u001b[0;34m.\u001b[0m\u001b[0m_decision_function\u001b[0m\u001b[0;34m(\u001b[0m\u001b[0mX\u001b[0m\u001b[0;34m)\u001b[0m\u001b[0;34m\u001b[0m\u001b[0m\n\u001b[0m\u001b[1;32m   1090\u001b[0m \u001b[0;34m\u001b[0m\u001b[0m\n\u001b[1;32m   1091\u001b[0m     def _fit_regressor(self, X, y, alpha, C, loss, learning_rate,\n",
      "\u001b[0;32m~/anaconda3/envs/h1b/lib/python3.6/site-packages/sklearn/linear_model/stochastic_gradient.py\u001b[0m in \u001b[0;36m_decision_function\u001b[0;34m(self, X)\u001b[0m\n\u001b[1;32m   1069\u001b[0m         \u001b[0mcheck_is_fitted\u001b[0m\u001b[0;34m(\u001b[0m\u001b[0mself\u001b[0m\u001b[0;34m,\u001b[0m \u001b[0;34m[\u001b[0m\u001b[0;34m\"t_\"\u001b[0m\u001b[0;34m,\u001b[0m \u001b[0;34m\"coef_\"\u001b[0m\u001b[0;34m,\u001b[0m \u001b[0;34m\"intercept_\"\u001b[0m\u001b[0;34m]\u001b[0m\u001b[0;34m,\u001b[0m \u001b[0mall_or_any\u001b[0m\u001b[0;34m=\u001b[0m\u001b[0mall\u001b[0m\u001b[0;34m)\u001b[0m\u001b[0;34m\u001b[0m\u001b[0m\n\u001b[1;32m   1070\u001b[0m \u001b[0;34m\u001b[0m\u001b[0m\n\u001b[0;32m-> 1071\u001b[0;31m         \u001b[0mX\u001b[0m \u001b[0;34m=\u001b[0m \u001b[0mcheck_array\u001b[0m\u001b[0;34m(\u001b[0m\u001b[0mX\u001b[0m\u001b[0;34m,\u001b[0m \u001b[0maccept_sparse\u001b[0m\u001b[0;34m=\u001b[0m\u001b[0;34m'csr'\u001b[0m\u001b[0;34m)\u001b[0m\u001b[0;34m\u001b[0m\u001b[0m\n\u001b[0m\u001b[1;32m   1072\u001b[0m \u001b[0;34m\u001b[0m\u001b[0m\n\u001b[1;32m   1073\u001b[0m         scores = safe_sparse_dot(X, self.coef_.T,\n",
      "\u001b[0;32m~/anaconda3/envs/h1b/lib/python3.6/site-packages/sklearn/utils/validation.py\u001b[0m in \u001b[0;36mcheck_array\u001b[0;34m(array, accept_sparse, dtype, order, copy, force_all_finite, ensure_2d, allow_nd, ensure_min_samples, ensure_min_features, warn_on_dtype, estimator)\u001b[0m\n\u001b[1;32m    431\u001b[0m                                       force_all_finite)\n\u001b[1;32m    432\u001b[0m     \u001b[0;32melse\u001b[0m\u001b[0;34m:\u001b[0m\u001b[0;34m\u001b[0m\u001b[0m\n\u001b[0;32m--> 433\u001b[0;31m         \u001b[0marray\u001b[0m \u001b[0;34m=\u001b[0m \u001b[0mnp\u001b[0m\u001b[0;34m.\u001b[0m\u001b[0marray\u001b[0m\u001b[0;34m(\u001b[0m\u001b[0marray\u001b[0m\u001b[0;34m,\u001b[0m \u001b[0mdtype\u001b[0m\u001b[0;34m=\u001b[0m\u001b[0mdtype\u001b[0m\u001b[0;34m,\u001b[0m \u001b[0morder\u001b[0m\u001b[0;34m=\u001b[0m\u001b[0morder\u001b[0m\u001b[0;34m,\u001b[0m \u001b[0mcopy\u001b[0m\u001b[0;34m=\u001b[0m\u001b[0mcopy\u001b[0m\u001b[0;34m)\u001b[0m\u001b[0;34m\u001b[0m\u001b[0m\n\u001b[0m\u001b[1;32m    434\u001b[0m \u001b[0;34m\u001b[0m\u001b[0m\n\u001b[1;32m    435\u001b[0m         \u001b[0;32mif\u001b[0m \u001b[0mensure_2d\u001b[0m\u001b[0;34m:\u001b[0m\u001b[0;34m\u001b[0m\u001b[0m\n",
      "\u001b[0;32m~/anaconda3/envs/h1b/lib/python3.6/site-packages/pandas/core/generic.py\u001b[0m in \u001b[0;36m__array__\u001b[0;34m(self, dtype)\u001b[0m\n\u001b[1;32m   1149\u001b[0m \u001b[0;34m\u001b[0m\u001b[0m\n\u001b[1;32m   1150\u001b[0m     \u001b[0;32mdef\u001b[0m \u001b[0m__array__\u001b[0m\u001b[0;34m(\u001b[0m\u001b[0mself\u001b[0m\u001b[0;34m,\u001b[0m \u001b[0mdtype\u001b[0m\u001b[0;34m=\u001b[0m\u001b[0;32mNone\u001b[0m\u001b[0;34m)\u001b[0m\u001b[0;34m:\u001b[0m\u001b[0;34m\u001b[0m\u001b[0m\n\u001b[0;32m-> 1151\u001b[0;31m         \u001b[0;32mreturn\u001b[0m \u001b[0m_values_from_object\u001b[0m\u001b[0;34m(\u001b[0m\u001b[0mself\u001b[0m\u001b[0;34m)\u001b[0m\u001b[0;34m\u001b[0m\u001b[0m\n\u001b[0m\u001b[1;32m   1152\u001b[0m \u001b[0;34m\u001b[0m\u001b[0m\n\u001b[1;32m   1153\u001b[0m     \u001b[0;32mdef\u001b[0m \u001b[0m__array_wrap__\u001b[0m\u001b[0;34m(\u001b[0m\u001b[0mself\u001b[0m\u001b[0;34m,\u001b[0m \u001b[0mresult\u001b[0m\u001b[0;34m,\u001b[0m \u001b[0mcontext\u001b[0m\u001b[0;34m=\u001b[0m\u001b[0;32mNone\u001b[0m\u001b[0;34m)\u001b[0m\u001b[0;34m:\u001b[0m\u001b[0;34m\u001b[0m\u001b[0m\n",
      "\u001b[0;32mpandas/_libs/lib.pyx\u001b[0m in \u001b[0;36mpandas._libs.lib.values_from_object\u001b[0;34m()\u001b[0m\n",
      "\u001b[0;32m~/anaconda3/envs/h1b/lib/python3.6/site-packages/pandas/core/generic.py\u001b[0m in \u001b[0;36mget_values\u001b[0;34m(self)\u001b[0m\n\u001b[1;32m   3823\u001b[0m     \u001b[0;32mdef\u001b[0m \u001b[0mget_values\u001b[0m\u001b[0;34m(\u001b[0m\u001b[0mself\u001b[0m\u001b[0;34m)\u001b[0m\u001b[0;34m:\u001b[0m\u001b[0;34m\u001b[0m\u001b[0m\n\u001b[1;32m   3824\u001b[0m         \u001b[0;34m\"\"\"same as values (but handles sparseness conversions)\"\"\"\u001b[0m\u001b[0;34m\u001b[0m\u001b[0m\n\u001b[0;32m-> 3825\u001b[0;31m         \u001b[0;32mreturn\u001b[0m \u001b[0mself\u001b[0m\u001b[0;34m.\u001b[0m\u001b[0mas_matrix\u001b[0m\u001b[0;34m(\u001b[0m\u001b[0;34m)\u001b[0m\u001b[0;34m\u001b[0m\u001b[0m\n\u001b[0m\u001b[1;32m   3826\u001b[0m \u001b[0;34m\u001b[0m\u001b[0m\n\u001b[1;32m   3827\u001b[0m     \u001b[0;32mdef\u001b[0m \u001b[0mget_dtype_counts\u001b[0m\u001b[0;34m(\u001b[0m\u001b[0mself\u001b[0m\u001b[0;34m)\u001b[0m\u001b[0;34m:\u001b[0m\u001b[0;34m\u001b[0m\u001b[0m\n",
      "\u001b[0;32m~/anaconda3/envs/h1b/lib/python3.6/site-packages/pandas/core/generic.py\u001b[0m in \u001b[0;36mas_matrix\u001b[0;34m(self, columns)\u001b[0m\n\u001b[1;32m   3790\u001b[0m         \u001b[0mself\u001b[0m\u001b[0;34m.\u001b[0m\u001b[0m_consolidate_inplace\u001b[0m\u001b[0;34m(\u001b[0m\u001b[0;34m)\u001b[0m\u001b[0;34m\u001b[0m\u001b[0m\n\u001b[1;32m   3791\u001b[0m         \u001b[0;32mif\u001b[0m \u001b[0mself\u001b[0m\u001b[0;34m.\u001b[0m\u001b[0m_AXIS_REVERSED\u001b[0m\u001b[0;34m:\u001b[0m\u001b[0;34m\u001b[0m\u001b[0m\n\u001b[0;32m-> 3792\u001b[0;31m             \u001b[0;32mreturn\u001b[0m \u001b[0mself\u001b[0m\u001b[0;34m.\u001b[0m\u001b[0m_data\u001b[0m\u001b[0;34m.\u001b[0m\u001b[0mas_matrix\u001b[0m\u001b[0;34m(\u001b[0m\u001b[0mcolumns\u001b[0m\u001b[0;34m)\u001b[0m\u001b[0;34m.\u001b[0m\u001b[0mT\u001b[0m\u001b[0;34m\u001b[0m\u001b[0m\n\u001b[0m\u001b[1;32m   3793\u001b[0m         \u001b[0;32mreturn\u001b[0m \u001b[0mself\u001b[0m\u001b[0;34m.\u001b[0m\u001b[0m_data\u001b[0m\u001b[0;34m.\u001b[0m\u001b[0mas_matrix\u001b[0m\u001b[0;34m(\u001b[0m\u001b[0mcolumns\u001b[0m\u001b[0;34m)\u001b[0m\u001b[0;34m\u001b[0m\u001b[0m\n\u001b[1;32m   3794\u001b[0m \u001b[0;34m\u001b[0m\u001b[0m\n",
      "\u001b[0;32m~/anaconda3/envs/h1b/lib/python3.6/site-packages/pandas/core/internals.py\u001b[0m in \u001b[0;36mas_matrix\u001b[0;34m(self, items)\u001b[0m\n\u001b[1;32m   3676\u001b[0m             \u001b[0;32mreturn\u001b[0m \u001b[0mmgr\u001b[0m\u001b[0;34m.\u001b[0m\u001b[0mblocks\u001b[0m\u001b[0;34m[\u001b[0m\u001b[0;36m0\u001b[0m\u001b[0;34m]\u001b[0m\u001b[0;34m.\u001b[0m\u001b[0mget_values\u001b[0m\u001b[0;34m(\u001b[0m\u001b[0;34m)\u001b[0m\u001b[0;34m\u001b[0m\u001b[0m\n\u001b[1;32m   3677\u001b[0m         \u001b[0;32melse\u001b[0m\u001b[0;34m:\u001b[0m\u001b[0;34m\u001b[0m\u001b[0m\n\u001b[0;32m-> 3678\u001b[0;31m             \u001b[0;32mreturn\u001b[0m \u001b[0mmgr\u001b[0m\u001b[0;34m.\u001b[0m\u001b[0m_interleave\u001b[0m\u001b[0;34m(\u001b[0m\u001b[0;34m)\u001b[0m\u001b[0;34m\u001b[0m\u001b[0m\n\u001b[0m\u001b[1;32m   3679\u001b[0m \u001b[0;34m\u001b[0m\u001b[0m\n\u001b[1;32m   3680\u001b[0m     \u001b[0;32mdef\u001b[0m \u001b[0m_interleave\u001b[0m\u001b[0;34m(\u001b[0m\u001b[0mself\u001b[0m\u001b[0;34m)\u001b[0m\u001b[0;34m:\u001b[0m\u001b[0;34m\u001b[0m\u001b[0m\n",
      "\u001b[0;32m~/anaconda3/envs/h1b/lib/python3.6/site-packages/pandas/core/internals.py\u001b[0m in \u001b[0;36m_interleave\u001b[0;34m(self)\u001b[0m\n\u001b[1;32m   3685\u001b[0m         \u001b[0mdtype\u001b[0m \u001b[0;34m=\u001b[0m \u001b[0m_interleaved_dtype\u001b[0m\u001b[0;34m(\u001b[0m\u001b[0mself\u001b[0m\u001b[0;34m.\u001b[0m\u001b[0mblocks\u001b[0m\u001b[0;34m)\u001b[0m\u001b[0;34m\u001b[0m\u001b[0m\n\u001b[1;32m   3686\u001b[0m \u001b[0;34m\u001b[0m\u001b[0m\n\u001b[0;32m-> 3687\u001b[0;31m         \u001b[0mresult\u001b[0m \u001b[0;34m=\u001b[0m \u001b[0mnp\u001b[0m\u001b[0;34m.\u001b[0m\u001b[0mempty\u001b[0m\u001b[0;34m(\u001b[0m\u001b[0mself\u001b[0m\u001b[0;34m.\u001b[0m\u001b[0mshape\u001b[0m\u001b[0;34m,\u001b[0m \u001b[0mdtype\u001b[0m\u001b[0;34m=\u001b[0m\u001b[0mdtype\u001b[0m\u001b[0;34m)\u001b[0m\u001b[0;34m\u001b[0m\u001b[0m\n\u001b[0m\u001b[1;32m   3688\u001b[0m \u001b[0;34m\u001b[0m\u001b[0m\n\u001b[1;32m   3689\u001b[0m         \u001b[0;32mif\u001b[0m \u001b[0mresult\u001b[0m\u001b[0;34m.\u001b[0m\u001b[0mshape\u001b[0m\u001b[0;34m[\u001b[0m\u001b[0;36m0\u001b[0m\u001b[0;34m]\u001b[0m \u001b[0;34m==\u001b[0m \u001b[0;36m0\u001b[0m\u001b[0;34m:\u001b[0m\u001b[0;34m\u001b[0m\u001b[0m\n",
      "\u001b[0;31mMemoryError\u001b[0m: "
     ]
    }
   ],
   "source": [
    "regressor_1 = SGDRegressor(random_state=random_state)\n",
    "X_train, X_test, y_train, y_test = train_test_split(X_, y, test_size=0.25, random_state=random_state)\n",
    "iterator = batches(batch_size, X_train, y_train)\n",
    "for regressor in [regressor_1]:\n",
    "    start = time() #start time\n",
    "    for X_batch, y_batch in iterator:\n",
    "        regressor.partial_fit(X_batch, y_batch)\n",
    "    end = time() #end time\n",
    "    \n",
    "    regressor_name = regressor.__class__.__name__\n",
    "    #training_score = regressor.score(X_train, y_train)\n",
    "    test_score = regressor.score(X_test, y_test)\n",
    "    print(\"%s training time: %.3fs\" %(regressor_name, end-start))\n",
    "    #print(\"%s R^2 training score: %.4f\" %(regressor_name, training_score))\n",
    "    print(\"%s R^2 test score: %.4f\" %(regressor_name, test_score))\n",
    "    y_pred = regressor.predict(X_test)\n",
    "    mean_error = mean_absolute_error(y_test, y_pred)\n",
    "    print(\"Mean absolute error: {}\".format(mean_error))"
   ]
  },
  {
   "cell_type": "code",
   "execution_count": null,
   "metadata": {},
   "outputs": [],
   "source": [
    "encoder.transform(X[:4])"
   ]
  },
  {
   "cell_type": "code",
   "execution_count": null,
   "metadata": {},
   "outputs": [],
   "source": [
    "X__ = X_.drop(['city'], axis=1)"
   ]
  },
  {
   "cell_type": "code",
   "execution_count": null,
   "metadata": {},
   "outputs": [],
   "source": [
    "pd.get_dummies(X, columns=['county'], drop_first=True)"
   ]
  },
  {
   "cell_type": "code",
   "execution_count": null,
   "metadata": {},
   "outputs": [],
   "source": [
    "np.sum(X.employer.value_counts() <= 10)"
   ]
  },
  {
   "cell_type": "code",
   "execution_count": null,
   "metadata": {},
   "outputs": [],
   "source": [
    "pd.get_dummies(X, columns=['postal_code'], drop_first=True)"
   ]
  }
 ],
 "metadata": {
  "kernelspec": {
   "display_name": "Python 3",
   "language": "python",
   "name": "python3"
  },
  "language_info": {
   "codemirror_mode": {
    "name": "ipython",
    "version": 3
   },
   "file_extension": ".py",
   "mimetype": "text/x-python",
   "name": "python",
   "nbconvert_exporter": "python",
   "pygments_lexer": "ipython3",
   "version": "3.6.4"
  }
 },
 "nbformat": 4,
 "nbformat_minor": 2
}
