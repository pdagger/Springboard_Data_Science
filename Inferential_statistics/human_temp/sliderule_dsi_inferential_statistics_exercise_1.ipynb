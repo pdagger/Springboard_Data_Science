{
 "cells": [
  {
   "cell_type": "markdown",
   "metadata": {},
   "source": [
    "# What is the True Normal Human Body Temperature? \n",
    "\n",
    "#### Background\n",
    "\n",
    "The mean normal body temperature was held to be 37$^{\\circ}$C or 98.6$^{\\circ}$F for more than 120 years since it was first conceptualized and reported by Carl Wunderlich in a famous 1868 book. But, is this value statistically correct?"
   ]
  },
  {
   "cell_type": "markdown",
   "metadata": {},
   "source": [
    "<h3>Exercises</h3>\n",
    "\n",
    "<p>In this exercise, you will analyze a dataset of human body temperatures and employ the concepts of hypothesis testing, confidence intervals, and statistical significance.</p>\n",
    "\n",
    "<p>Answer the following questions <b>in this notebook below and submit to your Github account</b>.</p> \n",
    "\n",
    "<ol>\n",
    "<li>  Is the distribution of body temperatures normal? ? \n",
    "    <ul>\n",
    "    <li> Although this is not a requirement for CLT to hold (read CLT carefully), it gives us some peace of mind that the population may also be normally distributed if we assume that this sample is representative of the population.\n",
    "    </ul>\n",
    "<li>  Is the sample size large? Are the observations independent?\n",
    "    <ul>\n",
    "    <li> Remember that this is a condition for the CLT, and hence the statistical tests we are using, to apply.\n",
    "    </ul>\n",
    "<li>  Is the true population mean really 98.6 degrees F?\n",
    "    <ul>\n",
    "    <li> Would you use a one-sample or two-sample test? Why?\n",
    "    <li> In this situation, is it appropriate to use the $t$ or $z$ statistic? \n",
    "    <li> Now try using the other test. How is the result be different? Why?\n",
    "    </ul>\n",
    "<li>  Draw a small sample of size 10 from the data and repeat both tests. \n",
    "    <ul>\n",
    "    <li> Which one is the correct one to use? \n",
    "    <li> What do you notice? What does this tell you about the difference in application of the $t$ and $z$ statistic?\n",
    "    </ul>\n",
    "<li>  At what temperature should we consider someone's temperature to be \"abnormal\"?\n",
    "    <ul>\n",
    "    <li> Start by computing the margin of error and confidence interval.\n",
    "    </ul>\n",
    "<li>  Is there a significant difference between males and females in normal temperature?\n",
    "    <ul>\n",
    "    <li> What test did you use and why?\n",
    "    <li> Write a story with your conclusion in the context of the original problem.\n",
    "    </ul>\n",
    "</ol>\n",
    "\n",
    "You can include written notes in notebook cells using Markdown: \n",
    "   - In the control panel at the top, choose Cell > Cell Type > Markdown\n",
    "   - Markdown syntax: http://nestacms.com/docs/creating-content/markdown-cheat-sheet\n",
    "\n",
    "#### Resources\n",
    "\n",
    "+ Information and data sources: http://www.amstat.org/publications/jse/datasets/normtemp.txt, http://www.amstat.org/publications/jse/jse_data_archive.htm\n",
    "+ Markdown syntax: http://nestacms.com/docs/creating-content/markdown-cheat-sheet\n",
    "\n",
    "****"
   ]
  },
  {
   "cell_type": "code",
   "execution_count": 199,
   "metadata": {},
   "outputs": [],
   "source": [
    "import pandas as pd\n",
    "\n",
    "df = pd.read_csv('data/human_body_temperature.csv')"
   ]
  },
  {
   "cell_type": "code",
   "execution_count": 2,
   "metadata": {},
   "outputs": [],
   "source": [
    "# Your work here."
   ]
  },
  {
   "cell_type": "code",
   "execution_count": 3,
   "metadata": {},
   "outputs": [],
   "source": [
    "import numpy as np\n",
    "import matplotlib.pyplot as plt\n",
    "import seaborn as sns"
   ]
  },
  {
   "cell_type": "markdown",
   "metadata": {},
   "source": [
    "First let's exploratore the data quickly to become familiarize with it and to check if there are any inconsistencies before we start the exploartory data analysis."
   ]
  },
  {
   "cell_type": "code",
   "execution_count": 4,
   "metadata": {},
   "outputs": [
    {
     "data": {
      "text/html": [
       "<div>\n",
       "<style scoped>\n",
       "    .dataframe tbody tr th:only-of-type {\n",
       "        vertical-align: middle;\n",
       "    }\n",
       "\n",
       "    .dataframe tbody tr th {\n",
       "        vertical-align: top;\n",
       "    }\n",
       "\n",
       "    .dataframe thead th {\n",
       "        text-align: right;\n",
       "    }\n",
       "</style>\n",
       "<table border=\"1\" class=\"dataframe\">\n",
       "  <thead>\n",
       "    <tr style=\"text-align: right;\">\n",
       "      <th></th>\n",
       "      <th>temperature</th>\n",
       "      <th>gender</th>\n",
       "      <th>heart_rate</th>\n",
       "    </tr>\n",
       "  </thead>\n",
       "  <tbody>\n",
       "    <tr>\n",
       "      <th>0</th>\n",
       "      <td>99.3</td>\n",
       "      <td>F</td>\n",
       "      <td>68.0</td>\n",
       "    </tr>\n",
       "    <tr>\n",
       "      <th>1</th>\n",
       "      <td>98.4</td>\n",
       "      <td>F</td>\n",
       "      <td>81.0</td>\n",
       "    </tr>\n",
       "    <tr>\n",
       "      <th>2</th>\n",
       "      <td>97.8</td>\n",
       "      <td>M</td>\n",
       "      <td>73.0</td>\n",
       "    </tr>\n",
       "    <tr>\n",
       "      <th>3</th>\n",
       "      <td>99.2</td>\n",
       "      <td>F</td>\n",
       "      <td>66.0</td>\n",
       "    </tr>\n",
       "    <tr>\n",
       "      <th>4</th>\n",
       "      <td>98.0</td>\n",
       "      <td>F</td>\n",
       "      <td>73.0</td>\n",
       "    </tr>\n",
       "  </tbody>\n",
       "</table>\n",
       "</div>"
      ],
      "text/plain": [
       "   temperature gender  heart_rate\n",
       "0         99.3      F        68.0\n",
       "1         98.4      F        81.0\n",
       "2         97.8      M        73.0\n",
       "3         99.2      F        66.0\n",
       "4         98.0      F        73.0"
      ]
     },
     "execution_count": 4,
     "metadata": {},
     "output_type": "execute_result"
    }
   ],
   "source": [
    "df.head()"
   ]
  },
  {
   "cell_type": "code",
   "execution_count": 5,
   "metadata": {},
   "outputs": [
    {
     "name": "stdout",
     "output_type": "stream",
     "text": [
      "<class 'pandas.core.frame.DataFrame'>\n",
      "RangeIndex: 130 entries, 0 to 129\n",
      "Data columns (total 3 columns):\n",
      "temperature    130 non-null float64\n",
      "gender         130 non-null object\n",
      "heart_rate     130 non-null float64\n",
      "dtypes: float64(2), object(1)\n",
      "memory usage: 3.1+ KB\n"
     ]
    }
   ],
   "source": [
    "df.info()"
   ]
  },
  {
   "cell_type": "code",
   "execution_count": 6,
   "metadata": {},
   "outputs": [
    {
     "data": {
      "text/html": [
       "<div>\n",
       "<style scoped>\n",
       "    .dataframe tbody tr th:only-of-type {\n",
       "        vertical-align: middle;\n",
       "    }\n",
       "\n",
       "    .dataframe tbody tr th {\n",
       "        vertical-align: top;\n",
       "    }\n",
       "\n",
       "    .dataframe thead th {\n",
       "        text-align: right;\n",
       "    }\n",
       "</style>\n",
       "<table border=\"1\" class=\"dataframe\">\n",
       "  <thead>\n",
       "    <tr style=\"text-align: right;\">\n",
       "      <th></th>\n",
       "      <th>temperature</th>\n",
       "      <th>heart_rate</th>\n",
       "    </tr>\n",
       "  </thead>\n",
       "  <tbody>\n",
       "    <tr>\n",
       "      <th>count</th>\n",
       "      <td>130.000000</td>\n",
       "      <td>130.000000</td>\n",
       "    </tr>\n",
       "    <tr>\n",
       "      <th>mean</th>\n",
       "      <td>98.249231</td>\n",
       "      <td>73.761538</td>\n",
       "    </tr>\n",
       "    <tr>\n",
       "      <th>std</th>\n",
       "      <td>0.733183</td>\n",
       "      <td>7.062077</td>\n",
       "    </tr>\n",
       "    <tr>\n",
       "      <th>min</th>\n",
       "      <td>96.300000</td>\n",
       "      <td>57.000000</td>\n",
       "    </tr>\n",
       "    <tr>\n",
       "      <th>25%</th>\n",
       "      <td>97.800000</td>\n",
       "      <td>69.000000</td>\n",
       "    </tr>\n",
       "    <tr>\n",
       "      <th>50%</th>\n",
       "      <td>98.300000</td>\n",
       "      <td>74.000000</td>\n",
       "    </tr>\n",
       "    <tr>\n",
       "      <th>75%</th>\n",
       "      <td>98.700000</td>\n",
       "      <td>79.000000</td>\n",
       "    </tr>\n",
       "    <tr>\n",
       "      <th>max</th>\n",
       "      <td>100.800000</td>\n",
       "      <td>89.000000</td>\n",
       "    </tr>\n",
       "  </tbody>\n",
       "</table>\n",
       "</div>"
      ],
      "text/plain": [
       "       temperature  heart_rate\n",
       "count   130.000000  130.000000\n",
       "mean     98.249231   73.761538\n",
       "std       0.733183    7.062077\n",
       "min      96.300000   57.000000\n",
       "25%      97.800000   69.000000\n",
       "50%      98.300000   74.000000\n",
       "75%      98.700000   79.000000\n",
       "max     100.800000   89.000000"
      ]
     },
     "execution_count": 6,
     "metadata": {},
     "output_type": "execute_result"
    }
   ],
   "source": [
    "df.describe()"
   ]
  },
  {
   "cell_type": "code",
   "execution_count": 7,
   "metadata": {},
   "outputs": [
    {
     "data": {
      "image/png": "[encoded data removed]",
      "text/plain": [
       "<matplotlib.figure.Figure at 0x7f320dc89828>"
      ]
     },
     "metadata": {},
     "output_type": "display_data"
    }
   ],
   "source": [
    "_ = sns.swarmplot(data=df)\n",
    "plt.show()"
   ]
  },
  {
   "cell_type": "markdown",
   "metadata": {},
   "source": [
    "The heart rate and the temperature seem to be in the expected human ranges and there are no NULL or missing values on the data frame, so we can start answering the questions."
   ]
  },
  {
   "cell_type": "markdown",
   "metadata": {},
   "source": [
    "### 1. Is the distribution of body temperatures normal? "
   ]
  },
  {
   "cell_type": "markdown",
   "metadata": {},
   "source": [
    "We are going to calculate the standard deviation and the mean of the temperature data to simulate a normal distribution to plot against the normalized temperature histogram."
   ]
  },
  {
   "cell_type": "code",
   "execution_count": 8,
   "metadata": {},
   "outputs": [],
   "source": [
    "#The mean and standard deviation of the temperatures are:\n",
    "mean_T = np.mean(df.temperature)\n",
    "std_T = np.std(df.temperature)"
   ]
  },
  {
   "cell_type": "code",
   "execution_count": 30,
   "metadata": {},
   "outputs": [],
   "source": [
    "#We create a normal distribution set from the parameters above:\n",
    "np.random.seed(42)\n",
    "norm_T = np.random.normal(mean_T, std_T, size=100000)"
   ]
  },
  {
   "cell_type": "code",
   "execution_count": 31,
   "metadata": {},
   "outputs": [
    {
     "data": {
      "image/png": "[encoded data removed]",
      "text/plain": [
       "<matplotlib.figure.Figure at 0x7f31d2b66400>"
      ]
     },
     "metadata": {},
     "output_type": "display_data"
    }
   ],
   "source": [
    "#We plot the simulated data with the original data\n",
    "#for bin size we take the square root of the number of data points\n",
    "sns.set()\n",
    "_ = plt.hist(df.temperature, normed=True, bins=int(np.sqrt(len(df.temperature))), edgecolor='b')\n",
    "_ = plt.hist(norm_T, normed=True, histtype = 'step', bins=int(np.sqrt(len(norm_T))), color='k')\n",
    "plt.show()"
   ]
  },
  {
   "cell_type": "markdown",
   "metadata": {},
   "source": [
    "**The temperature seems to be normally distributed but to be sure let's check with the cumulative density functions (CDF).**"
   ]
  },
  {
   "cell_type": "code",
   "execution_count": 32,
   "metadata": {},
   "outputs": [],
   "source": [
    "def ecdf(data):\n",
    "    #Function computing the ECDF of a one dimensional set of measurements\n",
    "    x = np.sort(data)\n",
    "    y = np.arange(1,len(data)+1) / len(data)\n",
    "    return x, y    "
   ]
  },
  {
   "cell_type": "code",
   "execution_count": 33,
   "metadata": {},
   "outputs": [],
   "source": [
    "#CDF for temperature data\n",
    "x_T, y_T = ecdf(df.temperature)\n",
    "#CDF for simulated data:\n",
    "x_norm_T, y_norm_T = ecdf(norm_T)"
   ]
  },
  {
   "cell_type": "code",
   "execution_count": 219,
   "metadata": {},
   "outputs": [
    {
     "data": {
      "image/png": "[encoded data removed]",
      "text/plain": [
       "<matplotlib.figure.Figure at 0x7f31d2ed2a20>"
      ]
     },
     "metadata": {},
     "output_type": "display_data"
    }
   ],
   "source": [
    "#Plotting CDF of measurements and simulated data\n",
    "_ = plt.plot(x_T, y_T, marker='.', linestyle='none')\n",
    "_ = plt.plot(x_norm_T, y_norm_T)\n",
    "_ = plt.xlabel('Temperature (\\u00b0F)')\n",
    "_ = plt.ylabel('CDF')\n",
    "\n",
    "plt.margins(0.02)\n",
    "plt.legend(('Original', 'Simulated'), loc='lower right')\n",
    "\n",
    "plt.show()"
   ]
  },
  {
   "cell_type": "markdown",
   "metadata": {},
   "source": [
    "**From the CDF plots we see that the body temperatures CDF follows the normal distribution CDF. Then we can affirm that the distribution of body temperatures is normal.**"
   ]
  },
  {
   "cell_type": "markdown",
   "metadata": {},
   "source": [
    "### 2. Is the sample size large? Are the observations independent?"
   ]
  },
  {
   "cell_type": "code",
   "execution_count": 29,
   "metadata": {},
   "outputs": [
    {
     "name": "stdout",
     "output_type": "stream",
     "text": [
      "The sample has 130 entries.\n"
     ]
    }
   ],
   "source": [
    "print('The sample has {} entries.'.format(len(df)))"
   ]
  },
  {
   "cell_type": "markdown",
   "metadata": {},
   "source": [
    "Given that a scale defining large is not given in the problem let's use the conclusion from the question above to answer. \n",
    "\n",
    "From the question above we concluded that the temperature data follows the shape of a normal distribution, so by the definition of a normal distribution we infere that the temperature observations are independent and that at least the sample size was large enough to conclude on the normality of the data's distribution."
   ]
  },
  {
   "cell_type": "markdown",
   "metadata": {},
   "source": [
    "### 3. Is the true population mean really 98.6 degrees F?"
   ]
  },
  {
   "cell_type": "markdown",
   "metadata": {},
   "source": [
    " * Would you use a one-sample or two-sample test? Why?"
   ]
  },
  {
   "cell_type": "markdown",
   "metadata": {},
   "source": [
    "The temperatures samples are taken for two kinds of populations: female and male. However as general knowledge, it is always accepted that the mean temperature for a human being is independent of its sex. Considering this and that the real mean is given I will use a one sample test where the gender is not assumed important in the final result. "
   ]
  },
  {
   "cell_type": "markdown",
   "metadata": {},
   "source": [
    "* In this situation, is it appropriate to use the $t$ or $z$ statistic?"
   ]
  },
  {
   "cell_type": "markdown",
   "metadata": {},
   "source": [
    "Null hypothesis: the real population mean temperature is 98.6 <sup>o</sup>F and it may have been obtained if the data acquisition was repeated several times."
   ]
  },
  {
   "cell_type": "code",
   "execution_count": 241,
   "metadata": {},
   "outputs": [
    {
     "name": "stdout",
     "output_type": "stream",
     "text": [
      "Mean temperature: 98.2 °F\n",
      "Standard deviation: 0.73 °F\n"
     ]
    }
   ],
   "source": [
    "#Mean of the temperature data:\n",
    "print('Mean temperature: {:.3} \\u00b0F\\nStandard deviation: {:.3} \\u00b0F'.format(mean_T, std_T))"
   ]
  },
  {
   "cell_type": "code",
   "execution_count": 245,
   "metadata": {},
   "outputs": [],
   "source": [
    "#True population mean\n",
    "real_T = 98.6"
   ]
  },
  {
   "cell_type": "code",
   "execution_count": 246,
   "metadata": {},
   "outputs": [],
   "source": [
    "#Shifted temperature data\n",
    "df_shift = df.temperature - mean_T + real_T"
   ]
  },
  {
   "cell_type": "code",
   "execution_count": 247,
   "metadata": {},
   "outputs": [],
   "source": [
    "def bs_reps(data, func, size=1):\n",
    "    #Draw bootstrap replicates function.\n",
    "    #data: data from which we create the replicate statistic\n",
    "    #func: replicate statistic \n",
    "    #size: number of times to replicate\n",
    "\n",
    "    # Initialize array of replicates: bs_replicates\n",
    "    bs_replicates = np.empty(size)\n",
    "\n",
    "    # Generate replicates\n",
    "    for i in range(size):\n",
    "        bs_replicates[i] = func(np.random.choice(data, size=len(data)))\n",
    "\n",
    "    return bs_replicates"
   ]
  },
  {
   "cell_type": "code",
   "execution_count": 248,
   "metadata": {},
   "outputs": [],
   "source": [
    "#Create 10000 bootstrap replicates of the shifted mean temperature\n",
    "bs_replicates = bs_reps(df_shift, np.mean, size=10000)"
   ]
  },
  {
   "cell_type": "code",
   "execution_count": 252,
   "metadata": {},
   "outputs": [
    {
     "name": "stdout",
     "output_type": "stream",
     "text": [
      "The p value is: 0.497\n"
     ]
    }
   ],
   "source": [
    "#p value\n",
    "p = np.sum(bs_replicates <= real_T) / len(bs_replicates)\n",
    "print('The p value is: {:.3}'.format(p))"
   ]
  },
  {
   "cell_type": "markdown",
   "metadata": {},
   "source": [
    "The p value is around 50% indicating that if the experiment is repeated, each time there is a 50% chance that the reported mean temperature is 98.6 <sup>o</sup>F. So we can accept that the population's true mean is 98.6 <sup>o</sup>F."
   ]
  },
  {
   "cell_type": "markdown",
   "metadata": {},
   "source": [
    "* Now try using the other test. How is the result be different? Why?"
   ]
  },
  {
   "cell_type": "markdown",
   "metadata": {},
   "source": [
    "In this part we are going to test the same null hypothesis as previously stated, but this time we are going to test it separetely from the data obtained from male and female subjects."
   ]
  },
  {
   "cell_type": "code",
   "execution_count": 253,
   "metadata": {},
   "outputs": [
    {
     "name": "stdout",
     "output_type": "stream",
     "text": [
      "The male mean temperature is 98.1 °F and its standard deviation is 0.693 °F\n",
      "The female mean temperature is 98.4 °F and its standard deviation is 0.738 °F\n"
     ]
    }
   ],
   "source": [
    "#Separate the data between male an female\n",
    "male_T = df.temperature[df.gender == 'M']\n",
    "female_T = df.temperature[df.gender == 'F']\n",
    "#Calculate means ands stds\n",
    "mean_T_M = np.mean(male_T)\n",
    "mean_T_F = np.mean(female_T)\n",
    "std_T_M = np.std(male_T)\n",
    "std_T_F = np.std(female_T)\n",
    "\n",
    "print('The male mean temperature is {:.3} \\u00b0F and its standard deviation is {:.3} \\u00b0F'.format(mean_T_M, std_T_M))\n",
    "print('The female mean temperature is {:.3} \\u00b0F and its standard deviation is {:.3} \\u00b0F'.format(mean_T_F, std_T_F))"
   ]
  },
  {
   "cell_type": "code",
   "execution_count": 254,
   "metadata": {},
   "outputs": [],
   "source": [
    "#Shifted temperatures\n",
    "shift_M = male_T - mean_T_M + real_T\n",
    "shift_F = female_T - mean_T_F + real_T"
   ]
  },
  {
   "cell_type": "code",
   "execution_count": 255,
   "metadata": {},
   "outputs": [],
   "source": [
    "#Create 10000 bootstrap replicates of the female and male mean temperature\n",
    "bs_replicates_M = bs_reps(shift_M, np.mean, size=10000)\n",
    "bs_replicates_F = bs_reps(shift_F, np.mean, size=10000)"
   ]
  },
  {
   "cell_type": "code",
   "execution_count": 256,
   "metadata": {},
   "outputs": [
    {
     "name": "stdout",
     "output_type": "stream",
     "text": [
      "The male p value is: 0.499\n",
      "The female p value is: 0.501\n"
     ]
    }
   ],
   "source": [
    "#p values\n",
    "p_M = np.sum(bs_replicates_M <= real_T) / len(bs_replicates)\n",
    "p_F = np.sum(bs_replicates_F <= real_T) / len(bs_replicates)\n",
    "print('The male p value is: {:.3}'.format(p_M))\n",
    "print('The female p value is: {:.3}'.format(p_F))"
   ]
  },
  {
   "cell_type": "markdown",
   "metadata": {},
   "source": [
    "For the male and female the data, the p value is around 50%, so as before, this test confirms the one-sample test allowing us to confirm that the real mean temperature is 98.6 <sup>o</sup>F."
   ]
  },
  {
   "cell_type": "markdown",
   "metadata": {},
   "source": [
    "###  4. Draw a small sample of size 10 from the data and repeat both tests. "
   ]
  },
  {
   "cell_type": "markdown",
   "metadata": {},
   "source": [
    "* Which one is the correct one to use? \n",
    "* What do you notice? What does this tell you about the difference in application of the $t$ and $z$ "
   ]
  },
  {
   "cell_type": "markdown",
   "metadata": {},
   "source": [
    "**One-sample test:**"
   ]
  },
  {
   "cell_type": "markdown",
   "metadata": {},
   "source": [
    "To be able to use the same sample in the two-sample test, let's draw the 10 points sample by using an array of length equal to the dataframe's length and containing its indices."
   ]
  },
  {
   "cell_type": "code",
   "execution_count": 328,
   "metadata": {},
   "outputs": [],
   "source": [
    "#Array of lenght dataframe\n",
    "ind = list(range(len(df)))\n",
    "#10 sample points from ind\n",
    "sample = np.random.choice(ind, 10)"
   ]
  },
  {
   "cell_type": "code",
   "execution_count": 329,
   "metadata": {},
   "outputs": [],
   "source": [
    "#Sample data frame\n",
    "df_10 = df.iloc[sample]"
   ]
  },
  {
   "cell_type": "code",
   "execution_count": 330,
   "metadata": {},
   "outputs": [
    {
     "data": {
      "text/html": [
       "<div>\n",
       "<style scoped>\n",
       "    .dataframe tbody tr th:only-of-type {\n",
       "        vertical-align: middle;\n",
       "    }\n",
       "\n",
       "    .dataframe tbody tr th {\n",
       "        vertical-align: top;\n",
       "    }\n",
       "\n",
       "    .dataframe thead th {\n",
       "        text-align: right;\n",
       "    }\n",
       "</style>\n",
       "<table border=\"1\" class=\"dataframe\">\n",
       "  <thead>\n",
       "    <tr style=\"text-align: right;\">\n",
       "      <th></th>\n",
       "      <th>temperature</th>\n",
       "      <th>gender</th>\n",
       "      <th>heart_rate</th>\n",
       "    </tr>\n",
       "  </thead>\n",
       "  <tbody>\n",
       "    <tr>\n",
       "      <th>78</th>\n",
       "      <td>97.4</td>\n",
       "      <td>M</td>\n",
       "      <td>78.0</td>\n",
       "    </tr>\n",
       "    <tr>\n",
       "      <th>35</th>\n",
       "      <td>99.5</td>\n",
       "      <td>M</td>\n",
       "      <td>75.0</td>\n",
       "    </tr>\n",
       "    <tr>\n",
       "      <th>107</th>\n",
       "      <td>98.6</td>\n",
       "      <td>M</td>\n",
       "      <td>66.0</td>\n",
       "    </tr>\n",
       "    <tr>\n",
       "      <th>83</th>\n",
       "      <td>99.2</td>\n",
       "      <td>F</td>\n",
       "      <td>77.0</td>\n",
       "    </tr>\n",
       "    <tr>\n",
       "      <th>115</th>\n",
       "      <td>98.0</td>\n",
       "      <td>M</td>\n",
       "      <td>64.0</td>\n",
       "    </tr>\n",
       "    <tr>\n",
       "      <th>54</th>\n",
       "      <td>98.2</td>\n",
       "      <td>F</td>\n",
       "      <td>73.0</td>\n",
       "    </tr>\n",
       "    <tr>\n",
       "      <th>107</th>\n",
       "      <td>98.6</td>\n",
       "      <td>M</td>\n",
       "      <td>66.0</td>\n",
       "    </tr>\n",
       "    <tr>\n",
       "      <th>7</th>\n",
       "      <td>98.8</td>\n",
       "      <td>M</td>\n",
       "      <td>78.0</td>\n",
       "    </tr>\n",
       "    <tr>\n",
       "      <th>30</th>\n",
       "      <td>98.3</td>\n",
       "      <td>M</td>\n",
       "      <td>86.0</td>\n",
       "    </tr>\n",
       "    <tr>\n",
       "      <th>55</th>\n",
       "      <td>98.6</td>\n",
       "      <td>F</td>\n",
       "      <td>82.0</td>\n",
       "    </tr>\n",
       "  </tbody>\n",
       "</table>\n",
       "</div>"
      ],
      "text/plain": [
       "     temperature gender  heart_rate\n",
       "78          97.4      M        78.0\n",
       "35          99.5      M        75.0\n",
       "107         98.6      M        66.0\n",
       "83          99.2      F        77.0\n",
       "115         98.0      M        64.0\n",
       "54          98.2      F        73.0\n",
       "107         98.6      M        66.0\n",
       "7           98.8      M        78.0\n",
       "30          98.3      M        86.0\n",
       "55          98.6      F        82.0"
      ]
     },
     "execution_count": 330,
     "metadata": {},
     "output_type": "execute_result"
    }
   ],
   "source": [
    "df_10"
   ]
  },
  {
   "cell_type": "code",
   "execution_count": 331,
   "metadata": {},
   "outputs": [
    {
     "name": "stdout",
     "output_type": "stream",
     "text": [
      "Mean temperature: 98.5 °F\n",
      "Standard deviation: 0.565 °F\n"
     ]
    }
   ],
   "source": [
    "#Mean nd std of the temperature data:\n",
    "mean_10_T = np.mean(df_10.temperature)\n",
    "std_10_T = np.std(df_10.temperature)\n",
    "print('Mean temperature: {:.3} \\u00b0F\\nStandard deviation: {:.3} \\u00b0F'.format(mean_10_T, std_10_T))"
   ]
  },
  {
   "cell_type": "code",
   "execution_count": 332,
   "metadata": {},
   "outputs": [
    {
     "name": "stdout",
     "output_type": "stream",
     "text": [
      "The p value is: 0.518\n"
     ]
    }
   ],
   "source": [
    "#Shifted temperature data to real mean\n",
    "df_10_shift = df_10.temperature - mean_10_T + real_T\n",
    "#Create 10000 bootstrap replicates of the mean temperature\n",
    "bs_replicates = bs_reps(df_10_shift, np.mean, size=10000)\n",
    "#p value\n",
    "p = np.sum(bs_replicates <= real_T) / len(bs_replicates)\n",
    "print('The p value is: {:.3}'.format(p))"
   ]
  },
  {
   "cell_type": "markdown",
   "metadata": {},
   "source": [
    "This value is very close to the one-sample test performed in the full data that gave a p value of 0.497."
   ]
  },
  {
   "cell_type": "markdown",
   "metadata": {},
   "source": [
    "**Two-sample test:**"
   ]
  },
  {
   "cell_type": "code",
   "execution_count": 333,
   "metadata": {},
   "outputs": [
    {
     "name": "stdout",
     "output_type": "stream",
     "text": [
      "The male mean temperature is 98.5 °F and its standard deviation is 0.609 °F\n",
      "The female mean temperature is 98.7 °F and its standard deviation is 0.411 °F\n"
     ]
    }
   ],
   "source": [
    "#Separate the data between male an female\n",
    "male_10_T = df_10.temperature[df_10.gender == 'M']\n",
    "female_10_T = df_10.temperature[df_10.gender == 'F']\n",
    "#Calculate means ands stds\n",
    "mean_10_T_M = np.mean(male_10_T)\n",
    "mean_10_T_F = np.mean(female_10_T)\n",
    "std_10_T_M = np.std(male_10_T)\n",
    "std_10_T_F = np.std(female_10_T)\n",
    "\n",
    "print('The male mean temperature is {:.3} \\u00b0F and its standard deviation is {:.3} \\u00b0F'.format(mean_10_T_M, std_10_T_M))\n",
    "print('The female mean temperature is {:.3} \\u00b0F and its standard deviation is {:.3} \\u00b0F'.format(mean_10_T_F, std_10_T_F))"
   ]
  },
  {
   "cell_type": "code",
   "execution_count": 334,
   "metadata": {},
   "outputs": [
    {
     "name": "stdout",
     "output_type": "stream",
     "text": [
      "The male p value is: 0.48\n",
      "The female p value is: 0.634\n"
     ]
    }
   ],
   "source": [
    "#Shifted temperatures\n",
    "shift_10_M = male_10_T - mean_10_T_M + real_T\n",
    "shift_10_F = female_10_T - mean_10_T_F + real_T\n",
    "#Create 10000 bootstrap replicates of the female and male mean temperature\n",
    "bs_replicates_M = bs_reps(shift_10_M, np.mean, size=10000)\n",
    "bs_replicates_F = bs_reps(shift_10_F, np.mean, size=10000)\n",
    "#p values\n",
    "p_M = np.sum(bs_replicates_M <= real_T) / len(bs_replicates)\n",
    "p_F = np.sum(bs_replicates_F <= real_T) / len(bs_replicates)\n",
    "print('The male p value is: {:.3}'.format(p_M))\n",
    "print('The female p value is: {:.3}'.format(p_F))"
   ]
  },
  {
   "cell_type": "markdown",
   "metadata": {},
   "source": [
    "These values are significantly different than p values obtained in the two-sample test performed with the full data frame which gave 0.499 and 0.501 for male and female respectively."
   ]
  },
  {
   "cell_type": "markdown",
   "metadata": {},
   "source": [
    "In one hand, one-sample test gave similar results when used in large samples and small samples. On the other hand, two-sample test doesn't give consistent results when the sample size is very small. Two-sample test is well suited for large samples on the condition that the separation of the data by category also gives rise to large subsets.\n",
    "\n",
    "In the present example, one-sample test is the best method to use."
   ]
  },
  {
   "cell_type": "markdown",
   "metadata": {},
   "source": [
    "### 5. At what temperature should we consider someone's temperature to be \"abnormal\"?\n",
    "\n",
    "* Start by computing the margin of error and confidence interval."
   ]
  },
  {
   "cell_type": "code",
   "execution_count": 292,
   "metadata": {},
   "outputs": [
    {
     "name": "stdout",
     "output_type": "stream",
     "text": [
      "The 95% confidence interval for the temperature's std is between 0.625 °F and 0.831 °F\n"
     ]
    }
   ],
   "source": [
    "#Create 10000 bootstrap replicates of the shifted temperature's std\n",
    "bs_replicates = bs_reps(df_shift, np.std, size=10000)\n",
    "#95% confidence interval\n",
    "conf_int = np.percentile(bs_replicates, [2.5, 97.5])\n",
    "print(\"The 95% confidence interval for the temperature's std is between {:.3} \\u00b0F and {:.3} \\u00b0F\"\\\n",
    "      .format(conf_int[0], conf_int[1]))"
   ]
  },
  {
   "cell_type": "code",
   "execution_count": 293,
   "metadata": {},
   "outputs": [
    {
     "name": "stdout",
     "output_type": "stream",
     "text": [
      "Somenone's temperature is abnormal when its temperature is:\n",
      "- Lower than 98.0 °F\n",
      "or\n",
      "- Higher than 99.4 °F\n"
     ]
    }
   ],
   "source": [
    "print(\"Somenone's temperature is abnormal when its temperature is:\\n\\\n",
    "- Lower than {:.3} \\u00b0F\\nor\\n- Higher than {:.3} \\u00b0F\".format(real_T - conf_int[0], real_T + conf_int[1])) "
   ]
  },
  {
   "cell_type": "markdown",
   "metadata": {},
   "source": [
    "### 6. Is there a significant difference between males and females in normal temperature?\n",
    "* What test did you use and why?\n",
    "* Write a story with your conclusion in the context of the original problem."
   ]
  },
  {
   "cell_type": "code",
   "execution_count": 295,
   "metadata": {},
   "outputs": [
    {
     "name": "stdout",
     "output_type": "stream",
     "text": [
      "The whole mean temperature is 98.2 °F and its standard deviation is 0.73 °F\n",
      "The male mean temperature is 98.1 °F and its standard deviation is 0.693 °F\n",
      "The female mean temperature is 98.4 °F and its standard deviation is 0.738 °F\n"
     ]
    }
   ],
   "source": [
    "#Separate the data between male an female\n",
    "male_T = df.temperature[df.gender == 'M']\n",
    "female_T = df.temperature[df.gender == 'F']\n",
    "#Calculate means ands stds\n",
    "mean_T_M = np.mean(male_T)\n",
    "mean_T_F = np.mean(female_T)\n",
    "std_T_M = np.std(male_T)\n",
    "std_T_F = np.std(female_T)\n",
    "\n",
    "print('The whole mean temperature is {:.3} \\u00b0F and its standard deviation is {:.3} \\u00b0F'.format(mean_T, std_T))\n",
    "print('The male mean temperature is {:.3} \\u00b0F and its standard deviation is {:.3} \\u00b0F'.format(mean_T_M, std_T_M))\n",
    "print('The female mean temperature is {:.3} \\u00b0F and its standard deviation is {:.3} \\u00b0F'.format(mean_T_F, std_T_F))"
   ]
  },
  {
   "cell_type": "markdown",
   "metadata": {},
   "source": [
    "The male and female mean temperatures and standard deviations are very similar bewteen them and also very close to the mean and standard deviation of the whole data. This seems to indicate there is no difference between males and females normal temperature but let's check the corresponding CDFs to confirm this observation."
   ]
  },
  {
   "cell_type": "code",
   "execution_count": 296,
   "metadata": {},
   "outputs": [],
   "source": [
    "#ecdf for the female and male data\n",
    "x_M, y_M = ecdf(male_T)\n",
    "x_F, y_F = ecdf(female_T)"
   ]
  },
  {
   "cell_type": "code",
   "execution_count": 297,
   "metadata": {},
   "outputs": [
    {
     "data": {
      "image/png": "[encoded data removed]",
      "text/plain": [
       "<matplotlib.figure.Figure at 0x7f31d3050080>"
      ]
     },
     "metadata": {},
     "output_type": "display_data"
    }
   ],
   "source": [
    "#plot ecdfs\n",
    "_ = plt.plot(x_T, y_T, marker='.', linestyle='none')\n",
    "_ = plt.plot(x_M, y_M, marker='.', linestyle='none')\n",
    "_ = plt.plot(x_F, y_F, marker='.', linestyle='none')\n",
    "_ = plt.xlabel('Temperature (\\u00b0F)')\n",
    "_ = plt.ylabel('CDF')\n",
    "plt.margins(0.02)\n",
    "plt.legend(('Control', 'Male', 'Female'), loc='lower right')\n",
    "plt.show()"
   ]
  },
  {
   "cell_type": "markdown",
   "metadata": {},
   "source": [
    "The female and male CDF seem to follow similar distributions but shifted with respect to one another. However, the CDF for whole data lies between the male and female CDFs. This is expected given that the whole data includes both the male and female data. From the plot above it seems to be a difference between males and females normal temperatures.\n",
    "\n",
    "Combining the insights from the mean values and standard deviations with the CDFs plot it is difficult to conclude if there is any substantial difference between male and female distributions because they seem to contradict each other.\n",
    "\n",
    "To really check if there is any difference between males and females normal temperature we then have to compare not only the mean temperature values of both genders but also their distributions simultaneously. This can be done doing a two-sample test using as permutation replicas the difference in mean temperatures between male and female. We are going to check how similar are the males and females normal temperature. For this we are going to consider that a p value below 0.05 rejects the null hypotesis, meaning it confirms that there is difference in the normal temperatures."
   ]
  },
  {
   "cell_type": "code",
   "execution_count": 298,
   "metadata": {},
   "outputs": [
    {
     "name": "stdout",
     "output_type": "stream",
     "text": [
      "Difference of means between Male and Female samples: -0.289 °F\n"
     ]
    }
   ],
   "source": [
    "#Difference of means\n",
    "diff_M_F = mean_T_M - mean_T_F\n",
    "print(\"Difference of means between Male and Female samples: {:.3} \\u00b0F\".format(diff_M_F))"
   ]
  },
  {
   "cell_type": "code",
   "execution_count": 299,
   "metadata": {},
   "outputs": [],
   "source": [
    "#Create 10000 bootstrap permutation replicates of the difference between male and female temperatures\n",
    "all_T = np.concatenate((male_T, female_T))\n",
    "diff_perm_bs = np.empty(10000)\n",
    "for i in range(10000):\n",
    "    permuted = np.random.permutation(all_T)\n",
    "    new_M = permuted[0:len(male_T)]\n",
    "    new_F = permuted[len(male_T):]\n",
    "    diff_perm_bs[i] = np.mean(new_M) - np.mean(new_F)    "
   ]
  },
  {
   "cell_type": "code",
   "execution_count": 301,
   "metadata": {},
   "outputs": [
    {
     "name": "stdout",
     "output_type": "stream",
     "text": [
      "The p value is: 0.0134\n"
     ]
    }
   ],
   "source": [
    "#p value:\n",
    "p = np.sum(diff_perm_bs <= diff_M_F) / len(diff_perm_bs)\n",
    "print(\"The p value is: {:.3}\".format(p))"
   ]
  },
  {
   "cell_type": "markdown",
   "metadata": {},
   "source": [
    "The p value is below the defined threshold to reject the null hypotesis. So, we can say that there is a significant difference between difference between males and females normal temperature."
   ]
  }
 ],
 "metadata": {
  "kernelspec": {
   "display_name": "Python 3",
   "language": "python",
   "name": "python3"
  },
  "language_info": {
   "codemirror_mode": {
    "name": "ipython",
    "version": 3
   },
   "file_extension": ".py",
   "mimetype": "text/x-python",
   "name": "python",
   "nbconvert_exporter": "python",
   "pygments_lexer": "ipython3",
   "version": "3.6.3"
  }
 },
 "nbformat": 4,
 "nbformat_minor": 1
}
