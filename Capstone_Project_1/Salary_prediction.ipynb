{
 "cells": [
  {
   "cell_type": "code",
   "execution_count": 4,
   "metadata": {},
   "outputs": [],
   "source": [
    "import pandas as pd\n",
    "import numpy as np\n",
    "import matplotlib.pyplot as plt\n",
    "import seaborn as sns\n",
    "import re"
   ]
  },
  {
   "cell_type": "code",
   "execution_count": 5,
   "metadata": {},
   "outputs": [],
   "source": [
    "data = pd.read_csv('./Data/H1B_2017_.csv', low_memory=False)"
   ]
  },
  {
   "cell_type": "code",
   "execution_count": 6,
   "metadata": {},
   "outputs": [
    {
     "name": "stdout",
     "output_type": "stream",
     "text": [
      "<class 'pandas.core.frame.DataFrame'>\n",
      "RangeIndex: 622773 entries, 0 to 622772\n",
      "Data columns (total 13 columns):\n",
      "Unnamed: 0              622773 non-null int64\n",
      "employer                622773 non-null object\n",
      "job_title               622773 non-null object\n",
      "occupational_name       622773 non-null object\n",
      "prevailing_wage         622773 non-null float64\n",
      "pw_wage_period          622773 non-null object\n",
      "employer_wage           622773 non-null float64\n",
      "employer_max_wage       622773 non-null float64\n",
      "employer_wage_period    622773 non-null object\n",
      "city                    622773 non-null object\n",
      "county                  622773 non-null object\n",
      "state                   622773 non-null object\n",
      "postal_code             622773 non-null object\n",
      "dtypes: float64(3), int64(1), object(9)\n",
      "memory usage: 61.8+ MB\n"
     ]
    }
   ],
   "source": [
    "data.info()"
   ]
  },
  {
   "cell_type": "code",
   "execution_count": 7,
   "metadata": {},
   "outputs": [
    {
     "data": {
      "text/html": [
       "<div>\n",
       "<style scoped>\n",
       "    .dataframe tbody tr th:only-of-type {\n",
       "        vertical-align: middle;\n",
       "    }\n",
       "\n",
       "    .dataframe tbody tr th {\n",
       "        vertical-align: top;\n",
       "    }\n",
       "\n",
       "    .dataframe thead th {\n",
       "        text-align: right;\n",
       "    }\n",
       "</style>\n",
       "<table border=\"1\" class=\"dataframe\">\n",
       "  <thead>\n",
       "    <tr style=\"text-align: right;\">\n",
       "      <th></th>\n",
       "      <th>Unnamed: 0</th>\n",
       "      <th>employer</th>\n",
       "      <th>job_title</th>\n",
       "      <th>occupational_name</th>\n",
       "      <th>prevailing_wage</th>\n",
       "      <th>pw_wage_period</th>\n",
       "      <th>employer_wage</th>\n",
       "      <th>employer_max_wage</th>\n",
       "      <th>employer_wage_period</th>\n",
       "      <th>city</th>\n",
       "      <th>county</th>\n",
       "      <th>state</th>\n",
       "      <th>postal_code</th>\n",
       "    </tr>\n",
       "  </thead>\n",
       "  <tbody>\n",
       "    <tr>\n",
       "      <th>0</th>\n",
       "      <td>0</td>\n",
       "      <td>DISCOVER PRODUCTS INC.</td>\n",
       "      <td>ASSOCIATE DATA INTEGRATION</td>\n",
       "      <td>COMPUTER SYSTEMS ANALYSTS</td>\n",
       "      <td>59197.0</td>\n",
       "      <td>Year</td>\n",
       "      <td>65811.0</td>\n",
       "      <td>67320.0</td>\n",
       "      <td>Year</td>\n",
       "      <td>RIVERWOODS</td>\n",
       "      <td>LAKE</td>\n",
       "      <td>IL</td>\n",
       "      <td>60015</td>\n",
       "    </tr>\n",
       "    <tr>\n",
       "      <th>1</th>\n",
       "      <td>1</td>\n",
       "      <td>DFS SERVICES LLC</td>\n",
       "      <td>SENIOR ASSOCIATE</td>\n",
       "      <td>OPERATIONS RESEARCH ANALYSTS</td>\n",
       "      <td>49800.0</td>\n",
       "      <td>Year</td>\n",
       "      <td>53000.0</td>\n",
       "      <td>57200.0</td>\n",
       "      <td>Year</td>\n",
       "      <td>RIVERWOODS</td>\n",
       "      <td>LAKE</td>\n",
       "      <td>IL</td>\n",
       "      <td>60015</td>\n",
       "    </tr>\n",
       "    <tr>\n",
       "      <th>2</th>\n",
       "      <td>2</td>\n",
       "      <td>INFO SERVICES LLC</td>\n",
       "      <td>PROJECT MANAGER</td>\n",
       "      <td>COMPUTER OCCUPATIONS, ALL OTHER</td>\n",
       "      <td>90376.0</td>\n",
       "      <td>Year</td>\n",
       "      <td>102000.0</td>\n",
       "      <td>0.0</td>\n",
       "      <td>Year</td>\n",
       "      <td>JERSEY CITY</td>\n",
       "      <td>HUDSON</td>\n",
       "      <td>NJ</td>\n",
       "      <td>07302</td>\n",
       "    </tr>\n",
       "    <tr>\n",
       "      <th>3</th>\n",
       "      <td>3</td>\n",
       "      <td>BB&amp;T CORPORATION</td>\n",
       "      <td>ASSOCIATE - ESOTERIC ASSET BACKED SECURITIES</td>\n",
       "      <td>CREDIT ANALYSTS</td>\n",
       "      <td>116605.0</td>\n",
       "      <td>Year</td>\n",
       "      <td>132500.0</td>\n",
       "      <td>0.0</td>\n",
       "      <td>Year</td>\n",
       "      <td>NEW YORK</td>\n",
       "      <td>NEW YORK</td>\n",
       "      <td>NY</td>\n",
       "      <td>10036</td>\n",
       "    </tr>\n",
       "    <tr>\n",
       "      <th>4</th>\n",
       "      <td>4</td>\n",
       "      <td>SUNTRUST BANKS, INC.</td>\n",
       "      <td>CREDIT RISK METRICS SPECIALIST</td>\n",
       "      <td>FINANCIAL SPECIALISTS, ALL OTHER</td>\n",
       "      <td>59405.0</td>\n",
       "      <td>Year</td>\n",
       "      <td>71750.0</td>\n",
       "      <td>0.0</td>\n",
       "      <td>Year</td>\n",
       "      <td>ATLANTA</td>\n",
       "      <td>FULTON</td>\n",
       "      <td>GA</td>\n",
       "      <td>30303</td>\n",
       "    </tr>\n",
       "  </tbody>\n",
       "</table>\n",
       "</div>"
      ],
      "text/plain": [
       "   Unnamed: 0                employer  \\\n",
       "0           0  DISCOVER PRODUCTS INC.   \n",
       "1           1        DFS SERVICES LLC   \n",
       "2           2       INFO SERVICES LLC   \n",
       "3           3        BB&T CORPORATION   \n",
       "4           4    SUNTRUST BANKS, INC.   \n",
       "\n",
       "                                      job_title  \\\n",
       "0                    ASSOCIATE DATA INTEGRATION   \n",
       "1                              SENIOR ASSOCIATE   \n",
       "2                               PROJECT MANAGER   \n",
       "3  ASSOCIATE - ESOTERIC ASSET BACKED SECURITIES   \n",
       "4                CREDIT RISK METRICS SPECIALIST   \n",
       "\n",
       "                  occupational_name  prevailing_wage pw_wage_period  \\\n",
       "0         COMPUTER SYSTEMS ANALYSTS          59197.0           Year   \n",
       "1      OPERATIONS RESEARCH ANALYSTS          49800.0           Year   \n",
       "2   COMPUTER OCCUPATIONS, ALL OTHER          90376.0           Year   \n",
       "3                   CREDIT ANALYSTS         116605.0           Year   \n",
       "4  FINANCIAL SPECIALISTS, ALL OTHER          59405.0           Year   \n",
       "\n",
       "   employer_wage  employer_max_wage employer_wage_period         city  \\\n",
       "0        65811.0            67320.0                 Year   RIVERWOODS   \n",
       "1        53000.0            57200.0                 Year   RIVERWOODS   \n",
       "2       102000.0                0.0                 Year  JERSEY CITY   \n",
       "3       132500.0                0.0                 Year     NEW YORK   \n",
       "4        71750.0                0.0                 Year      ATLANTA   \n",
       "\n",
       "     county state postal_code  \n",
       "0      LAKE    IL       60015  \n",
       "1      LAKE    IL       60015  \n",
       "2    HUDSON    NJ       07302  \n",
       "3  NEW YORK    NY       10036  \n",
       "4    FULTON    GA       30303  "
      ]
     },
     "execution_count": 7,
     "metadata": {},
     "output_type": "execute_result"
    }
   ],
   "source": [
    "data.head()"
   ]
  },
  {
   "cell_type": "code",
   "execution_count": 8,
   "metadata": {},
   "outputs": [],
   "source": [
    "data = data.drop('Unnamed: 0', axis=1)"
   ]
  },
  {
   "cell_type": "code",
   "execution_count": 9,
   "metadata": {},
   "outputs": [
    {
     "data": {
      "text/html": [
       "<div>\n",
       "<style scoped>\n",
       "    .dataframe tbody tr th:only-of-type {\n",
       "        vertical-align: middle;\n",
       "    }\n",
       "\n",
       "    .dataframe tbody tr th {\n",
       "        vertical-align: top;\n",
       "    }\n",
       "\n",
       "    .dataframe thead th {\n",
       "        text-align: right;\n",
       "    }\n",
       "</style>\n",
       "<table border=\"1\" class=\"dataframe\">\n",
       "  <thead>\n",
       "    <tr style=\"text-align: right;\">\n",
       "      <th></th>\n",
       "      <th>employer</th>\n",
       "      <th>job_title</th>\n",
       "      <th>occupational_name</th>\n",
       "      <th>prevailing_wage</th>\n",
       "      <th>pw_wage_period</th>\n",
       "      <th>employer_wage</th>\n",
       "      <th>employer_max_wage</th>\n",
       "      <th>employer_wage_period</th>\n",
       "      <th>city</th>\n",
       "      <th>county</th>\n",
       "      <th>state</th>\n",
       "      <th>postal_code</th>\n",
       "    </tr>\n",
       "  </thead>\n",
       "  <tbody>\n",
       "    <tr>\n",
       "      <th>0</th>\n",
       "      <td>DISCOVER PRODUCTS INC.</td>\n",
       "      <td>ASSOCIATE DATA INTEGRATION</td>\n",
       "      <td>COMPUTER SYSTEMS ANALYSTS</td>\n",
       "      <td>59197.0</td>\n",
       "      <td>Year</td>\n",
       "      <td>65811.0</td>\n",
       "      <td>67320.0</td>\n",
       "      <td>Year</td>\n",
       "      <td>RIVERWOODS</td>\n",
       "      <td>LAKE</td>\n",
       "      <td>IL</td>\n",
       "      <td>60015</td>\n",
       "    </tr>\n",
       "    <tr>\n",
       "      <th>1</th>\n",
       "      <td>DFS SERVICES LLC</td>\n",
       "      <td>SENIOR ASSOCIATE</td>\n",
       "      <td>OPERATIONS RESEARCH ANALYSTS</td>\n",
       "      <td>49800.0</td>\n",
       "      <td>Year</td>\n",
       "      <td>53000.0</td>\n",
       "      <td>57200.0</td>\n",
       "      <td>Year</td>\n",
       "      <td>RIVERWOODS</td>\n",
       "      <td>LAKE</td>\n",
       "      <td>IL</td>\n",
       "      <td>60015</td>\n",
       "    </tr>\n",
       "    <tr>\n",
       "      <th>2</th>\n",
       "      <td>INFO SERVICES LLC</td>\n",
       "      <td>PROJECT MANAGER</td>\n",
       "      <td>COMPUTER OCCUPATIONS, ALL OTHER</td>\n",
       "      <td>90376.0</td>\n",
       "      <td>Year</td>\n",
       "      <td>102000.0</td>\n",
       "      <td>0.0</td>\n",
       "      <td>Year</td>\n",
       "      <td>JERSEY CITY</td>\n",
       "      <td>HUDSON</td>\n",
       "      <td>NJ</td>\n",
       "      <td>07302</td>\n",
       "    </tr>\n",
       "    <tr>\n",
       "      <th>3</th>\n",
       "      <td>BB&amp;T CORPORATION</td>\n",
       "      <td>ASSOCIATE - ESOTERIC ASSET BACKED SECURITIES</td>\n",
       "      <td>CREDIT ANALYSTS</td>\n",
       "      <td>116605.0</td>\n",
       "      <td>Year</td>\n",
       "      <td>132500.0</td>\n",
       "      <td>0.0</td>\n",
       "      <td>Year</td>\n",
       "      <td>NEW YORK</td>\n",
       "      <td>NEW YORK</td>\n",
       "      <td>NY</td>\n",
       "      <td>10036</td>\n",
       "    </tr>\n",
       "    <tr>\n",
       "      <th>4</th>\n",
       "      <td>SUNTRUST BANKS, INC.</td>\n",
       "      <td>CREDIT RISK METRICS SPECIALIST</td>\n",
       "      <td>FINANCIAL SPECIALISTS, ALL OTHER</td>\n",
       "      <td>59405.0</td>\n",
       "      <td>Year</td>\n",
       "      <td>71750.0</td>\n",
       "      <td>0.0</td>\n",
       "      <td>Year</td>\n",
       "      <td>ATLANTA</td>\n",
       "      <td>FULTON</td>\n",
       "      <td>GA</td>\n",
       "      <td>30303</td>\n",
       "    </tr>\n",
       "  </tbody>\n",
       "</table>\n",
       "</div>"
      ],
      "text/plain": [
       "                 employer                                     job_title  \\\n",
       "0  DISCOVER PRODUCTS INC.                    ASSOCIATE DATA INTEGRATION   \n",
       "1        DFS SERVICES LLC                              SENIOR ASSOCIATE   \n",
       "2       INFO SERVICES LLC                               PROJECT MANAGER   \n",
       "3        BB&T CORPORATION  ASSOCIATE - ESOTERIC ASSET BACKED SECURITIES   \n",
       "4    SUNTRUST BANKS, INC.                CREDIT RISK METRICS SPECIALIST   \n",
       "\n",
       "                  occupational_name  prevailing_wage pw_wage_period  \\\n",
       "0         COMPUTER SYSTEMS ANALYSTS          59197.0           Year   \n",
       "1      OPERATIONS RESEARCH ANALYSTS          49800.0           Year   \n",
       "2   COMPUTER OCCUPATIONS, ALL OTHER          90376.0           Year   \n",
       "3                   CREDIT ANALYSTS         116605.0           Year   \n",
       "4  FINANCIAL SPECIALISTS, ALL OTHER          59405.0           Year   \n",
       "\n",
       "   employer_wage  employer_max_wage employer_wage_period         city  \\\n",
       "0        65811.0            67320.0                 Year   RIVERWOODS   \n",
       "1        53000.0            57200.0                 Year   RIVERWOODS   \n",
       "2       102000.0                0.0                 Year  JERSEY CITY   \n",
       "3       132500.0                0.0                 Year     NEW YORK   \n",
       "4        71750.0                0.0                 Year      ATLANTA   \n",
       "\n",
       "     county state postal_code  \n",
       "0      LAKE    IL       60015  \n",
       "1      LAKE    IL       60015  \n",
       "2    HUDSON    NJ       07302  \n",
       "3  NEW YORK    NY       10036  \n",
       "4    FULTON    GA       30303  "
      ]
     },
     "execution_count": 9,
     "metadata": {},
     "output_type": "execute_result"
    }
   ],
   "source": [
    "data.head()"
   ]
  },
  {
   "cell_type": "code",
   "execution_count": 10,
   "metadata": {},
   "outputs": [
    {
     "data": {
      "image/png": "[encoded data removed]",
      "text/plain": [
       "<matplotlib.figure.Figure at 0x7f8e70109cc0>"
      ]
     },
     "metadata": {},
     "output_type": "display_data"
    }
   ],
   "source": [
    "plt.figure(figsize=(10,10))\n",
    "plt.scatter(np.log(data.prevailing_wage), np.log(data.employer_wage), alpha=0.7, s=1)\n",
    "plt.xlabel('Prevailing wage')\n",
    "plt.ylabel('Employer wage')\n",
    "plt.show()"
   ]
  },
  {
   "cell_type": "code",
   "execution_count": 11,
   "metadata": {},
   "outputs": [],
   "source": [
    "columns = ['job_title', 'occupational_name', 'prevailing_wage', 'city', 'county', 'state', 'postal_code']\n",
    "features = data[columns]"
   ]
  },
  {
   "cell_type": "code",
   "execution_count": 12,
   "metadata": {},
   "outputs": [],
   "source": [
    "y = data.employer_wage"
   ]
  },
  {
   "cell_type": "code",
   "execution_count": 13,
   "metadata": {},
   "outputs": [
    {
     "name": "stdout",
     "output_type": "stream",
     "text": [
      "Number of unique values for column -job_title- : 92756\n",
      "Number of unique values for column -occupational_name- : 865\n",
      "Number of unique values for column -prevailing_wage- : 24052\n",
      "Number of unique values for column -city- : 9348\n",
      "Number of unique values for column -county- : 3676\n",
      "Number of unique values for column -state- : 57\n",
      "Number of unique values for column -postal_code- : 14923\n"
     ]
    }
   ],
   "source": [
    "for col in columns:\n",
    "    print(\"Number of unique values for column -{}- : {}\".format(col, len(features[col].unique())))"
   ]
  },
  {
   "cell_type": "code",
   "execution_count": 14,
   "metadata": {},
   "outputs": [
    {
     "name": "stdout",
     "output_type": "stream",
     "text": [
      "Number of unique values for column -employer_wage- : 50655\n"
     ]
    }
   ],
   "source": [
    "print(\"Number of unique values for column -employer_wage- : {}\".format(len(y.unique())))"
   ]
  },
  {
   "cell_type": "code",
   "execution_count": 15,
   "metadata": {},
   "outputs": [],
   "source": [
    "# # Merge columns for job titles and occupational name and drop them\n",
    "# features['titles'] = features.job_title + ' ' + features.occupational_name\n",
    "# features.drop(['job_title', 'occupational_name'], axis=1, inplace=True)"
   ]
  },
  {
   "cell_type": "code",
   "execution_count": 16,
   "metadata": {},
   "outputs": [
    {
     "data": {
      "text/html": [
       "<div>\n",
       "<style scoped>\n",
       "    .dataframe tbody tr th:only-of-type {\n",
       "        vertical-align: middle;\n",
       "    }\n",
       "\n",
       "    .dataframe tbody tr th {\n",
       "        vertical-align: top;\n",
       "    }\n",
       "\n",
       "    .dataframe thead th {\n",
       "        text-align: right;\n",
       "    }\n",
       "</style>\n",
       "<table border=\"1\" class=\"dataframe\">\n",
       "  <thead>\n",
       "    <tr style=\"text-align: right;\">\n",
       "      <th></th>\n",
       "      <th>job_title</th>\n",
       "      <th>occupational_name</th>\n",
       "      <th>prevailing_wage</th>\n",
       "      <th>city</th>\n",
       "      <th>county</th>\n",
       "      <th>state</th>\n",
       "      <th>postal_code</th>\n",
       "    </tr>\n",
       "  </thead>\n",
       "  <tbody>\n",
       "    <tr>\n",
       "      <th>0</th>\n",
       "      <td>ASSOCIATE DATA INTEGRATION</td>\n",
       "      <td>COMPUTER SYSTEMS ANALYSTS</td>\n",
       "      <td>59197.0</td>\n",
       "      <td>RIVERWOODS</td>\n",
       "      <td>LAKE</td>\n",
       "      <td>IL</td>\n",
       "      <td>60015</td>\n",
       "    </tr>\n",
       "    <tr>\n",
       "      <th>1</th>\n",
       "      <td>SENIOR ASSOCIATE</td>\n",
       "      <td>OPERATIONS RESEARCH ANALYSTS</td>\n",
       "      <td>49800.0</td>\n",
       "      <td>RIVERWOODS</td>\n",
       "      <td>LAKE</td>\n",
       "      <td>IL</td>\n",
       "      <td>60015</td>\n",
       "    </tr>\n",
       "    <tr>\n",
       "      <th>2</th>\n",
       "      <td>PROJECT MANAGER</td>\n",
       "      <td>COMPUTER OCCUPATIONS, ALL OTHER</td>\n",
       "      <td>90376.0</td>\n",
       "      <td>JERSEY CITY</td>\n",
       "      <td>HUDSON</td>\n",
       "      <td>NJ</td>\n",
       "      <td>07302</td>\n",
       "    </tr>\n",
       "    <tr>\n",
       "      <th>3</th>\n",
       "      <td>ASSOCIATE - ESOTERIC ASSET BACKED SECURITIES</td>\n",
       "      <td>CREDIT ANALYSTS</td>\n",
       "      <td>116605.0</td>\n",
       "      <td>NEW YORK</td>\n",
       "      <td>NEW YORK</td>\n",
       "      <td>NY</td>\n",
       "      <td>10036</td>\n",
       "    </tr>\n",
       "    <tr>\n",
       "      <th>4</th>\n",
       "      <td>CREDIT RISK METRICS SPECIALIST</td>\n",
       "      <td>FINANCIAL SPECIALISTS, ALL OTHER</td>\n",
       "      <td>59405.0</td>\n",
       "      <td>ATLANTA</td>\n",
       "      <td>FULTON</td>\n",
       "      <td>GA</td>\n",
       "      <td>30303</td>\n",
       "    </tr>\n",
       "  </tbody>\n",
       "</table>\n",
       "</div>"
      ],
      "text/plain": [
       "                                      job_title  \\\n",
       "0                    ASSOCIATE DATA INTEGRATION   \n",
       "1                              SENIOR ASSOCIATE   \n",
       "2                               PROJECT MANAGER   \n",
       "3  ASSOCIATE - ESOTERIC ASSET BACKED SECURITIES   \n",
       "4                CREDIT RISK METRICS SPECIALIST   \n",
       "\n",
       "                  occupational_name  prevailing_wage         city    county  \\\n",
       "0         COMPUTER SYSTEMS ANALYSTS          59197.0   RIVERWOODS      LAKE   \n",
       "1      OPERATIONS RESEARCH ANALYSTS          49800.0   RIVERWOODS      LAKE   \n",
       "2   COMPUTER OCCUPATIONS, ALL OTHER          90376.0  JERSEY CITY    HUDSON   \n",
       "3                   CREDIT ANALYSTS         116605.0     NEW YORK  NEW YORK   \n",
       "4  FINANCIAL SPECIALISTS, ALL OTHER          59405.0      ATLANTA    FULTON   \n",
       "\n",
       "  state postal_code  \n",
       "0    IL       60015  \n",
       "1    IL       60015  \n",
       "2    NJ       07302  \n",
       "3    NY       10036  \n",
       "4    GA       30303  "
      ]
     },
     "execution_count": 16,
     "metadata": {},
     "output_type": "execute_result"
    }
   ],
   "source": [
    "features.head()"
   ]
  },
  {
   "cell_type": "code",
   "execution_count": 17,
   "metadata": {},
   "outputs": [],
   "source": [
    "# from sklearn.feature_extraction.text import CountVectorizer\n",
    "\n",
    "# vectorizer = CountVectorizer()\n",
    "# vect_titles = vectorizer.fit_transform(features.titles)\n",
    "# vect_titles = vect_titles.tocsc()\n",
    "# print(\"vect_titles shape: {}\".format(vect_titles.shape))\n",
    "\n",
    "# vect_cities = vectorizer.fit_transform(features.city)\n",
    "# vect_cities = vect_cities.tocsc()\n",
    "# print(\"vect_cities shape: {}\".format(vect_cities.shape))\n",
    "\n",
    "# vect_county = vectorizer.fit_transform(features.county)\n",
    "# vect_county = vect_county.tocsc()\n",
    "# print(\"vect_county shape: {}\".format(vect_county.shape))"
   ]
  },
  {
   "cell_type": "code",
   "execution_count": 18,
   "metadata": {},
   "outputs": [
    {
     "name": "stderr",
     "output_type": "stream",
     "text": [
      "/home/pfgr/anaconda3/envs/h1b/lib/python3.6/site-packages/ipykernel_launcher.py:5: SettingWithCopyWarning: \n",
      "A value is trying to be set on a copy of a slice from a DataFrame.\n",
      "Try using .loc[row_indexer,col_indexer] = value instead\n",
      "\n",
      "See the caveats in the documentation: http://pandas.pydata.org/pandas-docs/stable/indexing.html#indexing-view-versus-copy\n",
      "  \"\"\"\n"
     ]
    }
   ],
   "source": [
    "X = features[['postal_code', 'state', 'prevailing_wage']]\n",
    "#X['city'] = vect_cities\n",
    "#X['county'] = vect_county\n",
    "#X['title'] = vect_titles\n",
    "X['prevailing_wage'] = np.log(X.prevailing_wage)\n",
    "\n",
    "y = np.log(y)"
   ]
  },
  {
   "cell_type": "code",
   "execution_count": 19,
   "metadata": {},
   "outputs": [
    {
     "data": {
      "text/html": [
       "<div>\n",
       "<style scoped>\n",
       "    .dataframe tbody tr th:only-of-type {\n",
       "        vertical-align: middle;\n",
       "    }\n",
       "\n",
       "    .dataframe tbody tr th {\n",
       "        vertical-align: top;\n",
       "    }\n",
       "\n",
       "    .dataframe thead th {\n",
       "        text-align: right;\n",
       "    }\n",
       "</style>\n",
       "<table border=\"1\" class=\"dataframe\">\n",
       "  <thead>\n",
       "    <tr style=\"text-align: right;\">\n",
       "      <th></th>\n",
       "      <th>postal_code</th>\n",
       "      <th>state</th>\n",
       "      <th>prevailing_wage</th>\n",
       "    </tr>\n",
       "  </thead>\n",
       "  <tbody>\n",
       "    <tr>\n",
       "      <th>0</th>\n",
       "      <td>60015</td>\n",
       "      <td>IL</td>\n",
       "      <td>10.988626</td>\n",
       "    </tr>\n",
       "    <tr>\n",
       "      <th>1</th>\n",
       "      <td>60015</td>\n",
       "      <td>IL</td>\n",
       "      <td>10.815770</td>\n",
       "    </tr>\n",
       "    <tr>\n",
       "      <th>2</th>\n",
       "      <td>07302</td>\n",
       "      <td>NJ</td>\n",
       "      <td>11.411734</td>\n",
       "    </tr>\n",
       "    <tr>\n",
       "      <th>3</th>\n",
       "      <td>10036</td>\n",
       "      <td>NY</td>\n",
       "      <td>11.666547</td>\n",
       "    </tr>\n",
       "    <tr>\n",
       "      <th>4</th>\n",
       "      <td>30303</td>\n",
       "      <td>GA</td>\n",
       "      <td>10.992134</td>\n",
       "    </tr>\n",
       "  </tbody>\n",
       "</table>\n",
       "</div>"
      ],
      "text/plain": [
       "  postal_code state  prevailing_wage\n",
       "0       60015    IL        10.988626\n",
       "1       60015    IL        10.815770\n",
       "2       07302    NJ        11.411734\n",
       "3       10036    NY        11.666547\n",
       "4       30303    GA        10.992134"
      ]
     },
     "execution_count": 19,
     "metadata": {},
     "output_type": "execute_result"
    }
   ],
   "source": [
    "X.head()"
   ]
  },
  {
   "cell_type": "code",
   "execution_count": 20,
   "metadata": {},
   "outputs": [],
   "source": [
    "# X.drop(['city', 'county', 'title'], axis=1, inplace=True)"
   ]
  },
  {
   "cell_type": "code",
   "execution_count": 21,
   "metadata": {},
   "outputs": [],
   "source": [
    "#X_ = pd.get_dummies(X, columns=['postal_code','state'], drop_first=True)\n",
    "#X_.head()"
   ]
  },
  {
   "cell_type": "code",
   "execution_count": 22,
   "metadata": {},
   "outputs": [],
   "source": [
    "def batches(size, X, y):\n",
    "    batch_start = 0\n",
    "    n_points = X.shape[0]\n",
    "    while batch_start < n_points:\n",
    "        batch_end = batch_start + size\n",
    "#         X_batch = pd.get_dummies(X.iloc[range(batch_start, batch_end)], \\\n",
    "#                                  columns=['postal_code','state'], drop_first=True)\n",
    "        if batch_end < n_points:\n",
    "            X_batch = X.iloc[range(batch_start, batch_end)]\n",
    "            y_batch = y.iloc[range(batch_start, batch_end)]\n",
    "        else:\n",
    "            X_batch = X.iloc[range(batch_start,n_points)]\n",
    "            y_batch = y.iloc[range(batch_start, n_points)]\n",
    "        yield X_batch, y_batch\n",
    "        batch_start += size"
   ]
  },
  {
   "cell_type": "code",
   "execution_count": 23,
   "metadata": {},
   "outputs": [],
   "source": [
    "from sklearn.model_selection import train_test_split\n",
    "from sklearn.tree import DecisionTreeRegressor\n",
    "from sklearn.linear_model import LinearRegression, SGDRegressor, PassiveAggressiveRegressor\n",
    "from sklearn.metrics import mean_absolute_error\n",
    "from time import time\n",
    "from dummyPy import OneHotEncoder\n",
    "\n",
    "encoder = OneHotEncoder(['postal_code', 'state'])\n",
    "encoder.fit(X)\n",
    "\n",
    "batch_size = 20000\n",
    "random_state = 14\n",
    "regressor_1 = SGDRegressor(random_state=random_state)\n",
    "regressor_2 = PassiveAggressiveRegressor(random_state=random_state)\n",
    "\n",
    "X_train, X_test, y_train, y_test = train_test_split(X, y, test_size=0.2, random_state=random_state)\n",
    "iterator = list(batches(batch_size, X_train, y_train))"
   ]
  },
  {
   "cell_type": "code",
   "execution_count": null,
   "metadata": {},
   "outputs": [
    {
     "name": "stderr",
     "output_type": "stream",
     "text": [
      "/home/pfgr/anaconda3/envs/h1b/lib/python3.6/site-packages/sklearn/linear_model/stochastic_gradient.py:128: FutureWarning: max_iter and tol parameters have been added in <class 'sklearn.linear_model.stochastic_gradient.SGDRegressor'> in 0.19. If both are left unset, they default to max_iter=5 and tol=None. If tol is not None, max_iter defaults to max_iter=1000. From 0.21, default max_iter will be 1000, and default tol will be 1e-3.\n",
      "  \"and default tol will be 1e-3.\" % type(self), FutureWarning)\n"
     ]
    },
    {
     "name": "stdout",
     "output_type": "stream",
     "text": [
      "SGDRegressor training time: 1454.878s\n"
     ]
    }
   ],
   "source": [
    "for regressor in [regressor_1, regressor_2]:\n",
    "    start = time() #start time\n",
    "    for X_batch, y_batch in iterator:\n",
    "        X_batch_trans = encoder.transform(X_batch)\n",
    "        regressor.partial_fit(X_batch_trans, y_batch)\n",
    "    end = time() #end time\n",
    "    \n",
    "    regressor_name = regressor.__class__.__name__\n",
    "    print(\"%s training time: %.3fs\" %(regressor_name, end-start))\n",
    "    #training_score = regressor.score(X_train, y_train)\n",
    "    X_test_trans = encoder.transform(X_test)\n",
    "    test_score = regressor.score(X_test_trans, y_test)\n",
    "    #print(\"%s R^2 training score: %.4f\" %(regressor_name, training_score))\n",
    "    print(\"%s R^2 test score: %.4f\" %(regressor_name, test_score))\n",
    "    y_pred = regressor.predict(X_test_trans)\n",
    "    mean_error = mean_absolute_error(y_test, y_pred)\n",
    "    print(\"Mean absolute error: {}\".format(mean_error))"
   ]
  },
  {
   "cell_type": "code",
   "execution_count": null,
   "metadata": {},
   "outputs": [],
   "source": [
    "for regressor in [regressor_1, regressor_2]:\n",
    "    start = time() #start time\n",
    "    for X_batch, y_batch in iterator:\n",
    "        regressor.partial_fit(X_batch, y_batch)\n",
    "    end = time() #end time\n",
    "    \n",
    "    regressor_name = regressor.__class__.__name__\n",
    "    #training_score = regressor.score(X_train, y_train)\n",
    "    test_score = regressor.score(X_test, y_test)\n",
    "    print(\"%s training time: %.3fs\" %(regressor_name, end-start))\n",
    "    #print(\"%s R^2 training score: %.4f\" %(regressor_name, training_score))\n",
    "    print(\"%s R^2 test score: %.4f\" %(regressor_name, test_score))\n",
    "    y_pred = regressor.predict(X_test)\n",
    "    mean_error = mean_absolute_error(y_test, y_pred)\n",
    "    print(\"Mean absolute error: {}\".format(mean_error))"
   ]
  },
  {
   "cell_type": "code",
   "execution_count": null,
   "metadata": {},
   "outputs": [],
   "source": [
    "encoder.transform(X[:4])"
   ]
  },
  {
   "cell_type": "code",
   "execution_count": null,
   "metadata": {},
   "outputs": [],
   "source": [
    "X__ = X_.drop(['city'], axis=1)"
   ]
  },
  {
   "cell_type": "code",
   "execution_count": null,
   "metadata": {},
   "outputs": [],
   "source": [
    "pd.get_dummies(X, columns=['county'], drop_first=True)"
   ]
  },
  {
   "cell_type": "code",
   "execution_count": null,
   "metadata": {},
   "outputs": [],
   "source": [
    "np.sum(X.employer.value_counts() <= 10)"
   ]
  },
  {
   "cell_type": "code",
   "execution_count": null,
   "metadata": {},
   "outputs": [],
   "source": [
    "pd.get_dummies(X, columns=['postal_code'], drop_first=True)"
   ]
  }
 ],
 "metadata": {
  "kernelspec": {
   "display_name": "Python 3",
   "language": "python",
   "name": "python3"
  },
  "language_info": {
   "codemirror_mode": {
    "name": "ipython",
    "version": 3
   },
   "file_extension": ".py",
   "mimetype": "text/x-python",
   "name": "python",
   "nbconvert_exporter": "python",
   "pygments_lexer": "ipython3",
   "version": "3.6.4"
  }
 },
 "nbformat": 4,
 "nbformat_minor": 2
}
