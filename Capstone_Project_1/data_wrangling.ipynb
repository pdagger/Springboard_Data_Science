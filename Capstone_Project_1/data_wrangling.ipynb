{
 "cells": [
  {
   "cell_type": "code",
   "execution_count": 1,
   "metadata": {},
   "outputs": [],
   "source": [
    "import pandas as pd\n",
    "import numpy as np\n",
    "import matplotlib.pyplot as plt\n",
    "import seaborn as sns\n",
    "from urllib.request import urlretrieve\n",
    "import xlrd\n",
    "import re"
   ]
  },
  {
   "cell_type": "code",
   "execution_count": null,
   "metadata": {},
   "outputs": [],
   "source": [
    "# #Download data from the source web page\n",
    "# url = 'https://www.foreignlaborcert.doleta.gov/pdf/PerformanceData/2017/H-1B_Disclosure_Data_FY17.xlsx'\n",
    "# urlretrieve(url, './Data/H-1B_Disclosure_Data_FY17.xlsx')"
   ]
  },
  {
   "cell_type": "code",
   "execution_count": 2,
   "metadata": {},
   "outputs": [],
   "source": [
    "#Open excel data file\n",
    "file = './Data/H-1B_Disclosure_Data_FY17_.xlsx'\n",
    "data = pd.ExcelFile(file)"
   ]
  },
  {
   "cell_type": "code",
   "execution_count": 3,
   "metadata": {},
   "outputs": [
    {
     "name": "stdout",
     "output_type": "stream",
     "text": [
      "['PDD_main']\n"
     ]
    }
   ],
   "source": [
    "#Check number of cheets in excel file\n",
    "print(data.sheet_names)"
   ]
  },
  {
   "cell_type": "code",
   "execution_count": 4,
   "metadata": {},
   "outputs": [],
   "source": [
    "#Read data frame from excel sheet\n",
    "df1 = data.parse('PDD_main')"
   ]
  },
  {
   "cell_type": "code",
   "execution_count": 5,
   "metadata": {},
   "outputs": [
    {
     "data": {
      "text/plain": [
       "Index(['CASE_NUMBER', 'CASE_STATUS', 'CASE_SUBMITTED', 'DECISION_DATE',\n",
       "       'VISA_CLASS', 'EMPLOYMENT_START_DATE', 'EMPLOYMENT_END_DATE',\n",
       "       'EMPLOYER_NAME', 'EMPLOYER_BUSINESS_DBA', 'EMPLOYER_ADDRESS',\n",
       "       'EMPLOYER_CITY', 'EMPLOYER_STATE', 'EMPLOYER_POSTAL_CODE',\n",
       "       'EMPLOYER_COUNTRY', 'EMPLOYER_PROVINCE', 'EMPLOYER_PHONE',\n",
       "       'EMPLOYER_PHONE_EXT', 'AGENT_REPRESENTING_EMPLOYER',\n",
       "       'AGENT_ATTORNEY_NAME', 'AGENT_ATTORNEY_CITY', 'AGENT_ATTORNEY_STATE',\n",
       "       'JOB_TITLE', 'SOC_CODE', 'SOC_NAME', 'NAICS_CODE', 'TOTAL_WORKERS',\n",
       "       'NEW_EMPLOYMENT', 'CONTINUED_EMPLOYMENT', 'CHANGE_PREVIOUS_EMPLOYMENT',\n",
       "       'NEW_CONCURRENT_EMPLOYMENT', 'CHANGE_EMPLOYER', 'AMENDED_PETITION',\n",
       "       'FULL_TIME_POSITION', 'PREVAILING_WAGE', 'PW_UNIT_OF_PAY',\n",
       "       'PW_WAGE_LEVEL', 'PW_SOURCE', 'PW_SOURCE_YEAR', 'PW_SOURCE_OTHER',\n",
       "       'WAGE_RATE_OF_PAY_FROM', 'WAGE_RATE_OF_PAY_TO', 'WAGE_UNIT_OF_PAY',\n",
       "       'H1B_DEPENDENT', 'WILLFUL_VIOLATOR', 'SUPPORT_H1B', 'LABOR_CON_AGREE',\n",
       "       'PUBLIC_DISCLOSURE_LOCATION', 'WORKSITE_CITY', 'WORKSITE_COUNTY',\n",
       "       'WORKSITE_STATE', 'WORKSITE_POSTAL_CODE', 'ORIGINAL_CERT_DATE'],\n",
       "      dtype='object')"
      ]
     },
     "execution_count": 5,
     "metadata": {},
     "output_type": "execute_result"
    }
   ],
   "source": [
    "df1.columns"
   ]
  },
  {
   "cell_type": "code",
   "execution_count": 6,
   "metadata": {},
   "outputs": [],
   "source": [
    "#Recover only necesary columns\n",
    "df1_reduced = df1[['EMPLOYER_NAME', 'JOB_TITLE', 'SOC_NAME', 'FULL_TIME_POSITION', \\\n",
    "                   'PREVAILING_WAGE', 'PW_UNIT_OF_PAY', 'WORKSITE_CITY', \\\n",
    "                   'WORKSITE_COUNTY', 'WORKSITE_STATE', 'WORKSITE_POSTAL_CODE']]"
   ]
  },
  {
   "cell_type": "code",
   "execution_count": 7,
   "metadata": {},
   "outputs": [
    {
     "data": {
      "text/html": [
       "<div>\n",
       "<style scoped>\n",
       "    .dataframe tbody tr th:only-of-type {\n",
       "        vertical-align: middle;\n",
       "    }\n",
       "\n",
       "    .dataframe tbody tr th {\n",
       "        vertical-align: top;\n",
       "    }\n",
       "\n",
       "    .dataframe thead th {\n",
       "        text-align: right;\n",
       "    }\n",
       "</style>\n",
       "<table border=\"1\" class=\"dataframe\">\n",
       "  <thead>\n",
       "    <tr style=\"text-align: right;\">\n",
       "      <th></th>\n",
       "      <th>employer</th>\n",
       "      <th>job_title</th>\n",
       "      <th>occupational_name</th>\n",
       "      <th>full_time</th>\n",
       "      <th>prevailing_wage</th>\n",
       "      <th>wage_period</th>\n",
       "      <th>city</th>\n",
       "      <th>county</th>\n",
       "      <th>state</th>\n",
       "      <th>postal_code</th>\n",
       "    </tr>\n",
       "  </thead>\n",
       "  <tbody>\n",
       "    <tr>\n",
       "      <th>0</th>\n",
       "      <td>DISCOVER PRODUCTS INC.</td>\n",
       "      <td>ASSOCIATE DATA INTEGRATION</td>\n",
       "      <td>COMPUTER SYSTEMS ANALYSTS</td>\n",
       "      <td>Y</td>\n",
       "      <td>59197.0</td>\n",
       "      <td>Year</td>\n",
       "      <td>RIVERWOODS</td>\n",
       "      <td>LAKE</td>\n",
       "      <td>IL</td>\n",
       "      <td>60015</td>\n",
       "    </tr>\n",
       "    <tr>\n",
       "      <th>1</th>\n",
       "      <td>DFS SERVICES LLC</td>\n",
       "      <td>SENIOR ASSOCIATE</td>\n",
       "      <td>OPERATIONS RESEARCH ANALYSTS</td>\n",
       "      <td>Y</td>\n",
       "      <td>49800.0</td>\n",
       "      <td>Year</td>\n",
       "      <td>RIVERWOODS</td>\n",
       "      <td>LAKE</td>\n",
       "      <td>IL</td>\n",
       "      <td>60015</td>\n",
       "    </tr>\n",
       "    <tr>\n",
       "      <th>2</th>\n",
       "      <td>EASTBANC TECHNOLOGIES LLC</td>\n",
       "      <td>.NET SOFTWARE PROGRAMMER</td>\n",
       "      <td>COMPUTER PROGRAMMERS</td>\n",
       "      <td>Y</td>\n",
       "      <td>76502.0</td>\n",
       "      <td>Year</td>\n",
       "      <td>WASHINGTON</td>\n",
       "      <td>NaN</td>\n",
       "      <td>DC</td>\n",
       "      <td>20007</td>\n",
       "    </tr>\n",
       "    <tr>\n",
       "      <th>3</th>\n",
       "      <td>INFO SERVICES LLC</td>\n",
       "      <td>PROJECT MANAGER</td>\n",
       "      <td>COMPUTER OCCUPATIONS, ALL OTHER</td>\n",
       "      <td>Y</td>\n",
       "      <td>90376.0</td>\n",
       "      <td>Year</td>\n",
       "      <td>JERSEY CITY</td>\n",
       "      <td>HUDSON</td>\n",
       "      <td>NJ</td>\n",
       "      <td>07302</td>\n",
       "    </tr>\n",
       "    <tr>\n",
       "      <th>4</th>\n",
       "      <td>BB&amp;T CORPORATION</td>\n",
       "      <td>ASSOCIATE - ESOTERIC ASSET BACKED SECURITIES</td>\n",
       "      <td>CREDIT ANALYSTS</td>\n",
       "      <td>Y</td>\n",
       "      <td>116605.0</td>\n",
       "      <td>Year</td>\n",
       "      <td>NEW YORK</td>\n",
       "      <td>NEW YORK</td>\n",
       "      <td>NY</td>\n",
       "      <td>10036</td>\n",
       "    </tr>\n",
       "  </tbody>\n",
       "</table>\n",
       "</div>"
      ],
      "text/plain": [
       "                    employer                                     job_title  \\\n",
       "0     DISCOVER PRODUCTS INC.                    ASSOCIATE DATA INTEGRATION   \n",
       "1           DFS SERVICES LLC                              SENIOR ASSOCIATE   \n",
       "2  EASTBANC TECHNOLOGIES LLC                      .NET SOFTWARE PROGRAMMER   \n",
       "3          INFO SERVICES LLC                               PROJECT MANAGER   \n",
       "4           BB&T CORPORATION  ASSOCIATE - ESOTERIC ASSET BACKED SECURITIES   \n",
       "\n",
       "                 occupational_name full_time  prevailing_wage wage_period  \\\n",
       "0        COMPUTER SYSTEMS ANALYSTS         Y          59197.0        Year   \n",
       "1     OPERATIONS RESEARCH ANALYSTS         Y          49800.0        Year   \n",
       "2             COMPUTER PROGRAMMERS         Y          76502.0        Year   \n",
       "3  COMPUTER OCCUPATIONS, ALL OTHER         Y          90376.0        Year   \n",
       "4                  CREDIT ANALYSTS         Y         116605.0        Year   \n",
       "\n",
       "          city    county state postal_code  \n",
       "0   RIVERWOODS      LAKE    IL       60015  \n",
       "1   RIVERWOODS      LAKE    IL       60015  \n",
       "2   WASHINGTON       NaN    DC       20007  \n",
       "3  JERSEY CITY    HUDSON    NJ       07302  \n",
       "4     NEW YORK  NEW YORK    NY       10036  "
      ]
     },
     "execution_count": 7,
     "metadata": {},
     "output_type": "execute_result"
    }
   ],
   "source": [
    "#Rename columns to meaningful and easier names\n",
    "df1_reduced.columns = ['employer', 'job_title', 'occupational_name', 'full_time', \\\n",
    "                       'prevailing_wage', 'wage_period', 'city', 'county', 'state', \\\n",
    "                       'postal_code']\n",
    "df1_reduced.head()"
   ]
  },
  {
   "cell_type": "code",
   "execution_count": 8,
   "metadata": {},
   "outputs": [
    {
     "name": "stdout",
     "output_type": "stream",
     "text": [
      "<class 'pandas.core.frame.DataFrame'>\n",
      "RangeIndex: 624650 entries, 0 to 624649\n",
      "Data columns (total 10 columns):\n",
      "employer             624594 non-null object\n",
      "job_title            624645 non-null object\n",
      "occupational_name    624647 non-null object\n",
      "full_time            624645 non-null object\n",
      "prevailing_wage      624649 non-null float64\n",
      "wage_period          624604 non-null object\n",
      "city                 624637 non-null object\n",
      "county               623471 non-null object\n",
      "state                624641 non-null object\n",
      "postal_code          624631 non-null object\n",
      "dtypes: float64(1), object(9)\n",
      "memory usage: 47.7+ MB\n"
     ]
    }
   ],
   "source": [
    "df1_reduced.info()"
   ]
  },
  {
   "cell_type": "code",
   "execution_count": 9,
   "metadata": {},
   "outputs": [],
   "source": [
    "#Drop rows with null values and reset index\n",
    "df_drop = df1_reduced.dropna(axis=0, how='any').reset_index(drop=True)"
   ]
  },
  {
   "cell_type": "code",
   "execution_count": 10,
   "metadata": {},
   "outputs": [
    {
     "name": "stdout",
     "output_type": "stream",
     "text": [
      "<class 'pandas.core.frame.DataFrame'>\n",
      "RangeIndex: 623346 entries, 0 to 623345\n",
      "Data columns (total 10 columns):\n",
      "employer             623346 non-null object\n",
      "job_title            623346 non-null object\n",
      "occupational_name    623346 non-null object\n",
      "full_time            623346 non-null object\n",
      "prevailing_wage      623346 non-null float64\n",
      "wage_period          623346 non-null object\n",
      "city                 623346 non-null object\n",
      "county               623346 non-null object\n",
      "state                623346 non-null object\n",
      "postal_code          623346 non-null object\n",
      "dtypes: float64(1), object(9)\n",
      "memory usage: 47.6+ MB\n"
     ]
    }
   ],
   "source": [
    "df_drop.info()"
   ]
  },
  {
   "cell_type": "code",
   "execution_count": 11,
   "metadata": {},
   "outputs": [
    {
     "data": {
      "text/html": [
       "<div>\n",
       "<style scoped>\n",
       "    .dataframe tbody tr th:only-of-type {\n",
       "        vertical-align: middle;\n",
       "    }\n",
       "\n",
       "    .dataframe tbody tr th {\n",
       "        vertical-align: top;\n",
       "    }\n",
       "\n",
       "    .dataframe thead th {\n",
       "        text-align: right;\n",
       "    }\n",
       "</style>\n",
       "<table border=\"1\" class=\"dataframe\">\n",
       "  <thead>\n",
       "    <tr style=\"text-align: right;\">\n",
       "      <th></th>\n",
       "      <th>employer</th>\n",
       "      <th>job_title</th>\n",
       "      <th>occupational_name</th>\n",
       "      <th>full_time</th>\n",
       "      <th>prevailing_wage</th>\n",
       "      <th>wage_period</th>\n",
       "      <th>city</th>\n",
       "      <th>county</th>\n",
       "      <th>state</th>\n",
       "      <th>postal_code</th>\n",
       "    </tr>\n",
       "  </thead>\n",
       "  <tbody>\n",
       "    <tr>\n",
       "      <th>0</th>\n",
       "      <td>DISCOVER PRODUCTS INC.</td>\n",
       "      <td>ASSOCIATE DATA INTEGRATION</td>\n",
       "      <td>COMPUTER SYSTEMS ANALYSTS</td>\n",
       "      <td>Y</td>\n",
       "      <td>59197.0</td>\n",
       "      <td>Year</td>\n",
       "      <td>RIVERWOODS</td>\n",
       "      <td>LAKE</td>\n",
       "      <td>IL</td>\n",
       "      <td>60015</td>\n",
       "    </tr>\n",
       "    <tr>\n",
       "      <th>1</th>\n",
       "      <td>DFS SERVICES LLC</td>\n",
       "      <td>SENIOR ASSOCIATE</td>\n",
       "      <td>OPERATIONS RESEARCH ANALYSTS</td>\n",
       "      <td>Y</td>\n",
       "      <td>49800.0</td>\n",
       "      <td>Year</td>\n",
       "      <td>RIVERWOODS</td>\n",
       "      <td>LAKE</td>\n",
       "      <td>IL</td>\n",
       "      <td>60015</td>\n",
       "    </tr>\n",
       "    <tr>\n",
       "      <th>2</th>\n",
       "      <td>INFO SERVICES LLC</td>\n",
       "      <td>PROJECT MANAGER</td>\n",
       "      <td>COMPUTER OCCUPATIONS, ALL OTHER</td>\n",
       "      <td>Y</td>\n",
       "      <td>90376.0</td>\n",
       "      <td>Year</td>\n",
       "      <td>JERSEY CITY</td>\n",
       "      <td>HUDSON</td>\n",
       "      <td>NJ</td>\n",
       "      <td>07302</td>\n",
       "    </tr>\n",
       "    <tr>\n",
       "      <th>3</th>\n",
       "      <td>BB&amp;T CORPORATION</td>\n",
       "      <td>ASSOCIATE - ESOTERIC ASSET BACKED SECURITIES</td>\n",
       "      <td>CREDIT ANALYSTS</td>\n",
       "      <td>Y</td>\n",
       "      <td>116605.0</td>\n",
       "      <td>Year</td>\n",
       "      <td>NEW YORK</td>\n",
       "      <td>NEW YORK</td>\n",
       "      <td>NY</td>\n",
       "      <td>10036</td>\n",
       "    </tr>\n",
       "    <tr>\n",
       "      <th>4</th>\n",
       "      <td>SUNTRUST BANKS, INC.</td>\n",
       "      <td>CREDIT RISK METRICS SPECIALIST</td>\n",
       "      <td>FINANCIAL SPECIALISTS, ALL OTHER</td>\n",
       "      <td>Y</td>\n",
       "      <td>59405.0</td>\n",
       "      <td>Year</td>\n",
       "      <td>ATLANTA</td>\n",
       "      <td>FULTON</td>\n",
       "      <td>GA</td>\n",
       "      <td>30303</td>\n",
       "    </tr>\n",
       "  </tbody>\n",
       "</table>\n",
       "</div>"
      ],
      "text/plain": [
       "                 employer                                     job_title  \\\n",
       "0  DISCOVER PRODUCTS INC.                    ASSOCIATE DATA INTEGRATION   \n",
       "1        DFS SERVICES LLC                              SENIOR ASSOCIATE   \n",
       "2       INFO SERVICES LLC                               PROJECT MANAGER   \n",
       "3        BB&T CORPORATION  ASSOCIATE - ESOTERIC ASSET BACKED SECURITIES   \n",
       "4    SUNTRUST BANKS, INC.                CREDIT RISK METRICS SPECIALIST   \n",
       "\n",
       "                  occupational_name full_time  prevailing_wage wage_period  \\\n",
       "0         COMPUTER SYSTEMS ANALYSTS         Y          59197.0        Year   \n",
       "1      OPERATIONS RESEARCH ANALYSTS         Y          49800.0        Year   \n",
       "2   COMPUTER OCCUPATIONS, ALL OTHER         Y          90376.0        Year   \n",
       "3                   CREDIT ANALYSTS         Y         116605.0        Year   \n",
       "4  FINANCIAL SPECIALISTS, ALL OTHER         Y          59405.0        Year   \n",
       "\n",
       "          city    county state postal_code  \n",
       "0   RIVERWOODS      LAKE    IL       60015  \n",
       "1   RIVERWOODS      LAKE    IL       60015  \n",
       "2  JERSEY CITY    HUDSON    NJ       07302  \n",
       "3     NEW YORK  NEW YORK    NY       10036  \n",
       "4      ATLANTA    FULTON    GA       30303  "
      ]
     },
     "execution_count": 11,
     "metadata": {},
     "output_type": "execute_result"
    }
   ],
   "source": [
    "df_drop.head()"
   ]
  },
  {
   "cell_type": "code",
   "execution_count": 12,
   "metadata": {},
   "outputs": [],
   "source": [
    "#Cleaning column postal_code\n",
    "i=0\n",
    "to_drop = []\n",
    "for code in df_drop.postal_code:\n",
    "    # Rows with only letters in the postal code to drop\n",
    "    if re.match('[A-Z]', code):\n",
    "        #print(code, data.iloc[i, 4], data.iloc[i, 5], data.iloc[i, 6])\n",
    "        to_drop.append(i)\n",
    "    if len(code) > 5 :\n",
    "        # Keep only first 5 digits of postal code\n",
    "        # Codes can be in 9 digit format with or without '-'\n",
    "        # or with special character after 5th digit\n",
    "        if re.match('[0-9]{5}\\S', code):\n",
    "            df_drop.iloc[i, 7] = code[:5]\n",
    "        # Keep only 5 digits when postal_code starts with special characters\n",
    "        elif re.match('\\S+[0-9]{5}', code):\n",
    "            df_drop.iloc[i, 7] = code[-5:]\n",
    "        # Eliminate space after 5th character    \n",
    "        elif re.match('[0-9]{5} *', code):\n",
    "            df_drop.iloc[i, 7] = code[-5:]\n",
    "        else:\n",
    "            to_drop.append(i)\n",
    "    i += 1\n",
    "df_drop = df_drop.drop(to_drop).reset_index(drop=True)"
   ]
  },
  {
   "cell_type": "code",
   "execution_count": 13,
   "metadata": {},
   "outputs": [
    {
     "name": "stdout",
     "output_type": "stream",
     "text": [
      "<class 'pandas.core.frame.DataFrame'>\n",
      "RangeIndex: 623271 entries, 0 to 623270\n",
      "Data columns (total 10 columns):\n",
      "employer             623271 non-null object\n",
      "job_title            623271 non-null object\n",
      "occupational_name    623271 non-null object\n",
      "full_time            623271 non-null object\n",
      "prevailing_wage      623271 non-null float64\n",
      "wage_period          623271 non-null object\n",
      "city                 623271 non-null object\n",
      "county               623271 non-null object\n",
      "state                623271 non-null object\n",
      "postal_code          623271 non-null object\n",
      "dtypes: float64(1), object(9)\n",
      "memory usage: 47.6+ MB\n"
     ]
    }
   ],
   "source": [
    "df_drop.info()"
   ]
  },
  {
   "cell_type": "code",
   "execution_count": 14,
   "metadata": {},
   "outputs": [
    {
     "data": {
      "text/plain": [
       "array(['Y', 'N'], dtype=object)"
      ]
     },
     "execution_count": 14,
     "metadata": {},
     "output_type": "execute_result"
    }
   ],
   "source": [
    "#Possible values for column full_time\n",
    "df_drop.full_time.unique()"
   ]
  },
  {
   "cell_type": "code",
   "execution_count": 17,
   "metadata": {},
   "outputs": [
    {
     "name": "stdout",
     "output_type": "stream",
     "text": [
      "Number of non full time job applications: 13840\n",
      "Total number of job applications: 623271\n"
     ]
    }
   ],
   "source": [
    "#Total rows corresponding to no full time jobs\n",
    "no_full = len(df_drop[df_drop.full_time == 'N'])\n",
    "total_jobs = len(df_drop)\n",
    "print('Number of non full time job applications: {}'.format(no_full))\n",
    "print('Total number of job applications: {}'.format(total_jobs))"
   ]
  },
  {
   "cell_type": "code",
   "execution_count": 18,
   "metadata": {},
   "outputs": [
    {
     "name": "stdout",
     "output_type": "stream",
     "text": [
      "No full time jobs corresponds to 2.220542909905964% of the total lines in the data frame\n"
     ]
    }
   ],
   "source": [
    "print('No full time jobs corresponds to {}% of the total lines in the data frame'.format(no_full/total_jobs*100))"
   ]
  },
  {
   "cell_type": "code",
   "execution_count": 19,
   "metadata": {},
   "outputs": [
    {
     "data": {
      "text/plain": [
       "Hour    13826\n",
       "Year       14\n",
       "Name: wage_period, dtype: int64"
      ]
     },
     "execution_count": 19,
     "metadata": {},
     "output_type": "execute_result"
    }
   ],
   "source": [
    "#Wage period distribution for non yearly salaries\n",
    "df_drop.wage_period[df_drop.full_time == 'N'].value_counts()"
   ]
  },
  {
   "cell_type": "code",
   "execution_count": 20,
   "metadata": {},
   "outputs": [],
   "source": [
    "#There are only 14 rows with Year value for wage_period, we drop them \n",
    "#and for the others later we are going to\n",
    "#calculate a yearly salary based on their hourly salary\n",
    "drop_list = df_drop.wage_period[(df_drop.full_time == 'N') & \\\n",
    "                                (df_drop.wage_period == 'Year')].index\n",
    "df_drop = df_drop.drop(drop_list)"
   ]
  },
  {
   "cell_type": "code",
   "execution_count": 21,
   "metadata": {},
   "outputs": [
    {
     "data": {
      "text/plain": [
       "623257"
      ]
     },
     "execution_count": 21,
     "metadata": {},
     "output_type": "execute_result"
    }
   ],
   "source": [
    "len(df_drop)"
   ]
  },
  {
   "cell_type": "code",
   "execution_count": 22,
   "metadata": {},
   "outputs": [
    {
     "data": {
      "text/plain": [
       "array(['Year', 'Hour', 'Month', 'Week', 'Bi-Weekly'], dtype=object)"
      ]
     },
     "execution_count": 22,
     "metadata": {},
     "output_type": "execute_result"
    }
   ],
   "source": [
    "#Possible values for wage_period\n",
    "df_drop.wage_period.unique()"
   ]
  },
  {
   "cell_type": "code",
   "execution_count": 23,
   "metadata": {},
   "outputs": [
    {
     "name": "stdout",
     "output_type": "stream",
     "text": [
      "<class 'pandas.core.frame.DataFrame'>\n",
      "Int64Index: 623257 entries, 0 to 623270\n",
      "Data columns (total 10 columns):\n",
      "employer             623257 non-null object\n",
      "job_title            623257 non-null category\n",
      "occupational_name    623257 non-null category\n",
      "full_time            623257 non-null category\n",
      "prevailing_wage      623257 non-null float64\n",
      "wage_period          623257 non-null category\n",
      "city                 623257 non-null object\n",
      "county               623257 non-null object\n",
      "state                623257 non-null category\n",
      "postal_code          623257 non-null category\n",
      "dtypes: category(6), float64(1), object(3)\n",
      "memory usage: 34.3+ MB\n"
     ]
    }
   ],
   "source": [
    "#Change some columns to category type to save memory\n",
    "for col in ['job_title', 'occupational_name', 'full_time', \\\n",
    "            'wage_period', 'state', 'postal_code']:\n",
    "    df_drop[col] = df_drop[col].astype('category')\n",
    "\n",
    "df_drop.info()"
   ]
  },
  {
   "cell_type": "code",
   "execution_count": 24,
   "metadata": {},
   "outputs": [
    {
     "data": {
      "text/html": [
       "<div>\n",
       "<style scoped>\n",
       "    .dataframe tbody tr th:only-of-type {\n",
       "        vertical-align: middle;\n",
       "    }\n",
       "\n",
       "    .dataframe tbody tr th {\n",
       "        vertical-align: top;\n",
       "    }\n",
       "\n",
       "    .dataframe thead th {\n",
       "        text-align: right;\n",
       "    }\n",
       "</style>\n",
       "<table border=\"1\" class=\"dataframe\">\n",
       "  <thead>\n",
       "    <tr style=\"text-align: right;\">\n",
       "      <th></th>\n",
       "      <th>prevailing_wage</th>\n",
       "    </tr>\n",
       "  </thead>\n",
       "  <tbody>\n",
       "    <tr>\n",
       "      <th>count</th>\n",
       "      <td>6.232570e+05</td>\n",
       "    </tr>\n",
       "    <tr>\n",
       "      <th>mean</th>\n",
       "      <td>7.324061e+04</td>\n",
       "    </tr>\n",
       "    <tr>\n",
       "      <th>std</th>\n",
       "      <td>2.576827e+05</td>\n",
       "    </tr>\n",
       "    <tr>\n",
       "      <th>min</th>\n",
       "      <td>0.000000e+00</td>\n",
       "    </tr>\n",
       "    <tr>\n",
       "      <th>25%</th>\n",
       "      <td>5.688000e+04</td>\n",
       "    </tr>\n",
       "    <tr>\n",
       "      <th>50%</th>\n",
       "      <td>7.022100e+04</td>\n",
       "    </tr>\n",
       "    <tr>\n",
       "      <th>75%</th>\n",
       "      <td>8.914900e+04</td>\n",
       "    </tr>\n",
       "    <tr>\n",
       "      <th>max</th>\n",
       "      <td>2.016227e+08</td>\n",
       "    </tr>\n",
       "  </tbody>\n",
       "</table>\n",
       "</div>"
      ],
      "text/plain": [
       "       prevailing_wage\n",
       "count     6.232570e+05\n",
       "mean      7.324061e+04\n",
       "std       2.576827e+05\n",
       "min       0.000000e+00\n",
       "25%       5.688000e+04\n",
       "50%       7.022100e+04\n",
       "75%       8.914900e+04\n",
       "max       2.016227e+08"
      ]
     },
     "execution_count": 24,
     "metadata": {},
     "output_type": "execute_result"
    }
   ],
   "source": [
    "df_drop.describe()"
   ]
  },
  {
   "cell_type": "code",
   "execution_count": 25,
   "metadata": {},
   "outputs": [
    {
     "data": {
      "text/plain": [
       "10"
      ]
     },
     "execution_count": 25,
     "metadata": {},
     "output_type": "execute_result"
    }
   ],
   "source": [
    "#Check how many rows have a zero value\n",
    "len(df_drop[df_drop.prevailing_wage == 0])"
   ]
  },
  {
   "cell_type": "code",
   "execution_count": 26,
   "metadata": {},
   "outputs": [
    {
     "data": {
      "text/html": [
       "<div>\n",
       "<style scoped>\n",
       "    .dataframe tbody tr th:only-of-type {\n",
       "        vertical-align: middle;\n",
       "    }\n",
       "\n",
       "    .dataframe tbody tr th {\n",
       "        vertical-align: top;\n",
       "    }\n",
       "\n",
       "    .dataframe thead th {\n",
       "        text-align: right;\n",
       "    }\n",
       "</style>\n",
       "<table border=\"1\" class=\"dataframe\">\n",
       "  <thead>\n",
       "    <tr style=\"text-align: right;\">\n",
       "      <th></th>\n",
       "      <th>prevailing_wage</th>\n",
       "    </tr>\n",
       "  </thead>\n",
       "  <tbody>\n",
       "    <tr>\n",
       "      <th>count</th>\n",
       "      <td>6.232470e+05</td>\n",
       "    </tr>\n",
       "    <tr>\n",
       "      <th>mean</th>\n",
       "      <td>7.324179e+04</td>\n",
       "    </tr>\n",
       "    <tr>\n",
       "      <th>std</th>\n",
       "      <td>2.576846e+05</td>\n",
       "    </tr>\n",
       "    <tr>\n",
       "      <th>min</th>\n",
       "      <td>7.250000e+00</td>\n",
       "    </tr>\n",
       "    <tr>\n",
       "      <th>25%</th>\n",
       "      <td>5.688800e+04</td>\n",
       "    </tr>\n",
       "    <tr>\n",
       "      <th>50%</th>\n",
       "      <td>7.022100e+04</td>\n",
       "    </tr>\n",
       "    <tr>\n",
       "      <th>75%</th>\n",
       "      <td>8.914950e+04</td>\n",
       "    </tr>\n",
       "    <tr>\n",
       "      <th>max</th>\n",
       "      <td>2.016227e+08</td>\n",
       "    </tr>\n",
       "  </tbody>\n",
       "</table>\n",
       "</div>"
      ],
      "text/plain": [
       "       prevailing_wage\n",
       "count     6.232470e+05\n",
       "mean      7.324179e+04\n",
       "std       2.576846e+05\n",
       "min       7.250000e+00\n",
       "25%       5.688800e+04\n",
       "50%       7.022100e+04\n",
       "75%       8.914950e+04\n",
       "max       2.016227e+08"
      ]
     },
     "execution_count": 26,
     "metadata": {},
     "output_type": "execute_result"
    }
   ],
   "source": [
    "#Drop rows with zero value for prevailing_wage\n",
    "df_drop = df_drop[df_drop.prevailing_wage > 0]\n",
    "df_drop.describe()"
   ]
  },
  {
   "cell_type": "code",
   "execution_count": 27,
   "metadata": {},
   "outputs": [],
   "source": [
    "#Function to change non annual salaries to yearly salaries\n",
    "def annual_salary(row):\n",
    "    if row.wage_period == 'Year': return row.prevailing_wage\n",
    "    if row.wage_period == 'Month': return row.prevailing_wage * 12\n",
    "    if row.wage_period == 'Bi-Weekly': return row.prevailing_wage * 26\n",
    "    if row.wage_period == 'Week': return row.prevailing_wage * 52\n",
    "    if row.wage_period == 'Hour': return row.prevailing_wage * 2080"
   ]
  },
  {
   "cell_type": "code",
   "execution_count": 28,
   "metadata": {},
   "outputs": [],
   "source": [
    "#Convert all salaries to yearly salaries in data frame using \n",
    "#the function annual_salary\n",
    "df_drop.prevailing_wage = df_drop.apply(annual_salary, axis = 1)"
   ]
  },
  {
   "cell_type": "code",
   "execution_count": 29,
   "metadata": {},
   "outputs": [],
   "source": [
    "#Drop wage_period and full_time columns from data frame\n",
    "df_drop = df_drop.drop(['full_time', 'wage_period'], axis=1)"
   ]
  },
  {
   "cell_type": "code",
   "execution_count": 30,
   "metadata": {},
   "outputs": [
    {
     "data": {
      "text/html": [
       "<div>\n",
       "<style scoped>\n",
       "    .dataframe tbody tr th:only-of-type {\n",
       "        vertical-align: middle;\n",
       "    }\n",
       "\n",
       "    .dataframe tbody tr th {\n",
       "        vertical-align: top;\n",
       "    }\n",
       "\n",
       "    .dataframe thead th {\n",
       "        text-align: right;\n",
       "    }\n",
       "</style>\n",
       "<table border=\"1\" class=\"dataframe\">\n",
       "  <thead>\n",
       "    <tr style=\"text-align: right;\">\n",
       "      <th></th>\n",
       "      <th>prevailing_wage</th>\n",
       "    </tr>\n",
       "  </thead>\n",
       "  <tbody>\n",
       "    <tr>\n",
       "      <th>count</th>\n",
       "      <td>6.232470e+05</td>\n",
       "    </tr>\n",
       "    <tr>\n",
       "      <th>mean</th>\n",
       "      <td>9.969498e+04</td>\n",
       "    </tr>\n",
       "    <tr>\n",
       "      <th>std</th>\n",
       "      <td>1.811059e+06</td>\n",
       "    </tr>\n",
       "    <tr>\n",
       "      <th>min</th>\n",
       "      <td>2.558000e+01</td>\n",
       "    </tr>\n",
       "    <tr>\n",
       "      <th>25%</th>\n",
       "      <td>5.953000e+04</td>\n",
       "    </tr>\n",
       "    <tr>\n",
       "      <th>50%</th>\n",
       "      <td>7.178100e+04</td>\n",
       "    </tr>\n",
       "    <tr>\n",
       "      <th>75%</th>\n",
       "      <td>9.035350e+04</td>\n",
       "    </tr>\n",
       "    <tr>\n",
       "      <th>max</th>\n",
       "      <td>4.013610e+08</td>\n",
       "    </tr>\n",
       "  </tbody>\n",
       "</table>\n",
       "</div>"
      ],
      "text/plain": [
       "       prevailing_wage\n",
       "count     6.232470e+05\n",
       "mean      9.969498e+04\n",
       "std       1.811059e+06\n",
       "min       2.558000e+01\n",
       "25%       5.953000e+04\n",
       "50%       7.178100e+04\n",
       "75%       9.035350e+04\n",
       "max       4.013610e+08"
      ]
     },
     "execution_count": 30,
     "metadata": {},
     "output_type": "execute_result"
    }
   ],
   "source": [
    "df_drop.describe()"
   ]
  },
  {
   "cell_type": "code",
   "execution_count": 31,
   "metadata": {},
   "outputs": [
    {
     "name": "stdout",
     "output_type": "stream",
     "text": [
      "There are 127 rows with a salary greater than $1 million\n"
     ]
    }
   ],
   "source": [
    "#Salaries greater than 5 milllion a year can be considered as \n",
    "#input errors\n",
    "print('There are {} rows with a salary greater than \\\n",
    "$1 million'.format(len(df_drop[df_drop.prevailing_wage > 1e+06])))"
   ]
  },
  {
   "cell_type": "code",
   "execution_count": 32,
   "metadata": {},
   "outputs": [
    {
     "data": {
      "text/html": [
       "<div>\n",
       "<style scoped>\n",
       "    .dataframe tbody tr th:only-of-type {\n",
       "        vertical-align: middle;\n",
       "    }\n",
       "\n",
       "    .dataframe tbody tr th {\n",
       "        vertical-align: top;\n",
       "    }\n",
       "\n",
       "    .dataframe thead th {\n",
       "        text-align: right;\n",
       "    }\n",
       "</style>\n",
       "<table border=\"1\" class=\"dataframe\">\n",
       "  <thead>\n",
       "    <tr style=\"text-align: right;\">\n",
       "      <th></th>\n",
       "      <th>prevailing_wage</th>\n",
       "    </tr>\n",
       "  </thead>\n",
       "  <tbody>\n",
       "    <tr>\n",
       "      <th>count</th>\n",
       "      <td>623120.000000</td>\n",
       "    </tr>\n",
       "    <tr>\n",
       "      <th>mean</th>\n",
       "      <td>77234.453497</td>\n",
       "    </tr>\n",
       "    <tr>\n",
       "      <th>std</th>\n",
       "      <td>27531.257474</td>\n",
       "    </tr>\n",
       "    <tr>\n",
       "      <th>min</th>\n",
       "      <td>25.580000</td>\n",
       "    </tr>\n",
       "    <tr>\n",
       "      <th>25%</th>\n",
       "      <td>59530.000000</td>\n",
       "    </tr>\n",
       "    <tr>\n",
       "      <th>50%</th>\n",
       "      <td>71781.000000</td>\n",
       "    </tr>\n",
       "    <tr>\n",
       "      <th>75%</th>\n",
       "      <td>90300.000000</td>\n",
       "    </tr>\n",
       "    <tr>\n",
       "      <th>max</th>\n",
       "      <td>976656.000000</td>\n",
       "    </tr>\n",
       "  </tbody>\n",
       "</table>\n",
       "</div>"
      ],
      "text/plain": [
       "       prevailing_wage\n",
       "count    623120.000000\n",
       "mean      77234.453497\n",
       "std       27531.257474\n",
       "min          25.580000\n",
       "25%       59530.000000\n",
       "50%       71781.000000\n",
       "75%       90300.000000\n",
       "max      976656.000000"
      ]
     },
     "execution_count": 32,
     "metadata": {},
     "output_type": "execute_result"
    }
   ],
   "source": [
    "#We are going to ignore those lines\n",
    "df_drop = df_drop[df_drop.prevailing_wage < 1e+06]\n",
    "df_drop.describe()"
   ]
  },
  {
   "cell_type": "code",
   "execution_count": 33,
   "metadata": {},
   "outputs": [
    {
     "name": "stdout",
     "output_type": "stream",
     "text": [
      "There are 1 rows with a salary smaller than $15000\n"
     ]
    }
   ],
   "source": [
    "print('There are {} rows with a salary smaller than \\\n",
    "$15000'.format(len(df_drop[df_drop.prevailing_wage < 15000])))"
   ]
  },
  {
   "cell_type": "code",
   "execution_count": 34,
   "metadata": {},
   "outputs": [
    {
     "data": {
      "text/html": [
       "<div>\n",
       "<style scoped>\n",
       "    .dataframe tbody tr th:only-of-type {\n",
       "        vertical-align: middle;\n",
       "    }\n",
       "\n",
       "    .dataframe tbody tr th {\n",
       "        vertical-align: top;\n",
       "    }\n",
       "\n",
       "    .dataframe thead th {\n",
       "        text-align: right;\n",
       "    }\n",
       "</style>\n",
       "<table border=\"1\" class=\"dataframe\">\n",
       "  <thead>\n",
       "    <tr style=\"text-align: right;\">\n",
       "      <th></th>\n",
       "      <th>prevailing_wage</th>\n",
       "    </tr>\n",
       "  </thead>\n",
       "  <tbody>\n",
       "    <tr>\n",
       "      <th>count</th>\n",
       "      <td>623119.000000</td>\n",
       "    </tr>\n",
       "    <tr>\n",
       "      <th>mean</th>\n",
       "      <td>77234.577405</td>\n",
       "    </tr>\n",
       "    <tr>\n",
       "      <th>std</th>\n",
       "      <td>27531.105822</td>\n",
       "    </tr>\n",
       "    <tr>\n",
       "      <th>min</th>\n",
       "      <td>15080.000000</td>\n",
       "    </tr>\n",
       "    <tr>\n",
       "      <th>25%</th>\n",
       "      <td>59530.000000</td>\n",
       "    </tr>\n",
       "    <tr>\n",
       "      <th>50%</th>\n",
       "      <td>71781.000000</td>\n",
       "    </tr>\n",
       "    <tr>\n",
       "      <th>75%</th>\n",
       "      <td>90300.000000</td>\n",
       "    </tr>\n",
       "    <tr>\n",
       "      <th>max</th>\n",
       "      <td>976656.000000</td>\n",
       "    </tr>\n",
       "  </tbody>\n",
       "</table>\n",
       "</div>"
      ],
      "text/plain": [
       "       prevailing_wage\n",
       "count    623119.000000\n",
       "mean      77234.577405\n",
       "std       27531.105822\n",
       "min       15080.000000\n",
       "25%       59530.000000\n",
       "50%       71781.000000\n",
       "75%       90300.000000\n",
       "max      976656.000000"
      ]
     },
     "execution_count": 34,
     "metadata": {},
     "output_type": "execute_result"
    }
   ],
   "source": [
    "#We drop that line\n",
    "df_drop = df_drop[df_drop.prevailing_wage > 15000]\n",
    "df_drop.describe()"
   ]
  },
  {
   "cell_type": "code",
   "execution_count": 35,
   "metadata": {},
   "outputs": [
    {
     "name": "stderr",
     "output_type": "stream",
     "text": [
      "/home/pfgr/anaconda3/envs/py3/lib/python3.6/site-packages/seaborn/categorical.py:462: FutureWarning: remove_na is deprecated and is a private function. Do not use.\n",
      "  box_data = remove_na(group_data)\n"
     ]
    },
    {
     "data": {
      "image/png": "[encoded data removed]",
      "text/plain": [
       "<matplotlib.figure.Figure at 0x7f240749cf60>"
      ]
     },
     "metadata": {},
     "output_type": "display_data"
    }
   ],
   "source": [
    "sns.boxplot(data=df_drop)\n",
    "plt.show()"
   ]
  },
  {
   "cell_type": "code",
   "execution_count": 36,
   "metadata": {},
   "outputs": [
    {
     "name": "stdout",
     "output_type": "stream",
     "text": [
      "There are 57 rows with a salary greater than $300000\n"
     ]
    }
   ],
   "source": [
    "print('There are {} rows with a salary greater than \\\n",
    "$300000'.format(len(df_drop[df_drop.prevailing_wage > 300000])))"
   ]
  },
  {
   "cell_type": "code",
   "execution_count": 37,
   "metadata": {},
   "outputs": [
    {
     "name": "stderr",
     "output_type": "stream",
     "text": [
      "/home/pfgr/anaconda3/envs/py3/lib/python3.6/site-packages/seaborn/categorical.py:462: FutureWarning: remove_na is deprecated and is a private function. Do not use.\n",
      "  box_data = remove_na(group_data)\n"
     ]
    },
    {
     "data": {
      "image/png": "[encoded data removed]",
      "text/plain": [
       "<matplotlib.figure.Figure at 0x7f240751e6d8>"
      ]
     },
     "metadata": {},
     "output_type": "display_data"
    }
   ],
   "source": [
    "sns.boxplot(y='prevailing_wage', \\\n",
    "            data=df_drop[df_drop.prevailing_wage < 300000])\n",
    "plt.show()"
   ]
  },
  {
   "cell_type": "code",
   "execution_count": 38,
   "metadata": {},
   "outputs": [],
   "source": [
    "df_clean = df_drop.reset_index(drop=True)"
   ]
  },
  {
   "cell_type": "code",
   "execution_count": 39,
   "metadata": {},
   "outputs": [
    {
     "name": "stdout",
     "output_type": "stream",
     "text": [
      "<class 'pandas.core.frame.DataFrame'>\n",
      "RangeIndex: 623119 entries, 0 to 623118\n",
      "Data columns (total 8 columns):\n",
      "employer             623119 non-null object\n",
      "job_title            623119 non-null category\n",
      "occupational_name    623119 non-null category\n",
      "prevailing_wage      623119 non-null float64\n",
      "city                 623119 non-null object\n",
      "county               623119 non-null object\n",
      "state                623119 non-null category\n",
      "postal_code          623119 non-null category\n",
      "dtypes: category(4), float64(1), object(3)\n",
      "memory usage: 28.4+ MB\n"
     ]
    }
   ],
   "source": [
    "df_clean.info()"
   ]
  },
  {
   "cell_type": "code",
   "execution_count": 40,
   "metadata": {},
   "outputs": [],
   "source": [
    "df_clean.to_csv('./Data/H1B_2017.csv')"
   ]
  },
  {
   "cell_type": "code",
   "execution_count": null,
   "metadata": {},
   "outputs": [],
   "source": []
  }
 ],
 "metadata": {
  "kernelspec": {
   "display_name": "Python 3",
   "language": "python",
   "name": "python3"
  },
  "language_info": {
   "codemirror_mode": {
    "name": "ipython",
    "version": 3
   },
   "file_extension": ".py",
   "mimetype": "text/x-python",
   "name": "python",
   "nbconvert_exporter": "python",
   "pygments_lexer": "ipython3",
   "version": "3.6.3"
  }
 },
 "nbformat": 4,
 "nbformat_minor": 2
}
